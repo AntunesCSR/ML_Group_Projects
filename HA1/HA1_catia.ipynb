{
 "cells": [
  {
   "cell_type": "code",
   "execution_count": 86,
   "metadata": {},
   "outputs": [],
   "source": [
    "import pandas as pd\n",
    "from sklearn.model_selection import train_test_split\n",
    "import matplotlib.pyplot as plt\n",
    "import random\n",
    "\n",
    "\n",
    "# regression models\n",
    "from sklearn.linear_model import LinearRegression\n",
    "from sklearn.linear_model import RidgeCV\n",
    "from sklearn.linear_model import LassoCV\n",
    "from sklearn.linear_model import ElasticNetCV\n",
    "from sklearn.linear_model import LogisticRegressionCV\n",
    "from sklearn.tree import DecisionTreeRegressor, DecisionTreeClassifier, plot_tree\n",
    "from sklearn.metrics import mean_squared_error\n",
    "from sklearn.metrics import mean_absolute_error\n",
    "from sklearn.metrics import r2_score\n",
    "from sklearn.metrics import precision_score, recall_score, f1_score, matthews_corrcoef, confusion_matrix\n"
   ]
  },
  {
   "cell_type": "markdown",
   "metadata": {},
   "source": [
    "# Home Assignment 1 - Regression and Classification Models"
   ]
  },
  {
   "cell_type": "markdown",
   "metadata": {},
   "source": [
    "Aim:\n",
    "\n",
    "    Students should provide the best possible regression and classification models using Decision Trees and Linear models\n",
    "    Models should examine different hyperparameters and select the best one [Remember: everything else being similar, the simplest models should be prefered]\n",
    "    It is expected a full testing and validation cycle of model selection and evaluation\n",
    "\n",
    "Objective 1\n",
    "\n",
    "    Produce the best regression model for critical_temp (Dependent Variable)\n",
    "\n",
    "Objective 2\n",
    "\n",
    "    Produce the best binary classification model assuming as positive all instances with values of critical_temp >= 80.0 and as negatives all remaining cases\n"
   ]
  },
  {
   "cell_type": "markdown",
   "metadata": {},
   "source": [
    "#### 0.1. Data Preparation"
   ]
  },
  {
   "cell_type": "code",
   "execution_count": 87,
   "metadata": {},
   "outputs": [],
   "source": [
    "# Load data\n",
    "df = pd.read_csv(\"HA1-DatasetScaled.tsv\", sep=\"\\t\")"
   ]
  },
  {
   "cell_type": "code",
   "execution_count": 88,
   "metadata": {},
   "outputs": [
    {
     "data": {
      "text/html": [
       "<div>\n",
       "<style scoped>\n",
       "    .dataframe tbody tr th:only-of-type {\n",
       "        vertical-align: middle;\n",
       "    }\n",
       "\n",
       "    .dataframe tbody tr th {\n",
       "        vertical-align: top;\n",
       "    }\n",
       "\n",
       "    .dataframe thead th {\n",
       "        text-align: right;\n",
       "    }\n",
       "</style>\n",
       "<table border=\"1\" class=\"dataframe\">\n",
       "  <thead>\n",
       "    <tr style=\"text-align: right;\">\n",
       "      <th></th>\n",
       "      <th>number_of_elements</th>\n",
       "      <th>mean_atomic_mass</th>\n",
       "      <th>wtd_mean_atomic_mass</th>\n",
       "      <th>gmean_atomic_mass</th>\n",
       "      <th>wtd_gmean_atomic_mass</th>\n",
       "      <th>entropy_atomic_mass</th>\n",
       "      <th>wtd_entropy_atomic_mass</th>\n",
       "      <th>range_atomic_mass</th>\n",
       "      <th>wtd_range_atomic_mass</th>\n",
       "      <th>std_atomic_mass</th>\n",
       "      <th>...</th>\n",
       "      <th>wtd_mean_Valence</th>\n",
       "      <th>gmean_Valence</th>\n",
       "      <th>wtd_gmean_Valence</th>\n",
       "      <th>entropy_Valence</th>\n",
       "      <th>wtd_entropy_Valence</th>\n",
       "      <th>range_Valence</th>\n",
       "      <th>wtd_range_Valence</th>\n",
       "      <th>std_Valence</th>\n",
       "      <th>wtd_std_Valence</th>\n",
       "      <th>critical_temp</th>\n",
       "    </tr>\n",
       "  </thead>\n",
       "  <tbody>\n",
       "    <tr>\n",
       "      <th>0</th>\n",
       "      <td>-2.1737</td>\n",
       "      <td>-2.5469</td>\n",
       "      <td>-1.8316</td>\n",
       "      <td>-1.9110</td>\n",
       "      <td>-1.2742</td>\n",
       "      <td>-3.2043</td>\n",
       "      <td>-2.6712</td>\n",
       "      <td>-2.1218</td>\n",
       "      <td>-1.2523</td>\n",
       "      <td>-2.2206</td>\n",
       "      <td>...</td>\n",
       "      <td>0.7124</td>\n",
       "      <td>0.9014</td>\n",
       "      <td>0.8055</td>\n",
       "      <td>-3.3123</td>\n",
       "      <td>-2.7858</td>\n",
       "      <td>-1.6406</td>\n",
       "      <td>-1.5235</td>\n",
       "      <td>-1.7297</td>\n",
       "      <td>-1.4782</td>\n",
       "      <td>52.0</td>\n",
       "    </tr>\n",
       "    <tr>\n",
       "      <th>1</th>\n",
       "      <td>-2.1737</td>\n",
       "      <td>-2.5469</td>\n",
       "      <td>-1.8316</td>\n",
       "      <td>-1.9110</td>\n",
       "      <td>-1.2742</td>\n",
       "      <td>-3.2043</td>\n",
       "      <td>-2.6712</td>\n",
       "      <td>-2.1218</td>\n",
       "      <td>-1.2523</td>\n",
       "      <td>-2.2206</td>\n",
       "      <td>...</td>\n",
       "      <td>0.7124</td>\n",
       "      <td>0.9014</td>\n",
       "      <td>0.8055</td>\n",
       "      <td>-3.3123</td>\n",
       "      <td>-2.7858</td>\n",
       "      <td>-1.6406</td>\n",
       "      <td>-1.5235</td>\n",
       "      <td>-1.7297</td>\n",
       "      <td>-1.4782</td>\n",
       "      <td>50.0</td>\n",
       "    </tr>\n",
       "    <tr>\n",
       "      <th>2</th>\n",
       "      <td>-2.1737</td>\n",
       "      <td>-2.5469</td>\n",
       "      <td>-1.8316</td>\n",
       "      <td>-1.9110</td>\n",
       "      <td>-1.2742</td>\n",
       "      <td>-3.2043</td>\n",
       "      <td>-2.6712</td>\n",
       "      <td>-2.1218</td>\n",
       "      <td>-1.2523</td>\n",
       "      <td>-2.2206</td>\n",
       "      <td>...</td>\n",
       "      <td>0.7124</td>\n",
       "      <td>0.9014</td>\n",
       "      <td>0.8055</td>\n",
       "      <td>-3.3123</td>\n",
       "      <td>-2.7858</td>\n",
       "      <td>-1.6406</td>\n",
       "      <td>-1.5235</td>\n",
       "      <td>-1.7297</td>\n",
       "      <td>-1.4782</td>\n",
       "      <td>41.5</td>\n",
       "    </tr>\n",
       "    <tr>\n",
       "      <th>3</th>\n",
       "      <td>-2.1737</td>\n",
       "      <td>-2.5469</td>\n",
       "      <td>-1.8316</td>\n",
       "      <td>-1.9110</td>\n",
       "      <td>-1.2742</td>\n",
       "      <td>-3.2043</td>\n",
       "      <td>-2.6712</td>\n",
       "      <td>-2.1218</td>\n",
       "      <td>-1.2523</td>\n",
       "      <td>-2.2206</td>\n",
       "      <td>...</td>\n",
       "      <td>0.7124</td>\n",
       "      <td>0.9014</td>\n",
       "      <td>0.8055</td>\n",
       "      <td>-3.3123</td>\n",
       "      <td>-2.7858</td>\n",
       "      <td>-1.6406</td>\n",
       "      <td>-1.5235</td>\n",
       "      <td>-1.7297</td>\n",
       "      <td>-1.4782</td>\n",
       "      <td>32.0</td>\n",
       "    </tr>\n",
       "    <tr>\n",
       "      <th>4</th>\n",
       "      <td>-2.1737</td>\n",
       "      <td>-1.5994</td>\n",
       "      <td>-0.9850</td>\n",
       "      <td>-1.0041</td>\n",
       "      <td>-0.5006</td>\n",
       "      <td>-3.2043</td>\n",
       "      <td>-2.6712</td>\n",
       "      <td>-2.1218</td>\n",
       "      <td>-1.2523</td>\n",
       "      <td>-2.2206</td>\n",
       "      <td>...</td>\n",
       "      <td>-0.9684</td>\n",
       "      <td>-1.0090</td>\n",
       "      <td>-0.8995</td>\n",
       "      <td>-3.3123</td>\n",
       "      <td>-2.7858</td>\n",
       "      <td>-1.6406</td>\n",
       "      <td>-1.5235</td>\n",
       "      <td>-1.7297</td>\n",
       "      <td>-1.4782</td>\n",
       "      <td>29.0</td>\n",
       "    </tr>\n",
       "  </tbody>\n",
       "</table>\n",
       "<p>5 rows × 82 columns</p>\n",
       "</div>"
      ],
      "text/plain": [
       "   number_of_elements  mean_atomic_mass  wtd_mean_atomic_mass  \\\n",
       "0             -2.1737           -2.5469               -1.8316   \n",
       "1             -2.1737           -2.5469               -1.8316   \n",
       "2             -2.1737           -2.5469               -1.8316   \n",
       "3             -2.1737           -2.5469               -1.8316   \n",
       "4             -2.1737           -1.5994               -0.9850   \n",
       "\n",
       "   gmean_atomic_mass  wtd_gmean_atomic_mass  entropy_atomic_mass  \\\n",
       "0            -1.9110                -1.2742              -3.2043   \n",
       "1            -1.9110                -1.2742              -3.2043   \n",
       "2            -1.9110                -1.2742              -3.2043   \n",
       "3            -1.9110                -1.2742              -3.2043   \n",
       "4            -1.0041                -0.5006              -3.2043   \n",
       "\n",
       "   wtd_entropy_atomic_mass  range_atomic_mass  wtd_range_atomic_mass  \\\n",
       "0                  -2.6712            -2.1218                -1.2523   \n",
       "1                  -2.6712            -2.1218                -1.2523   \n",
       "2                  -2.6712            -2.1218                -1.2523   \n",
       "3                  -2.6712            -2.1218                -1.2523   \n",
       "4                  -2.6712            -2.1218                -1.2523   \n",
       "\n",
       "   std_atomic_mass  ...  wtd_mean_Valence  gmean_Valence  wtd_gmean_Valence  \\\n",
       "0          -2.2206  ...            0.7124         0.9014             0.8055   \n",
       "1          -2.2206  ...            0.7124         0.9014             0.8055   \n",
       "2          -2.2206  ...            0.7124         0.9014             0.8055   \n",
       "3          -2.2206  ...            0.7124         0.9014             0.8055   \n",
       "4          -2.2206  ...           -0.9684        -1.0090            -0.8995   \n",
       "\n",
       "   entropy_Valence  wtd_entropy_Valence  range_Valence  wtd_range_Valence  \\\n",
       "0          -3.3123              -2.7858        -1.6406            -1.5235   \n",
       "1          -3.3123              -2.7858        -1.6406            -1.5235   \n",
       "2          -3.3123              -2.7858        -1.6406            -1.5235   \n",
       "3          -3.3123              -2.7858        -1.6406            -1.5235   \n",
       "4          -3.3123              -2.7858        -1.6406            -1.5235   \n",
       "\n",
       "   std_Valence  wtd_std_Valence  critical_temp  \n",
       "0      -1.7297          -1.4782           52.0  \n",
       "1      -1.7297          -1.4782           50.0  \n",
       "2      -1.7297          -1.4782           41.5  \n",
       "3      -1.7297          -1.4782           32.0  \n",
       "4      -1.7297          -1.4782           29.0  \n",
       "\n",
       "[5 rows x 82 columns]"
      ]
     },
     "execution_count": 88,
     "metadata": {},
     "output_type": "execute_result"
    }
   ],
   "source": [
    "# Check data\n",
    "df.head()"
   ]
  },
  {
   "cell_type": "code",
   "execution_count": 89,
   "metadata": {},
   "outputs": [
    {
     "name": "stdout",
     "output_type": "stream",
     "text": [
      "False\n"
     ]
    }
   ],
   "source": [
    "# Check if any column has a missing value overall (not per row)\n",
    "print(df.isnull().values.any())"
   ]
  },
  {
   "cell_type": "markdown",
   "metadata": {},
   "source": [
    "#### 0.2: Data Splitting"
   ]
  },
  {
   "cell_type": "code",
   "execution_count": 90,
   "metadata": {},
   "outputs": [],
   "source": [
    "# DATA SPLITTING #\n",
    "\n",
    "# Split data into training and test set\n",
    "X_train, X_test, y_train, y_test = train_test_split(df.drop('critical_temp', axis=1), df['critical_temp'], test_size=0.2, random_state=42)\n",
    "\n",
    "# Split data into training and validation set\n",
    "X_train, X_val, y_train, y_val = train_test_split(X_train, y_train, test_size=0.2)\n",
    "\n",
    "# X_train, y_train: Training data\n",
    "# X_test, y_test: Test data\n",
    "# X_val, y_val: Validation data (IVS)"
   ]
  },
  {
   "cell_type": "markdown",
   "metadata": {},
   "source": [
    "### **Objective 1** - Produce the best regression model for critical_temp (Dependent Variable)"
   ]
  },
  {
   "cell_type": "markdown",
   "metadata": {},
   "source": [
    "#### 1.1: Model training and testing\n",
    "\n",
    "In this section we have tested the following models: Linear Regression, Ridge Regression, Lasso Regression and ElasticNet Regression.\n",
    "\n",
    "Linear Regression, as implemented by LinearRegression() in scikit-learn, is a simple linear modeling technique where the goal is to find the coefficients (weights) for each feature in the data such that it minimizes the mean squared error (MSE) between the predicted values and the actual target values. The model is trained using the Ordinary Least Squares (OLS) method, which directly computes the optimal weights without any hyperparameters to tune.\n",
    "Because of this, we will not be able to tune any hyperparameters for Linear Regression. \n",
    "\n",
    "However, we can still use regularization to reduce the complexity of the model and prevent overfitting. For that, we will use Ridge, Lasso and ElasticNet Regressions. In addition, for these models, we used cross-validation (or K-Fold Cross Validation) by setting the parameter cv to 5, which meant the data was split into 5 partitions. Other Parameters, such as alpha (regularization strength) and max_iter (maximum number of iterations), were tested and tuned."
   ]
  },
  {
   "cell_type": "code",
   "execution_count": 91,
   "metadata": {},
   "outputs": [],
   "source": [
    "# 1. LINEAR REGRESSION MODEL #\n",
    "\n",
    "# Train model\n",
    "reg1 = LinearRegression().fit(X_train, y_train)\n",
    "\n",
    "# Predict on test set\n",
    "y_pred1_test = reg1.predict(X_test)"
   ]
  },
  {
   "cell_type": "code",
   "execution_count": 92,
   "metadata": {},
   "outputs": [],
   "source": [
    "# 2. RIDGE REGRESSION MODEL WITH CROSS-VALIDATION (K-Fold Cross Validation) #\n",
    "\n",
    "# Train model\n",
    "reg2 = RidgeCV(cv=5, alphas=[1e-3, 1e-2, 1e-1, 1]).fit(X_train, y_train) # ridge regression with cross-validation and range of alpha values 0.001, 0.01, 0.1, 1\n",
    "\n",
    "# Predict on test set\n",
    "y_pred2_test = reg2.predict(X_test)\n",
    "\n",
    "# Resulting best alpha from cross-validation\n",
    "reg2_best_alpha = reg2.alpha_ "
   ]
  },
  {
   "cell_type": "code",
   "execution_count": 93,
   "metadata": {},
   "outputs": [
    {
     "name": "stderr",
     "output_type": "stream",
     "text": [
      "C:\\Users\\antun\\AppData\\Roaming\\Python\\Python311\\site-packages\\sklearn\\linear_model\\_coordinate_descent.py:617: ConvergenceWarning: Objective did not converge. You might want to increase the number of iterations. Duality gap: 311195.53071404574, tolerance: 1256.2170770929795\n",
      "  model = cd_fast.enet_coordinate_descent_gram(\n",
      "C:\\Users\\antun\\AppData\\Roaming\\Python\\Python311\\site-packages\\sklearn\\linear_model\\_coordinate_descent.py:617: ConvergenceWarning: Objective did not converge. You might want to increase the number of iterations. Duality gap: 9512.59935706202, tolerance: 1261.2842113609845\n",
      "  model = cd_fast.enet_coordinate_descent_gram(\n",
      "C:\\Users\\antun\\AppData\\Roaming\\Python\\Python311\\site-packages\\sklearn\\linear_model\\_coordinate_descent.py:617: ConvergenceWarning: Objective did not converge. You might want to increase the number of iterations. Duality gap: 258045.8501859638, tolerance: 1261.2842113609845\n",
      "  model = cd_fast.enet_coordinate_descent_gram(\n",
      "C:\\Users\\antun\\AppData\\Roaming\\Python\\Python311\\site-packages\\sklearn\\linear_model\\_coordinate_descent.py:617: ConvergenceWarning: Objective did not converge. You might want to increase the number of iterations. Duality gap: 9557.13194123935, tolerance: 1261.9090944947832\n",
      "  model = cd_fast.enet_coordinate_descent_gram(\n",
      "C:\\Users\\antun\\AppData\\Roaming\\Python\\Python311\\site-packages\\sklearn\\linear_model\\_coordinate_descent.py:617: ConvergenceWarning: Objective did not converge. You might want to increase the number of iterations. Duality gap: 301627.121091797, tolerance: 1261.9090944947832\n",
      "  model = cd_fast.enet_coordinate_descent_gram(\n",
      "C:\\Users\\antun\\AppData\\Roaming\\Python\\Python311\\site-packages\\sklearn\\linear_model\\_coordinate_descent.py:617: ConvergenceWarning: Objective did not converge. You might want to increase the number of iterations. Duality gap: 315795.21575301327, tolerance: 1265.3687433491802\n",
      "  model = cd_fast.enet_coordinate_descent_gram(\n",
      "C:\\Users\\antun\\AppData\\Roaming\\Python\\Python311\\site-packages\\sklearn\\linear_model\\_coordinate_descent.py:617: ConvergenceWarning: Objective did not converge. You might want to increase the number of iterations. Duality gap: 223406.5497445371, tolerance: 1254.6615543335001\n",
      "  model = cd_fast.enet_coordinate_descent_gram(\n",
      "C:\\Users\\antun\\AppData\\Roaming\\Python\\Python311\\site-packages\\sklearn\\linear_model\\_coordinate_descent.py:631: ConvergenceWarning: Objective did not converge. You might want to increase the number of iterations, check the scale of the features or consider increasing regularisation. Duality gap: 8.760e+05, tolerance: 1.575e+03\n",
      "  model = cd_fast.enet_coordinate_descent(\n"
     ]
    }
   ],
   "source": [
    "# 3. LASSO REGRESSION MODEL WITH CROSS-VALIDATION (K-Fold Cross Validation) #\n",
    "\n",
    "# Train model\n",
    "reg3 = LassoCV(cv=5, alphas=[1e-3, 1e-2, 1e-1, 1], max_iter=10000).fit(X_train, y_train) # lasso regression with cross-validation and range of alpha values 0.001, 0.01, 0.1, 1\n",
    "\n",
    "# Predict on test set\n",
    "y_pred3_test = reg3.predict(X_test)\n",
    "\n",
    "# Resulting best alpha from cross-validation\n",
    "reg3_best_alpha = reg3.alpha_"
   ]
  },
  {
   "cell_type": "code",
   "execution_count": 99,
   "metadata": {},
   "outputs": [
    {
     "name": "stderr",
     "output_type": "stream",
     "text": [
      "C:\\Users\\antun\\AppData\\Roaming\\Python\\Python311\\site-packages\\sklearn\\linear_model\\_coordinate_descent.py:617: ConvergenceWarning: Objective did not converge. You might want to increase the number of iterations. Duality gap: 5179.873418088537, tolerance: 1256.2170770929795\n",
      "  model = cd_fast.enet_coordinate_descent_gram(\n",
      "C:\\Users\\antun\\AppData\\Roaming\\Python\\Python311\\site-packages\\sklearn\\linear_model\\_coordinate_descent.py:617: ConvergenceWarning: Objective did not converge. You might want to increase the number of iterations. Duality gap: 2384.8335491064936, tolerance: 1261.2842113609845\n",
      "  model = cd_fast.enet_coordinate_descent_gram(\n",
      "C:\\Users\\antun\\AppData\\Roaming\\Python\\Python311\\site-packages\\sklearn\\linear_model\\_coordinate_descent.py:617: ConvergenceWarning: Objective did not converge. You might want to increase the number of iterations. Duality gap: 3530.2440646542236, tolerance: 1261.9090944947832\n",
      "  model = cd_fast.enet_coordinate_descent_gram(\n"
     ]
    }
   ],
   "source": [
    "# 4. LASSO REGRESSION MODEL WITH CROSS-VALIDATION (K-Fold Cross Validation) - With Normalised Features #\n",
    "\n",
    "# Compute statistics from the training set\n",
    "mean_train = X_train.mean()\n",
    "max_min_range_train = X_train.max() - X_train.min()\n",
    "\n",
    "# Normalize the training set\n",
    "X_train_norm = (X_train - mean_train) / max_min_range_train\n",
    "\n",
    "# Normalize the test set using the same statistics from the training set\n",
    "X_test_norm = (X_test - mean_train) / max_min_range_train\n",
    "\n",
    "# Train model\n",
    "reg4 = LassoCV(cv=5, alphas=[1e-3, 1e-2, 1e-1, 1], max_iter=10000).fit(X_train_norm, y_train) # lasso regression with cross-validation and range of alpha values 0.001, 0.01, 0.1, 1\n",
    "\n",
    "# Predict on test set\n",
    "y_pred4_test = reg4.predict(X_test_norm)\n",
    "\n",
    "# Resulting best alpha from cross-validation\n",
    "reg4_best_alpha = reg4.alpha_"
   ]
  },
  {
   "cell_type": "code",
   "execution_count": 95,
   "metadata": {},
   "outputs": [
    {
     "name": "stderr",
     "output_type": "stream",
     "text": [
      "C:\\Users\\antun\\AppData\\Roaming\\Python\\Python311\\site-packages\\sklearn\\linear_model\\_coordinate_descent.py:617: ConvergenceWarning: Objective did not converge. You might want to increase the number of iterations. Duality gap: 3408.6989625431597, tolerance: 1256.2170770929795\n",
      "  model = cd_fast.enet_coordinate_descent_gram(\n",
      "C:\\Users\\antun\\AppData\\Roaming\\Python\\Python311\\site-packages\\sklearn\\linear_model\\_coordinate_descent.py:617: ConvergenceWarning: Objective did not converge. You might want to increase the number of iterations. Duality gap: 4463.218952178489, tolerance: 1261.2842113609845\n",
      "  model = cd_fast.enet_coordinate_descent_gram(\n",
      "C:\\Users\\antun\\AppData\\Roaming\\Python\\Python311\\site-packages\\sklearn\\linear_model\\_coordinate_descent.py:617: ConvergenceWarning: Objective did not converge. You might want to increase the number of iterations. Duality gap: 2556.4780165194534, tolerance: 1261.9090944947832\n",
      "  model = cd_fast.enet_coordinate_descent_gram(\n",
      "C:\\Users\\antun\\AppData\\Roaming\\Python\\Python311\\site-packages\\sklearn\\linear_model\\_coordinate_descent.py:617: ConvergenceWarning: Objective did not converge. You might want to increase the number of iterations. Duality gap: 2515.966769881081, tolerance: 1265.3687433491802\n",
      "  model = cd_fast.enet_coordinate_descent_gram(\n",
      "C:\\Users\\antun\\AppData\\Roaming\\Python\\Python311\\site-packages\\sklearn\\linear_model\\_coordinate_descent.py:617: ConvergenceWarning: Objective did not converge. You might want to increase the number of iterations. Duality gap: 1283.338446803391, tolerance: 1254.6615543335001\n",
      "  model = cd_fast.enet_coordinate_descent_gram(\n",
      "C:\\Users\\antun\\AppData\\Roaming\\Python\\Python311\\site-packages\\sklearn\\linear_model\\_coordinate_descent.py:617: ConvergenceWarning: Objective did not converge. You might want to increase the number of iterations. Duality gap: 30752.844318717252, tolerance: 1256.2170770929795\n",
      "  model = cd_fast.enet_coordinate_descent_gram(\n",
      "C:\\Users\\antun\\AppData\\Roaming\\Python\\Python311\\site-packages\\sklearn\\linear_model\\_coordinate_descent.py:617: ConvergenceWarning: Objective did not converge. You might want to increase the number of iterations. Duality gap: 39142.73332498921, tolerance: 1261.2842113609845\n",
      "  model = cd_fast.enet_coordinate_descent_gram(\n",
      "C:\\Users\\antun\\AppData\\Roaming\\Python\\Python311\\site-packages\\sklearn\\linear_model\\_coordinate_descent.py:617: ConvergenceWarning: Objective did not converge. You might want to increase the number of iterations. Duality gap: 35604.838212220464, tolerance: 1261.9090944947832\n",
      "  model = cd_fast.enet_coordinate_descent_gram(\n",
      "C:\\Users\\antun\\AppData\\Roaming\\Python\\Python311\\site-packages\\sklearn\\linear_model\\_coordinate_descent.py:617: ConvergenceWarning: Objective did not converge. You might want to increase the number of iterations. Duality gap: 35341.23370669084, tolerance: 1265.3687433491802\n",
      "  model = cd_fast.enet_coordinate_descent_gram(\n",
      "C:\\Users\\antun\\AppData\\Roaming\\Python\\Python311\\site-packages\\sklearn\\linear_model\\_coordinate_descent.py:617: ConvergenceWarning: Objective did not converge. You might want to increase the number of iterations. Duality gap: 36452.2347023827, tolerance: 1254.6615543335001\n",
      "  model = cd_fast.enet_coordinate_descent_gram(\n",
      "C:\\Users\\antun\\AppData\\Roaming\\Python\\Python311\\site-packages\\sklearn\\linear_model\\_coordinate_descent.py:617: ConvergenceWarning: Objective did not converge. You might want to increase the number of iterations. Duality gap: 152015.9328026902, tolerance: 1256.2170770929795\n",
      "  model = cd_fast.enet_coordinate_descent_gram(\n",
      "C:\\Users\\antun\\AppData\\Roaming\\Python\\Python311\\site-packages\\sklearn\\linear_model\\_coordinate_descent.py:617: ConvergenceWarning: Objective did not converge. You might want to increase the number of iterations. Duality gap: 126031.63348039193, tolerance: 1261.2842113609845\n",
      "  model = cd_fast.enet_coordinate_descent_gram(\n",
      "C:\\Users\\antun\\AppData\\Roaming\\Python\\Python311\\site-packages\\sklearn\\linear_model\\_coordinate_descent.py:617: ConvergenceWarning: Objective did not converge. You might want to increase the number of iterations. Duality gap: 132942.1474851491, tolerance: 1261.9090944947832\n",
      "  model = cd_fast.enet_coordinate_descent_gram(\n",
      "C:\\Users\\antun\\AppData\\Roaming\\Python\\Python311\\site-packages\\sklearn\\linear_model\\_coordinate_descent.py:617: ConvergenceWarning: Objective did not converge. You might want to increase the number of iterations. Duality gap: 159709.95245240675, tolerance: 1265.3687433491802\n",
      "  model = cd_fast.enet_coordinate_descent_gram(\n",
      "C:\\Users\\antun\\AppData\\Roaming\\Python\\Python311\\site-packages\\sklearn\\linear_model\\_coordinate_descent.py:617: ConvergenceWarning: Objective did not converge. You might want to increase the number of iterations. Duality gap: 160883.8612095574, tolerance: 1254.6615543335001\n",
      "  model = cd_fast.enet_coordinate_descent_gram(\n",
      "C:\\Users\\antun\\AppData\\Roaming\\Python\\Python311\\site-packages\\sklearn\\linear_model\\_coordinate_descent.py:617: ConvergenceWarning: Objective did not converge. You might want to increase the number of iterations. Duality gap: 206361.28380860528, tolerance: 1256.2170770929795\n",
      "  model = cd_fast.enet_coordinate_descent_gram(\n",
      "C:\\Users\\antun\\AppData\\Roaming\\Python\\Python311\\site-packages\\sklearn\\linear_model\\_coordinate_descent.py:617: ConvergenceWarning: Objective did not converge. You might want to increase the number of iterations. Duality gap: 363553.7084157837, tolerance: 1261.2842113609845\n",
      "  model = cd_fast.enet_coordinate_descent_gram(\n",
      "C:\\Users\\antun\\AppData\\Roaming\\Python\\Python311\\site-packages\\sklearn\\linear_model\\_coordinate_descent.py:617: ConvergenceWarning: Objective did not converge. You might want to increase the number of iterations. Duality gap: 220512.9104836085, tolerance: 1261.9090944947832\n",
      "  model = cd_fast.enet_coordinate_descent_gram(\n",
      "C:\\Users\\antun\\AppData\\Roaming\\Python\\Python311\\site-packages\\sklearn\\linear_model\\_coordinate_descent.py:617: ConvergenceWarning: Objective did not converge. You might want to increase the number of iterations. Duality gap: 320390.51349437423, tolerance: 1265.3687433491802\n",
      "  model = cd_fast.enet_coordinate_descent_gram(\n",
      "C:\\Users\\antun\\AppData\\Roaming\\Python\\Python311\\site-packages\\sklearn\\linear_model\\_coordinate_descent.py:617: ConvergenceWarning: Objective did not converge. You might want to increase the number of iterations. Duality gap: 368710.1746276468, tolerance: 1254.6615543335001\n",
      "  model = cd_fast.enet_coordinate_descent_gram(\n",
      "C:\\Users\\antun\\AppData\\Roaming\\Python\\Python311\\site-packages\\sklearn\\linear_model\\_coordinate_descent.py:617: ConvergenceWarning: Objective did not converge. You might want to increase the number of iterations. Duality gap: 311195.53071404574, tolerance: 1256.2170770929795\n",
      "  model = cd_fast.enet_coordinate_descent_gram(\n",
      "C:\\Users\\antun\\AppData\\Roaming\\Python\\Python311\\site-packages\\sklearn\\linear_model\\_coordinate_descent.py:617: ConvergenceWarning: Objective did not converge. You might want to increase the number of iterations. Duality gap: 9512.59935706202, tolerance: 1261.2842113609845\n",
      "  model = cd_fast.enet_coordinate_descent_gram(\n",
      "C:\\Users\\antun\\AppData\\Roaming\\Python\\Python311\\site-packages\\sklearn\\linear_model\\_coordinate_descent.py:617: ConvergenceWarning: Objective did not converge. You might want to increase the number of iterations. Duality gap: 258045.8501859638, tolerance: 1261.2842113609845\n",
      "  model = cd_fast.enet_coordinate_descent_gram(\n",
      "C:\\Users\\antun\\AppData\\Roaming\\Python\\Python311\\site-packages\\sklearn\\linear_model\\_coordinate_descent.py:617: ConvergenceWarning: Objective did not converge. You might want to increase the number of iterations. Duality gap: 9557.13194123935, tolerance: 1261.9090944947832\n",
      "  model = cd_fast.enet_coordinate_descent_gram(\n",
      "C:\\Users\\antun\\AppData\\Roaming\\Python\\Python311\\site-packages\\sklearn\\linear_model\\_coordinate_descent.py:617: ConvergenceWarning: Objective did not converge. You might want to increase the number of iterations. Duality gap: 301627.121091797, tolerance: 1261.9090944947832\n",
      "  model = cd_fast.enet_coordinate_descent_gram(\n",
      "C:\\Users\\antun\\AppData\\Roaming\\Python\\Python311\\site-packages\\sklearn\\linear_model\\_coordinate_descent.py:617: ConvergenceWarning: Objective did not converge. You might want to increase the number of iterations. Duality gap: 315795.21575301327, tolerance: 1265.3687433491802\n",
      "  model = cd_fast.enet_coordinate_descent_gram(\n",
      "C:\\Users\\antun\\AppData\\Roaming\\Python\\Python311\\site-packages\\sklearn\\linear_model\\_coordinate_descent.py:617: ConvergenceWarning: Objective did not converge. You might want to increase the number of iterations. Duality gap: 223406.5497445371, tolerance: 1254.6615543335001\n",
      "  model = cd_fast.enet_coordinate_descent_gram(\n",
      "C:\\Users\\antun\\AppData\\Roaming\\Python\\Python311\\site-packages\\sklearn\\linear_model\\_coordinate_descent.py:631: ConvergenceWarning: Objective did not converge. You might want to increase the number of iterations, check the scale of the features or consider increasing regularisation. Duality gap: 8.760e+05, tolerance: 1.575e+03\n",
      "  model = cd_fast.enet_coordinate_descent(\n"
     ]
    }
   ],
   "source": [
    "# 5. ELASTIC NET REGRESSION MODEL WiTH CROSS-VALIDATION (K-Fold Cross Validation) #\n",
    "\n",
    "# Train model\n",
    "reg5 = ElasticNetCV(cv=5, alphas=[1e-3, 1e-2, 1e-1, 1], l1_ratio=[.1, .5, .7, .9, .95, .99, 1], max_iter=10000).fit(X_train, y_train) # elastic net regression with cross-validation and range of alpha values 0.001, 0.01, 0.1, 1 as well as range of l1_ratio values 0.1, 0.5, 0.7, 0.9, 0.95, 0.99, 1\n",
    "\n",
    "# Predict on test set\n",
    "y_pred5_test = reg5.predict(X_test)\n",
    "\n",
    "# Resulting best alpha from cross-validation\n",
    "reg5_best_alpha = reg5.alpha_\n",
    "\n",
    "# Resulting best l1_ratio from cross-validation\n",
    "reg5_best_l1_ratio = reg5.l1_ratio_"
   ]
  },
  {
   "cell_type": "markdown",
   "metadata": {},
   "source": [
    "*NOTE: The warnings above are the result of models not being able to converge. This is due to the fact that several models with different hyperparameters were tested. The models that did not converge were not used in the final model selection.*"
   ]
  },
  {
   "cell_type": "markdown",
   "metadata": {},
   "source": [
    "#### 1.2: Results"
   ]
  },
  {
   "cell_type": "code",
   "execution_count": 100,
   "metadata": {},
   "outputs": [
    {
     "data": {
      "text/html": [
       "<div>\n",
       "<style scoped>\n",
       "    .dataframe tbody tr th:only-of-type {\n",
       "        vertical-align: middle;\n",
       "    }\n",
       "\n",
       "    .dataframe tbody tr th {\n",
       "        vertical-align: top;\n",
       "    }\n",
       "\n",
       "    .dataframe thead th {\n",
       "        text-align: right;\n",
       "    }\n",
       "</style>\n",
       "<table border=\"1\" class=\"dataframe\">\n",
       "  <thead>\n",
       "    <tr style=\"text-align: right;\">\n",
       "      <th></th>\n",
       "      <th>Model</th>\n",
       "      <th>MSE</th>\n",
       "      <th>MAE</th>\n",
       "      <th>R2</th>\n",
       "      <th>Best Alpha</th>\n",
       "      <th>Best l1_ratio</th>\n",
       "    </tr>\n",
       "  </thead>\n",
       "  <tbody>\n",
       "    <tr>\n",
       "      <th>0</th>\n",
       "      <td>Linear Regression</td>\n",
       "      <td>318.092742</td>\n",
       "      <td>13.505551</td>\n",
       "      <td>0.734226</td>\n",
       "      <td>-</td>\n",
       "      <td>-</td>\n",
       "    </tr>\n",
       "    <tr>\n",
       "      <th>1</th>\n",
       "      <td>Ridge Regression</td>\n",
       "      <td>318.092136</td>\n",
       "      <td>13.505242</td>\n",
       "      <td>0.734226</td>\n",
       "      <td>0.01</td>\n",
       "      <td>-</td>\n",
       "    </tr>\n",
       "    <tr>\n",
       "      <th>2</th>\n",
       "      <td>Lasso Regression</td>\n",
       "      <td>318.213608</td>\n",
       "      <td>13.495286</td>\n",
       "      <td>0.734125</td>\n",
       "      <td>0.001</td>\n",
       "      <td>-</td>\n",
       "    </tr>\n",
       "    <tr>\n",
       "      <th>3</th>\n",
       "      <td>Lasso Regression (Normalised)</td>\n",
       "      <td>319.761793</td>\n",
       "      <td>13.531092</td>\n",
       "      <td>0.732831</td>\n",
       "      <td>0.001</td>\n",
       "      <td>-</td>\n",
       "    </tr>\n",
       "    <tr>\n",
       "      <th>4</th>\n",
       "      <td>ElasticNet Regression</td>\n",
       "      <td>318.213608</td>\n",
       "      <td>13.495286</td>\n",
       "      <td>0.734125</td>\n",
       "      <td>0.001</td>\n",
       "      <td>1.0</td>\n",
       "    </tr>\n",
       "  </tbody>\n",
       "</table>\n",
       "</div>"
      ],
      "text/plain": [
       "                           Model         MSE        MAE        R2 Best Alpha  \\\n",
       "0              Linear Regression  318.092742  13.505551  0.734226          -   \n",
       "1               Ridge Regression  318.092136  13.505242  0.734226       0.01   \n",
       "2               Lasso Regression  318.213608  13.495286  0.734125      0.001   \n",
       "3  Lasso Regression (Normalised)  319.761793  13.531092  0.732831      0.001   \n",
       "4          ElasticNet Regression  318.213608  13.495286  0.734125      0.001   \n",
       "\n",
       "  Best l1_ratio  \n",
       "0             -  \n",
       "1             -  \n",
       "2             -  \n",
       "3             -  \n",
       "4           1.0  "
      ]
     },
     "execution_count": 100,
     "metadata": {},
     "output_type": "execute_result"
    }
   ],
   "source": [
    "# Create data frame\n",
    "df_results = pd.DataFrame(columns=['Model', 'MSE', 'MAE', 'R2', 'Best Alpha', 'Best l1_ratio'])\n",
    "\n",
    "# Create data frames for each model\n",
    "model1 = pd.DataFrame({'Model': 'Linear Regression', 'MSE': mean_squared_error(y_test, y_pred1_test), 'MAE': mean_absolute_error(y_test, y_pred1_test), 'R2': r2_score(y_test, y_pred1_test), 'Best Alpha': '-', 'Best l1_ratio': '-'}, index=[0])\n",
    "model2 = pd.DataFrame({'Model': 'Ridge Regression', 'MSE': mean_squared_error(y_test, y_pred2_test), 'MAE': mean_absolute_error(y_test, y_pred2_test), 'R2': r2_score(y_test, y_pred2_test), 'Best Alpha': reg2_best_alpha, 'Best l1_ratio': '-'}, index=[1])\n",
    "model3 = pd.DataFrame({'Model': 'Lasso Regression', 'MSE': mean_squared_error(y_test, y_pred3_test), 'MAE': mean_absolute_error(y_test, y_pred3_test), 'R2': r2_score(y_test, y_pred3_test), 'Best Alpha': reg3_best_alpha, 'Best l1_ratio': '-'}, index=[2])\n",
    "model4 = pd.DataFrame({'Model': 'Lasso Regression (Normalised)', 'MSE': mean_squared_error(y_test, y_pred4_test), 'MAE': mean_absolute_error(y_test, y_pred4_test), 'R2': r2_score(y_test, y_pred4_test), 'Best Alpha': reg4_best_alpha, 'Best l1_ratio': '-'}, index=[3])\n",
    "model5 = pd.DataFrame({'Model': 'ElasticNet Regression', 'MSE': mean_squared_error(y_test, y_pred5_test), 'MAE': mean_absolute_error(y_test, y_pred5_test), 'R2': r2_score(y_test, y_pred5_test), 'Best Alpha': reg5_best_alpha, 'Best l1_ratio': reg5_best_l1_ratio}, index=[4])\n",
    "\n",
    "# Concatenate the data frames\n",
    "df_results = pd.concat([df_results, model1, model2, model3, model4, model5], ignore_index=True)\n",
    "\n",
    "# Print results\n",
    "df_results"
   ]
  },
  {
   "cell_type": "code",
   "execution_count": 104,
   "metadata": {},
   "outputs": [
    {
     "data": {
      "image/png": "[encoded data removed]",
      "text/plain": [
       "<Figure size 1000x1000 with 6 Axes>"
      ]
     },
     "metadata": {},
     "output_type": "display_data"
    }
   ],
   "source": [
    "# Plots of the models\n",
    "\n",
    "# Create figure\n",
    "fig, axes = plt.subplots(3, 2, figsize=(10, 10))\n",
    "axes = axes.flatten()\n",
    "\n",
    "# List of model names, their predictions, and metrics\n",
    "models = ['Linear Regression', 'Ridge Regression', 'Lasso Regression', 'Lasso Regression - Normalised','Elastic Net Regression']\n",
    "predictions = [y_pred1_test, y_pred2_test, y_pred3_test, y_pred4_test, y_pred5_test]\n",
    "metrics = [\n",
    "    f'MSE: {mean_squared_error(y_test, prediction):.2f}\\nMAE: {mean_absolute_error(y_test, prediction):.2f}\\nR2: {r2_score(y_test, prediction):.2f}'\n",
    "    for prediction in predictions\n",
    "]\n",
    "\n",
    "# Define a list of pastel colors\n",
    "pastel_colors = ['#FFBB78', '#C2C2F0', '#FF796C', '#AB83A1', '#F7B6D2']\n",
    "\n",
    "for i, (model_name, prediction, metric, color) in enumerate(zip(models, predictions, metrics, pastel_colors)):\n",
    "    ax = axes[i]\n",
    "    ax.scatter(y_test, prediction, color=color)\n",
    "    ax.plot(y_test, y_test, color='red')\n",
    "    ax.set_title(model_name)\n",
    "    ax.set_xlabel('True Values')\n",
    "    ax.set_ylabel('Predictions')\n",
    "    ax.text(0.1, 0.9, metric, transform=ax.transAxes, fontsize=10, verticalalignment='top')\n",
    "\n",
    "# Show plot\n",
    "plt.tight_layout()\n",
    "plt.show()"
   ]
  },
  {
   "cell_type": "markdown",
   "metadata": {},
   "source": [
    "MODEL SELECTION:\n",
    "\n",
    "All models exhibited similar metrics, which indicated a consistent level of explanatory power. Normalizing features in Lasso Regression slightly reduced performance but without significant advantages. \n",
    "\n",
    "Lower alpha in Ridge, Lasso and ElasticNet Regressions resulted in better performance, which makes sense since our data has a large number of features (81) and can be prone to overfitting.\n",
    "\n",
    "All models performed similarly well, with very similar metrics. In the end we have decided to prioritize simplicity so the final model selected was the Linear Regression. The Linear Regression model's metrics indicate a well-fitting model and we find it to be competitive with the other models as it doesn't introduce any regularization terms. "
   ]
  },
  {
   "cell_type": "markdown",
   "metadata": {},
   "source": [
    "#### 1.3: Validation"
   ]
  },
  {
   "cell_type": "code",
   "execution_count": 59,
   "metadata": {},
   "outputs": [],
   "source": [
    "# VALIDATION OF THE LINEAR REGRESSION MODEL #   \n",
    "\n",
    "# Predict on validation set\n",
    "y_pred1_val = reg1.predict(X_val)"
   ]
  },
  {
   "cell_type": "code",
   "execution_count": 67,
   "metadata": {},
   "outputs": [
    {
     "data": {
      "text/html": [
       "<div>\n",
       "<style scoped>\n",
       "    .dataframe tbody tr th:only-of-type {\n",
       "        vertical-align: middle;\n",
       "    }\n",
       "\n",
       "    .dataframe tbody tr th {\n",
       "        vertical-align: top;\n",
       "    }\n",
       "\n",
       "    .dataframe thead th {\n",
       "        text-align: right;\n",
       "    }\n",
       "</style>\n",
       "<table border=\"1\" class=\"dataframe\">\n",
       "  <thead>\n",
       "    <tr style=\"text-align: right;\">\n",
       "      <th></th>\n",
       "      <th>Test Set</th>\n",
       "      <th>Validation Set</th>\n",
       "    </tr>\n",
       "    <tr>\n",
       "      <th>Metric</th>\n",
       "      <th></th>\n",
       "      <th></th>\n",
       "    </tr>\n",
       "  </thead>\n",
       "  <tbody>\n",
       "    <tr>\n",
       "      <th>MSE</th>\n",
       "      <td>317.936637</td>\n",
       "      <td>312.181372</td>\n",
       "    </tr>\n",
       "    <tr>\n",
       "      <th>MAE</th>\n",
       "      <td>13.499638</td>\n",
       "      <td>13.316026</td>\n",
       "    </tr>\n",
       "    <tr>\n",
       "      <th>R2</th>\n",
       "      <td>0.734356</td>\n",
       "      <td>0.725766</td>\n",
       "    </tr>\n",
       "  </tbody>\n",
       "</table>\n",
       "</div>"
      ],
      "text/plain": [
       "          Test Set  Validation Set\n",
       "Metric                            \n",
       "MSE     317.936637      312.181372\n",
       "MAE      13.499638       13.316026\n",
       "R2        0.734356        0.725766"
      ]
     },
     "execution_count": 67,
     "metadata": {},
     "output_type": "execute_result"
    }
   ],
   "source": [
    "\n",
    "# Calculate metrics for test set\n",
    "mse_test = mean_squared_error(y_test, y_pred1_test)\n",
    "mae_test = mean_absolute_error(y_test, y_pred1_test)\n",
    "r2_test = r2_score(y_test, y_pred1_test)\n",
    "\n",
    "# Calculate metrics for validation set\n",
    "mse_val = mean_squared_error(y_val, y_pred1_val)\n",
    "mae_val = mean_absolute_error(y_val, y_pred1_val)\n",
    "r2_val = r2_score(y_val, y_pred1_val)\n",
    "\n",
    "# Create a DataFrame to present the metrics\n",
    "metrics_df = pd.DataFrame({\n",
    "    'Metric': ['MSE', 'MAE', 'R2'],\n",
    "    'Test Set': [mse_test, mae_test, r2_test],\n",
    "    'Validation Set': [mse_val, mae_val, r2_val]\n",
    "})\n",
    "\n",
    "# Set the metric column as the index\n",
    "metrics_df.set_index('Metric', inplace=True)\n",
    "\n",
    "# Display the DataFrame\n",
    "metrics_df\n"
   ]
  },
  {
   "cell_type": "markdown",
   "metadata": {},
   "source": [
    "***CONCUSION:*** The metrics on the validation set are reasonably close to those on the test set which suggests that our model is performing consistently and is likely to generalize well to new, unseen data."
   ]
  },
  {
   "cell_type": "markdown",
   "metadata": {},
   "source": [
    "### **Objective 2** - Produce the best binary classification model assuming as positive all instances with values of critical_temp >= 80.0 and as negatives all remaining cases"
   ]
  },
  {
   "cell_type": "markdown",
   "metadata": {
    "collapsed": false
   },
   "source": [
    "Firstly, we need to transform all the target columns to the binary classification problem instances."
   ]
  },
  {
   "cell_type": "code",
   "execution_count": 84,
   "metadata": {
    "collapsed": false
   },
   "outputs": [],
   "source": [
    "def transform_to_binary(x):\n",
    "    return 1 if x >= 80 else 0\n",
    "\n",
    "y_train_bin = y_train.apply(transform_to_binary)\n",
    "y_val_bin = y_val.apply(transform_to_binary)\n",
    "y_test_bin = y_test.apply(transform_to_binary)"
   ]
  },
  {
   "cell_type": "markdown",
   "metadata": {
    "collapsed": false
   },
   "source": [
    "Now, we'll see what's the ratio of the positive and negative class"
   ]
  },
  {
   "cell_type": "code",
   "execution_count": 85,
   "metadata": {
    "collapsed": false
   },
   "outputs": [
    {
     "data": {
      "text/plain": [
       "critical_temp\n",
       "0    11309\n",
       "1     2242\n",
       "Name: count, dtype: int64"
      ]
     },
     "execution_count": 85,
     "metadata": {},
     "output_type": "execute_result"
    }
   ],
   "source": [
    "y_train_bin.value_counts()"
   ]
  },
  {
   "cell_type": "markdown",
   "metadata": {
    "collapsed": false
   },
   "source": [
    "We can see that the data is imbalanced, we have much more negative (0) observations. Therefore, we will use `F1 score` as our main metric."
   ]
  },
  {
   "cell_type": "markdown",
   "metadata": {
    "collapsed": false
   },
   "source": [
    "#### 2.1 Decision tree"
   ]
  },
  {
   "cell_type": "code",
   "execution_count": 86,
   "metadata": {
    "collapsed": false
   },
   "outputs": [],
   "source": [
    "def print_scores(y_true, y_predicted):\n",
    "    print(\"The Precision is: %7.4f\" % precision_score(y_true, y_predicted))\n",
    "    print(\"The Recall is: %7.4f\" % recall_score(y_true, y_predicted))\n",
    "    print(\"The F1 score is: %7.4f\" % f1_score(y_true, y_predicted))\n",
    "    print(\"The Matthews correlation coefficient is: %7.4f\" % matthews_corrcoef(y_true, y_predicted))"
   ]
  },
  {
   "cell_type": "markdown",
   "metadata": {
    "collapsed": false
   },
   "source": [
    "We will explore different values of the following hyperparameters: `min_samples_leaf`, `max_depth`"
   ]
  },
  {
   "cell_type": "code",
   "execution_count": 91,
   "metadata": {
    "collapsed": false
   },
   "outputs": [
    {
     "data": {
      "text/html": [
       "<div>\n",
       "<style scoped>\n",
       "    .dataframe tbody tr th:only-of-type {\n",
       "        vertical-align: middle;\n",
       "    }\n",
       "\n",
       "    .dataframe tbody tr th {\n",
       "        vertical-align: top;\n",
       "    }\n",
       "\n",
       "    .dataframe thead th {\n",
       "        text-align: right;\n",
       "    }\n",
       "</style>\n",
       "<table border=\"1\" class=\"dataframe\">\n",
       "  <thead>\n",
       "    <tr style=\"text-align: right;\">\n",
       "      <th></th>\n",
       "      <th>min_samples_leaf</th>\n",
       "      <th>max_depth</th>\n",
       "      <th>F1</th>\n",
       "    </tr>\n",
       "  </thead>\n",
       "  <tbody>\n",
       "    <tr>\n",
       "      <th>314</th>\n",
       "      <td>6</td>\n",
       "      <td>28</td>\n",
       "      <td>0.802249</td>\n",
       "    </tr>\n",
       "    <tr>\n",
       "      <th>434</th>\n",
       "      <td>6</td>\n",
       "      <td>38</td>\n",
       "      <td>0.797732</td>\n",
       "    </tr>\n",
       "    <tr>\n",
       "      <th>242</th>\n",
       "      <td>6</td>\n",
       "      <td>22</td>\n",
       "      <td>0.797732</td>\n",
       "    </tr>\n",
       "    <tr>\n",
       "      <th>266</th>\n",
       "      <td>6</td>\n",
       "      <td>24</td>\n",
       "      <td>0.797721</td>\n",
       "    </tr>\n",
       "    <tr>\n",
       "      <th>386</th>\n",
       "      <td>6</td>\n",
       "      <td>34</td>\n",
       "      <td>0.796226</td>\n",
       "    </tr>\n",
       "    <tr>\n",
       "      <th>...</th>\n",
       "      <td>...</td>\n",
       "      <td>...</td>\n",
       "      <td>...</td>\n",
       "    </tr>\n",
       "    <tr>\n",
       "      <th>20</th>\n",
       "      <td>42</td>\n",
       "      <td>2</td>\n",
       "      <td>0.294707</td>\n",
       "    </tr>\n",
       "    <tr>\n",
       "      <th>21</th>\n",
       "      <td>44</td>\n",
       "      <td>2</td>\n",
       "      <td>0.294707</td>\n",
       "    </tr>\n",
       "    <tr>\n",
       "      <th>22</th>\n",
       "      <td>46</td>\n",
       "      <td>2</td>\n",
       "      <td>0.294707</td>\n",
       "    </tr>\n",
       "    <tr>\n",
       "      <th>23</th>\n",
       "      <td>48</td>\n",
       "      <td>2</td>\n",
       "      <td>0.294707</td>\n",
       "    </tr>\n",
       "    <tr>\n",
       "      <th>0</th>\n",
       "      <td>2</td>\n",
       "      <td>2</td>\n",
       "      <td>0.294707</td>\n",
       "    </tr>\n",
       "  </tbody>\n",
       "</table>\n",
       "<p>576 rows × 3 columns</p>\n",
       "</div>"
      ],
      "text/plain": [
       "     min_samples_leaf  max_depth        F1\n",
       "314                 6         28  0.802249\n",
       "434                 6         38  0.797732\n",
       "242                 6         22  0.797732\n",
       "266                 6         24  0.797721\n",
       "386                 6         34  0.796226\n",
       "..                ...        ...       ...\n",
       "20                 42          2  0.294707\n",
       "21                 44          2  0.294707\n",
       "22                 46          2  0.294707\n",
       "23                 48          2  0.294707\n",
       "0                   2          2  0.294707\n",
       "\n",
       "[576 rows x 3 columns]"
      ]
     },
     "execution_count": 91,
     "metadata": {},
     "output_type": "execute_result"
    }
   ],
   "source": [
    "min_samples_leaf_values = range(2,50,2)\n",
    "max_depth_values = range(2,50,2)\n",
    "\n",
    "results = {\"min_samples_leaf\": [],\"max_depth\": [], \"F1\": []}\n",
    "\n",
    "for max_depth in max_depth_values:\n",
    "    for min_samples_leaf in min_samples_leaf_values:\n",
    "        model = DecisionTreeClassifier(max_depth=max_depth, min_samples_leaf=min_samples_leaf)\n",
    "        model.fit(X_train, y_train_bin)\n",
    "        y_preds = model.predict(X_val)\n",
    "        f1 = f1_score(y_val_bin, y_preds)\n",
    "\n",
    "        results[\"min_samples_leaf\"].append(min_samples_leaf)\n",
    "        results[\"max_depth\"].append(max_depth)\n",
    "        results[\"F1\"].append(f1)\n",
    "\n",
    "\n",
    "scores_df = pd.DataFrame(results, index=None)\n",
    "scores_df = scores_df.sort_values(by=\"F1\", ascending=False)\n",
    "\n",
    "best_max_depth = scores_df.iloc[0].max_depth\n",
    "best_min_samples_leaf = int(scores_df.iloc[0].min_samples_leaf)\n",
    "\n",
    "scores_df"
   ]
  },
  {
   "cell_type": "markdown",
   "metadata": {
    "collapsed": false
   },
   "source": [
    "We can see that the best combination of hyperparameters is `min_samples_leaf`=6 and `max_depth`=28. When it comes to `min_samples_leaf`, we can be quite sure about this parameter, since all the top 10 best models have it set to 6. However, when it comes to `max_depth`, it varies significantly among the top 10 results and the difference in F1 scores is very small. Therefore, we will explore this parameter a bit deeper.\n",
    "\n",
    "To make sure our model does not overfit, we will compare the results on the training as well as the validation set."
   ]
  },
  {
   "cell_type": "code",
   "execution_count": 112,
   "metadata": {
    "collapsed": false
   },
   "outputs": [
    {
     "data": {
      "image/png": "[encoded data removed]",
      "text/plain": [
       "<Figure size 640x480 with 1 Axes>"
      ]
     },
     "metadata": {},
     "output_type": "display_data"
    }
   ],
   "source": [
    "f1_scores_train = []\n",
    "f1_scores_val = []\n",
    "\n",
    "for max_depth in max_depth_values:\n",
    "    model = DecisionTreeClassifier(max_depth=max_depth, min_samples_leaf=best_min_samples_leaf)\n",
    "    model.fit(X_train, y_train_bin)\n",
    "    y_preds_train = model.predict(X_train)\n",
    "    y_preds_val = model.predict(X_val)\n",
    "    f1_scores_train.append(f1_score(y_train_bin, y_preds_train))\n",
    "    f1_scores_val.append(f1_score(y_val_bin, y_preds_val))\n",
    "\n",
    "plt.plot(max_depth_values, f1_scores_train, label='training set')\n",
    "plt.plot(max_depth_values, f1_scores_val, label='validation set')\n",
    "plt.xlabel('Max Depth')\n",
    "plt.ylabel('F1 Score')\n",
    "plt.legend()\n",
    "plt.grid()\n",
    "plt.show()"
   ]
  },
  {
   "cell_type": "markdown",
   "metadata": {
    "collapsed": false
   },
   "source": [
    "Based on the plot above we can see that the upper bound for the F1 score on the validation set seems to be 0.8. We already get almost the best possible results on the validation set for `max_depth`~14. With increasing the model complexity to bigger max_depth, we don't get any significant improvements. Thus, we can assume that `max_depth`=14 would be enough."
   ]
  },
  {
   "cell_type": "markdown",
   "metadata": {
    "collapsed": false
   },
   "source": [
    "Final model"
   ]
  },
  {
   "cell_type": "code",
   "execution_count": 120,
   "metadata": {
    "collapsed": false
   },
   "outputs": [
    {
     "name": "stdout",
     "output_type": "stream",
     "text": [
      "The F1 score on the validation set is:  0.8007\n",
      "The F1 score on the Independent Validation Set (IVS) is:  0.7779\n"
     ]
    }
   ],
   "source": [
    "best_max_depth = 14\n",
    "\n",
    "model = DecisionTreeClassifier(max_depth=best_max_depth, min_samples_leaf=best_min_samples_leaf)\n",
    "model.fit(X_train, y_train_bin)\n",
    "y_preds_val = model.predict(X_val)\n",
    "y_preds_test = model.predict(X_test)\n",
    "print(\"The F1 score on the validation set is: %7.4f\" % f1_score(y_val_bin, y_preds_val))\n",
    "print(\"The F1 score on the Independent Validation Set (IVS) is: %7.4f\" % f1_score(y_test_bin, y_preds_test))"
   ]
  },
  {
   "cell_type": "markdown",
   "metadata": {
    "collapsed": false
   },
   "source": []
  }
 ],
 "metadata": {
  "kernelspec": {
   "display_name": "Python 3",
   "language": "python",
   "name": "python3"
  },
  "language_info": {
   "codemirror_mode": {
    "name": "ipython",
    "version": 3
   },
   "file_extension": ".py",
   "mimetype": "text/x-python",
   "name": "python",
   "nbconvert_exporter": "python",
   "pygments_lexer": "ipython3",
   "version": "3.11.2"
  },
  "orig_nbformat": 4
 },
 "nbformat": 4,
 "nbformat_minor": 2
}
