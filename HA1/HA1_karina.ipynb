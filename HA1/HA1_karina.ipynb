{
 "cells": [
  {
   "cell_type": "markdown",
   "metadata": {},
   "source": [
    "# Home Assignment 1"
   ]
  },
  {
   "cell_type": "code",
   "execution_count": 9,
   "metadata": {},
   "outputs": [],
   "source": [
    "import pandas as pd\n",
    "import matplotlib.pyplot as plt\n",
    "import numpy as np\n",
    "from sklearn import tree"
   ]
  },
  {
   "cell_type": "code",
   "execution_count": 10,
   "outputs": [
    {
     "data": {
      "text/plain": "   number_of_elements  mean_atomic_mass  wtd_mean_atomic_mass  \\\n0             -2.1737           -2.5469               -1.8316   \n1             -2.1737           -2.5469               -1.8316   \n2             -2.1737           -2.5469               -1.8316   \n3             -2.1737           -2.5469               -1.8316   \n4             -2.1737           -1.5994               -0.9850   \n\n   gmean_atomic_mass  wtd_gmean_atomic_mass  entropy_atomic_mass  \\\n0            -1.9110                -1.2742              -3.2043   \n1            -1.9110                -1.2742              -3.2043   \n2            -1.9110                -1.2742              -3.2043   \n3            -1.9110                -1.2742              -3.2043   \n4            -1.0041                -0.5006              -3.2043   \n\n   wtd_entropy_atomic_mass  range_atomic_mass  wtd_range_atomic_mass  \\\n0                  -2.6712            -2.1218                -1.2523   \n1                  -2.6712            -2.1218                -1.2523   \n2                  -2.6712            -2.1218                -1.2523   \n3                  -2.6712            -2.1218                -1.2523   \n4                  -2.6712            -2.1218                -1.2523   \n\n   std_atomic_mass  ...  wtd_mean_Valence  gmean_Valence  wtd_gmean_Valence  \\\n0          -2.2206  ...            0.7124         0.9014             0.8055   \n1          -2.2206  ...            0.7124         0.9014             0.8055   \n2          -2.2206  ...            0.7124         0.9014             0.8055   \n3          -2.2206  ...            0.7124         0.9014             0.8055   \n4          -2.2206  ...           -0.9684        -1.0090            -0.8995   \n\n   entropy_Valence  wtd_entropy_Valence  range_Valence  wtd_range_Valence  \\\n0          -3.3123              -2.7858        -1.6406            -1.5235   \n1          -3.3123              -2.7858        -1.6406            -1.5235   \n2          -3.3123              -2.7858        -1.6406            -1.5235   \n3          -3.3123              -2.7858        -1.6406            -1.5235   \n4          -3.3123              -2.7858        -1.6406            -1.5235   \n\n   std_Valence  wtd_std_Valence  critical_temp  \n0      -1.7297          -1.4782           52.0  \n1      -1.7297          -1.4782           50.0  \n2      -1.7297          -1.4782           41.5  \n3      -1.7297          -1.4782           32.0  \n4      -1.7297          -1.4782           29.0  \n\n[5 rows x 82 columns]",
      "text/html": "<div>\n<style scoped>\n    .dataframe tbody tr th:only-of-type {\n        vertical-align: middle;\n    }\n\n    .dataframe tbody tr th {\n        vertical-align: top;\n    }\n\n    .dataframe thead th {\n        text-align: right;\n    }\n</style>\n<table border=\"1\" class=\"dataframe\">\n  <thead>\n    <tr style=\"text-align: right;\">\n      <th></th>\n      <th>number_of_elements</th>\n      <th>mean_atomic_mass</th>\n      <th>wtd_mean_atomic_mass</th>\n      <th>gmean_atomic_mass</th>\n      <th>wtd_gmean_atomic_mass</th>\n      <th>entropy_atomic_mass</th>\n      <th>wtd_entropy_atomic_mass</th>\n      <th>range_atomic_mass</th>\n      <th>wtd_range_atomic_mass</th>\n      <th>std_atomic_mass</th>\n      <th>...</th>\n      <th>wtd_mean_Valence</th>\n      <th>gmean_Valence</th>\n      <th>wtd_gmean_Valence</th>\n      <th>entropy_Valence</th>\n      <th>wtd_entropy_Valence</th>\n      <th>range_Valence</th>\n      <th>wtd_range_Valence</th>\n      <th>std_Valence</th>\n      <th>wtd_std_Valence</th>\n      <th>critical_temp</th>\n    </tr>\n  </thead>\n  <tbody>\n    <tr>\n      <th>0</th>\n      <td>-2.1737</td>\n      <td>-2.5469</td>\n      <td>-1.8316</td>\n      <td>-1.9110</td>\n      <td>-1.2742</td>\n      <td>-3.2043</td>\n      <td>-2.6712</td>\n      <td>-2.1218</td>\n      <td>-1.2523</td>\n      <td>-2.2206</td>\n      <td>...</td>\n      <td>0.7124</td>\n      <td>0.9014</td>\n      <td>0.8055</td>\n      <td>-3.3123</td>\n      <td>-2.7858</td>\n      <td>-1.6406</td>\n      <td>-1.5235</td>\n      <td>-1.7297</td>\n      <td>-1.4782</td>\n      <td>52.0</td>\n    </tr>\n    <tr>\n      <th>1</th>\n      <td>-2.1737</td>\n      <td>-2.5469</td>\n      <td>-1.8316</td>\n      <td>-1.9110</td>\n      <td>-1.2742</td>\n      <td>-3.2043</td>\n      <td>-2.6712</td>\n      <td>-2.1218</td>\n      <td>-1.2523</td>\n      <td>-2.2206</td>\n      <td>...</td>\n      <td>0.7124</td>\n      <td>0.9014</td>\n      <td>0.8055</td>\n      <td>-3.3123</td>\n      <td>-2.7858</td>\n      <td>-1.6406</td>\n      <td>-1.5235</td>\n      <td>-1.7297</td>\n      <td>-1.4782</td>\n      <td>50.0</td>\n    </tr>\n    <tr>\n      <th>2</th>\n      <td>-2.1737</td>\n      <td>-2.5469</td>\n      <td>-1.8316</td>\n      <td>-1.9110</td>\n      <td>-1.2742</td>\n      <td>-3.2043</td>\n      <td>-2.6712</td>\n      <td>-2.1218</td>\n      <td>-1.2523</td>\n      <td>-2.2206</td>\n      <td>...</td>\n      <td>0.7124</td>\n      <td>0.9014</td>\n      <td>0.8055</td>\n      <td>-3.3123</td>\n      <td>-2.7858</td>\n      <td>-1.6406</td>\n      <td>-1.5235</td>\n      <td>-1.7297</td>\n      <td>-1.4782</td>\n      <td>41.5</td>\n    </tr>\n    <tr>\n      <th>3</th>\n      <td>-2.1737</td>\n      <td>-2.5469</td>\n      <td>-1.8316</td>\n      <td>-1.9110</td>\n      <td>-1.2742</td>\n      <td>-3.2043</td>\n      <td>-2.6712</td>\n      <td>-2.1218</td>\n      <td>-1.2523</td>\n      <td>-2.2206</td>\n      <td>...</td>\n      <td>0.7124</td>\n      <td>0.9014</td>\n      <td>0.8055</td>\n      <td>-3.3123</td>\n      <td>-2.7858</td>\n      <td>-1.6406</td>\n      <td>-1.5235</td>\n      <td>-1.7297</td>\n      <td>-1.4782</td>\n      <td>32.0</td>\n    </tr>\n    <tr>\n      <th>4</th>\n      <td>-2.1737</td>\n      <td>-1.5994</td>\n      <td>-0.9850</td>\n      <td>-1.0041</td>\n      <td>-0.5006</td>\n      <td>-3.2043</td>\n      <td>-2.6712</td>\n      <td>-2.1218</td>\n      <td>-1.2523</td>\n      <td>-2.2206</td>\n      <td>...</td>\n      <td>-0.9684</td>\n      <td>-1.0090</td>\n      <td>-0.8995</td>\n      <td>-3.3123</td>\n      <td>-2.7858</td>\n      <td>-1.6406</td>\n      <td>-1.5235</td>\n      <td>-1.7297</td>\n      <td>-1.4782</td>\n      <td>29.0</td>\n    </tr>\n  </tbody>\n</table>\n<p>5 rows × 82 columns</p>\n</div>"
     },
     "execution_count": 10,
     "metadata": {},
     "output_type": "execute_result"
    }
   ],
   "source": [
    "df = pd.read_csv(\"HA1-DatasetScaled.tsv\", sep=\"\\t\")\n",
    "df.head()"
   ],
   "metadata": {
    "collapsed": false
   }
  },
  {
   "cell_type": "code",
   "execution_count": 10,
   "outputs": [],
   "source": [],
   "metadata": {
    "collapsed": false
   }
  },
  {
   "cell_type": "markdown",
   "source": [
    "#### Metrics used to measure the quality of the models:\n",
    "-"
   ],
   "metadata": {
    "collapsed": false
   }
  },
  {
   "cell_type": "markdown",
   "source": [
    "#### Separate the dataset into a Training Set and an Independent Validation Set (IVS).\n"
   ],
   "metadata": {
    "collapsed": false
   }
  },
  {
   "cell_type": "markdown",
   "source": [
    "## 1. Regression model"
   ],
   "metadata": {
    "collapsed": false
   }
  },
  {
   "cell_type": "markdown",
   "source": [
    "### 1.1 Decision Tree"
   ],
   "metadata": {
    "collapsed": false
   }
  },
  {
   "cell_type": "code",
   "execution_count": 10,
   "outputs": [],
   "source": [],
   "metadata": {
    "collapsed": false
   }
  },
  {
   "cell_type": "markdown",
   "source": [
    "### 1.2. Linear Model"
   ],
   "metadata": {
    "collapsed": false
   }
  },
  {
   "cell_type": "code",
   "execution_count": 10,
   "outputs": [],
   "source": [],
   "metadata": {
    "collapsed": false
   }
  },
  {
   "cell_type": "markdown",
   "source": [
    "## 2. Binary classification model\n",
    "Assuming:\n",
    "- if `critical_temp >= 80.0` => positive\n",
    "- else => negative"
   ],
   "metadata": {
    "collapsed": false
   }
  },
  {
   "cell_type": "code",
   "execution_count": 10,
   "outputs": [],
   "source": [],
   "metadata": {
    "collapsed": false
   }
  },
  {
   "cell_type": "markdown",
   "source": [
    "### 2.1 Decision Tree"
   ],
   "metadata": {
    "collapsed": false
   }
  },
  {
   "cell_type": "code",
   "execution_count": 10,
   "outputs": [],
   "source": [],
   "metadata": {
    "collapsed": false
   }
  },
  {
   "cell_type": "markdown",
   "source": [
    "### 2.2 Linear Model\n"
   ],
   "metadata": {
    "collapsed": false
   }
  },
  {
   "cell_type": "code",
   "execution_count": 10,
   "outputs": [],
   "source": [],
   "metadata": {
    "collapsed": false
   }
  }
 ],
 "metadata": {
  "language_info": {
   "name": "python"
  },
  "orig_nbformat": 4
 },
 "nbformat": 4,
 "nbformat_minor": 2
}
