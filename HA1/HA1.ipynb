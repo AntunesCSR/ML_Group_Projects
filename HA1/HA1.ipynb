{
 "cells": [
  {
   "cell_type": "code",
<<<<<<< HEAD
   "execution_count": 26,
=======
   "execution_count": 13,
>>>>>>> 99a7684f4614d70b8b575d953dfc0553d2a95310
   "metadata": {},
   "outputs": [],
   "source": [
    "import pandas as pd\n",
    "import matplotlib.pyplot as plt\n",
    "import numpy as np\n",
    "from sklearn.linear_model import LinearRegression, RidgeCV, LassoCV, ElasticNetCV, LogisticRegression\n",
    "from sklearn.model_selection import train_test_split, GridSearchCV, PredefinedSplit\n",
    "from sklearn.tree import DecisionTreeRegressor, DecisionTreeClassifier\n",
    "from sklearn.metrics import mean_squared_error, mean_absolute_error, r2_score, make_scorer, accuracy_score, precision_score, recall_score, f1_score, confusion_matrix"
   ]
  },
  {
   "cell_type": "markdown",
   "metadata": {},
   "source": [
    "# Home Assignment 1 - Regression and Classification Models"
   ]
  },
  {
   "cell_type": "markdown",
   "metadata": {},
   "source": [
    "#### 0.1. Data Preparation"
   ]
  },
  {
   "cell_type": "code",
<<<<<<< HEAD
   "execution_count": 27,
=======
   "execution_count": 14,
>>>>>>> 99a7684f4614d70b8b575d953dfc0553d2a95310
   "metadata": {},
   "outputs": [],
   "source": [
    "# Load data\n",
    "df = pd.read_csv(\"HA1-DatasetScaled.tsv\", sep=\"\\t\")"
   ]
  },
  {
   "cell_type": "code",
   "execution_count": 28,
   "metadata": {},
   "outputs": [
    {
     "data": {
      "text/html": [
       "<div>\n",
       "<style scoped>\n",
       "    .dataframe tbody tr th:only-of-type {\n",
       "        vertical-align: middle;\n",
       "    }\n",
       "\n",
       "    .dataframe tbody tr th {\n",
       "        vertical-align: top;\n",
       "    }\n",
       "\n",
       "    .dataframe thead th {\n",
       "        text-align: right;\n",
       "    }\n",
       "</style>\n",
       "<table border=\"1\" class=\"dataframe\">\n",
       "  <thead>\n",
       "    <tr style=\"text-align: right;\">\n",
       "      <th></th>\n",
       "      <th>number_of_elements</th>\n",
       "      <th>mean_atomic_mass</th>\n",
       "      <th>wtd_mean_atomic_mass</th>\n",
       "      <th>gmean_atomic_mass</th>\n",
       "      <th>wtd_gmean_atomic_mass</th>\n",
       "      <th>entropy_atomic_mass</th>\n",
       "      <th>wtd_entropy_atomic_mass</th>\n",
       "      <th>range_atomic_mass</th>\n",
       "      <th>wtd_range_atomic_mass</th>\n",
       "      <th>std_atomic_mass</th>\n",
       "      <th>...</th>\n",
       "      <th>wtd_mean_Valence</th>\n",
       "      <th>gmean_Valence</th>\n",
       "      <th>wtd_gmean_Valence</th>\n",
       "      <th>entropy_Valence</th>\n",
       "      <th>wtd_entropy_Valence</th>\n",
       "      <th>range_Valence</th>\n",
       "      <th>wtd_range_Valence</th>\n",
       "      <th>std_Valence</th>\n",
       "      <th>wtd_std_Valence</th>\n",
       "      <th>critical_temp</th>\n",
       "    </tr>\n",
       "  </thead>\n",
       "  <tbody>\n",
       "    <tr>\n",
       "      <th>0</th>\n",
       "      <td>-2.1737</td>\n",
       "      <td>-2.5469</td>\n",
       "      <td>-1.8316</td>\n",
       "      <td>-1.9110</td>\n",
       "      <td>-1.2742</td>\n",
       "      <td>-3.2043</td>\n",
       "      <td>-2.6712</td>\n",
       "      <td>-2.1218</td>\n",
       "      <td>-1.2523</td>\n",
       "      <td>-2.2206</td>\n",
       "      <td>...</td>\n",
       "      <td>0.7124</td>\n",
       "      <td>0.9014</td>\n",
       "      <td>0.8055</td>\n",
       "      <td>-3.3123</td>\n",
       "      <td>-2.7858</td>\n",
       "      <td>-1.6406</td>\n",
       "      <td>-1.5235</td>\n",
       "      <td>-1.7297</td>\n",
       "      <td>-1.4782</td>\n",
       "      <td>52.0</td>\n",
       "    </tr>\n",
       "    <tr>\n",
       "      <th>1</th>\n",
       "      <td>-2.1737</td>\n",
       "      <td>-2.5469</td>\n",
       "      <td>-1.8316</td>\n",
       "      <td>-1.9110</td>\n",
       "      <td>-1.2742</td>\n",
       "      <td>-3.2043</td>\n",
       "      <td>-2.6712</td>\n",
       "      <td>-2.1218</td>\n",
       "      <td>-1.2523</td>\n",
       "      <td>-2.2206</td>\n",
       "      <td>...</td>\n",
       "      <td>0.7124</td>\n",
       "      <td>0.9014</td>\n",
       "      <td>0.8055</td>\n",
       "      <td>-3.3123</td>\n",
       "      <td>-2.7858</td>\n",
       "      <td>-1.6406</td>\n",
       "      <td>-1.5235</td>\n",
       "      <td>-1.7297</td>\n",
       "      <td>-1.4782</td>\n",
       "      <td>50.0</td>\n",
       "    </tr>\n",
       "    <tr>\n",
       "      <th>2</th>\n",
       "      <td>-2.1737</td>\n",
       "      <td>-2.5469</td>\n",
       "      <td>-1.8316</td>\n",
       "      <td>-1.9110</td>\n",
       "      <td>-1.2742</td>\n",
       "      <td>-3.2043</td>\n",
       "      <td>-2.6712</td>\n",
       "      <td>-2.1218</td>\n",
       "      <td>-1.2523</td>\n",
       "      <td>-2.2206</td>\n",
       "      <td>...</td>\n",
       "      <td>0.7124</td>\n",
       "      <td>0.9014</td>\n",
       "      <td>0.8055</td>\n",
       "      <td>-3.3123</td>\n",
       "      <td>-2.7858</td>\n",
       "      <td>-1.6406</td>\n",
       "      <td>-1.5235</td>\n",
       "      <td>-1.7297</td>\n",
       "      <td>-1.4782</td>\n",
       "      <td>41.5</td>\n",
       "    </tr>\n",
       "    <tr>\n",
       "      <th>3</th>\n",
       "      <td>-2.1737</td>\n",
       "      <td>-2.5469</td>\n",
       "      <td>-1.8316</td>\n",
       "      <td>-1.9110</td>\n",
       "      <td>-1.2742</td>\n",
       "      <td>-3.2043</td>\n",
       "      <td>-2.6712</td>\n",
       "      <td>-2.1218</td>\n",
       "      <td>-1.2523</td>\n",
       "      <td>-2.2206</td>\n",
       "      <td>...</td>\n",
       "      <td>0.7124</td>\n",
       "      <td>0.9014</td>\n",
       "      <td>0.8055</td>\n",
       "      <td>-3.3123</td>\n",
       "      <td>-2.7858</td>\n",
       "      <td>-1.6406</td>\n",
       "      <td>-1.5235</td>\n",
       "      <td>-1.7297</td>\n",
       "      <td>-1.4782</td>\n",
       "      <td>32.0</td>\n",
       "    </tr>\n",
       "    <tr>\n",
       "      <th>4</th>\n",
       "      <td>-2.1737</td>\n",
       "      <td>-1.5994</td>\n",
       "      <td>-0.9850</td>\n",
       "      <td>-1.0041</td>\n",
       "      <td>-0.5006</td>\n",
       "      <td>-3.2043</td>\n",
       "      <td>-2.6712</td>\n",
       "      <td>-2.1218</td>\n",
       "      <td>-1.2523</td>\n",
       "      <td>-2.2206</td>\n",
       "      <td>...</td>\n",
       "      <td>-0.9684</td>\n",
       "      <td>-1.0090</td>\n",
       "      <td>-0.8995</td>\n",
       "      <td>-3.3123</td>\n",
       "      <td>-2.7858</td>\n",
       "      <td>-1.6406</td>\n",
       "      <td>-1.5235</td>\n",
       "      <td>-1.7297</td>\n",
       "      <td>-1.4782</td>\n",
       "      <td>29.0</td>\n",
       "    </tr>\n",
       "  </tbody>\n",
       "</table>\n",
       "<p>5 rows × 82 columns</p>\n",
       "</div>"
      ],
      "text/plain": [
       "   number_of_elements  mean_atomic_mass  wtd_mean_atomic_mass  \\\n",
       "0             -2.1737           -2.5469               -1.8316   \n",
       "1             -2.1737           -2.5469               -1.8316   \n",
       "2             -2.1737           -2.5469               -1.8316   \n",
       "3             -2.1737           -2.5469               -1.8316   \n",
       "4             -2.1737           -1.5994               -0.9850   \n",
       "\n",
       "   gmean_atomic_mass  wtd_gmean_atomic_mass  entropy_atomic_mass  \\\n",
       "0            -1.9110                -1.2742              -3.2043   \n",
       "1            -1.9110                -1.2742              -3.2043   \n",
       "2            -1.9110                -1.2742              -3.2043   \n",
       "3            -1.9110                -1.2742              -3.2043   \n",
       "4            -1.0041                -0.5006              -3.2043   \n",
       "\n",
       "   wtd_entropy_atomic_mass  range_atomic_mass  wtd_range_atomic_mass  \\\n",
       "0                  -2.6712            -2.1218                -1.2523   \n",
       "1                  -2.6712            -2.1218                -1.2523   \n",
       "2                  -2.6712            -2.1218                -1.2523   \n",
       "3                  -2.6712            -2.1218                -1.2523   \n",
       "4                  -2.6712            -2.1218                -1.2523   \n",
       "\n",
       "   std_atomic_mass  ...  wtd_mean_Valence  gmean_Valence  wtd_gmean_Valence  \\\n",
       "0          -2.2206  ...            0.7124         0.9014             0.8055   \n",
       "1          -2.2206  ...            0.7124         0.9014             0.8055   \n",
       "2          -2.2206  ...            0.7124         0.9014             0.8055   \n",
       "3          -2.2206  ...            0.7124         0.9014             0.8055   \n",
       "4          -2.2206  ...           -0.9684        -1.0090            -0.8995   \n",
       "\n",
       "   entropy_Valence  wtd_entropy_Valence  range_Valence  wtd_range_Valence  \\\n",
       "0          -3.3123              -2.7858        -1.6406            -1.5235   \n",
       "1          -3.3123              -2.7858        -1.6406            -1.5235   \n",
       "2          -3.3123              -2.7858        -1.6406            -1.5235   \n",
       "3          -3.3123              -2.7858        -1.6406            -1.5235   \n",
       "4          -3.3123              -2.7858        -1.6406            -1.5235   \n",
       "\n",
       "   std_Valence  wtd_std_Valence  critical_temp  \n",
       "0      -1.7297          -1.4782           52.0  \n",
       "1      -1.7297          -1.4782           50.0  \n",
       "2      -1.7297          -1.4782           41.5  \n",
       "3      -1.7297          -1.4782           32.0  \n",
       "4      -1.7297          -1.4782           29.0  \n",
       "\n",
       "[5 rows x 82 columns]"
      ]
     },
     "execution_count": 28,
     "metadata": {},
     "output_type": "execute_result"
    }
   ],
   "source": [
    "# Check data\n",
    "df.head()"
   ]
  },
  {
   "cell_type": "code",
   "execution_count": 29,
   "metadata": {},
   "outputs": [
    {
     "name": "stdout",
     "output_type": "stream",
     "text": [
      "False\n"
     ]
    }
   ],
   "source": [
    "# Check if any column has a missing value overall (not per row)\n",
    "print(df.isnull().values.any())"
   ]
  },
  {
   "cell_type": "markdown",
   "metadata": {},
   "source": [
    "#### 0.2: Data Splitting"
   ]
  },
  {
   "cell_type": "code",
<<<<<<< HEAD
   "execution_count": 30,
=======
   "execution_count": 15,
>>>>>>> 99a7684f4614d70b8b575d953dfc0553d2a95310
   "metadata": {},
   "outputs": [],
   "source": [
    "# DATA SPLITTING #\n",
    "\n",
    "# Split data into training and validation set\n",
    "X_train, X_val, y_train, y_val = train_test_split(df.drop('critical_temp', axis=1), df['critical_temp'], test_size=0.2, random_state=42)\n",
    "\n",
    "# Split data into training and test set\n",
    "X_train, X_test, y_train, y_test = train_test_split(X_train, y_train, test_size=0.2)\n",
    "\n",
    "# X_train, y_train: Training data\n",
    "# X_test, y_test: Test data\n",
    "# X_val, y_val: Validation data (IVS)"
   ]
  },
  {
   "cell_type": "markdown",
   "metadata": {},
   "source": [
    "### **Objective 1** - Produce the best regression model for critical_temp (Dependent Variable)"
   ]
  },
  {
   "cell_type": "markdown",
   "metadata": {},
   "source": [
    "#### 1.1: Decision trees"
   ]
  },
  {
   "cell_type": "markdown",
   "metadata": {},
   "source": [
    "We will train the model perform GridSearch on testing set to establish the best hyperparameters min_sample_leaf and max_depth:"
   ]
  },
  {
   "cell_type": "code",
<<<<<<< HEAD
   "execution_count": 31,
=======
   "execution_count": 16,
>>>>>>> 99a7684f4614d70b8b575d953dfc0553d2a95310
   "metadata": {},
   "outputs": [
    {
     "name": "stderr",
     "output_type": "stream",
     "text": [
<<<<<<< HEAD
      "C:\\Users\\antun\\AppData\\Roaming\\Python\\Python311\\site-packages\\sklearn\\model_selection\\_validation.py:378: FitFailedWarning: \n",
=======
      "C:\\Users\\Tasha\\AppData\\Local\\Packages\\PythonSoftwareFoundation.Python.3.11_qbz5n2kfra8p0\\LocalCache\\local-packages\\Python311\\site-packages\\sklearn\\model_selection\\_validation.py:425: FitFailedWarning: \n",
>>>>>>> 99a7684f4614d70b8b575d953dfc0553d2a95310
      "40 fits failed out of a total of 60.\n",
      "The score on these train-test partitions for these parameters will be set to nan.\n",
      "If these failures are not expected, you can try to debug them by setting error_score='raise'.\n",
      "\n",
      "Below are more details about the failures:\n",
      "--------------------------------------------------------------------------------\n",
      "20 fits failed with the following error:\n",
      "Traceback (most recent call last):\n",
<<<<<<< HEAD
      "  File \"C:\\Users\\antun\\AppData\\Roaming\\Python\\Python311\\site-packages\\sklearn\\model_selection\\_validation.py\", line 686, in _fit_and_score\n",
      "    estimator.fit(X_train, y_train, **fit_params)\n",
      "  File \"C:\\Users\\antun\\AppData\\Roaming\\Python\\Python311\\site-packages\\sklearn\\tree\\_classes.py\", line 1247, in fit\n",
      "    super().fit(\n",
      "  File \"C:\\Users\\antun\\AppData\\Roaming\\Python\\Python311\\site-packages\\sklearn\\tree\\_classes.py\", line 177, in fit\n",
      "    self._validate_params()\n",
      "  File \"C:\\Users\\antun\\AppData\\Roaming\\Python\\Python311\\site-packages\\sklearn\\base.py\", line 600, in _validate_params\n",
      "    validate_parameter_constraints(\n",
      "  File \"C:\\Users\\antun\\AppData\\Roaming\\Python\\Python311\\site-packages\\sklearn\\utils\\_param_validation.py\", line 97, in validate_parameter_constraints\n",
      "    raise InvalidParameterError(\n",
      "sklearn.utils._param_validation.InvalidParameterError: The 'criterion' parameter of DecisionTreeRegressor must be a str among {'absolute_error', 'squared_error', 'friedman_mse', 'poisson'}. Got 'mse' instead.\n",
=======
      "  File \"C:\\Users\\Tasha\\AppData\\Local\\Packages\\PythonSoftwareFoundation.Python.3.11_qbz5n2kfra8p0\\LocalCache\\local-packages\\Python311\\site-packages\\sklearn\\model_selection\\_validation.py\", line 729, in _fit_and_score\n",
      "    estimator.fit(X_train, y_train, **fit_params)\n",
      "  File \"C:\\Users\\Tasha\\AppData\\Local\\Packages\\PythonSoftwareFoundation.Python.3.11_qbz5n2kfra8p0\\LocalCache\\local-packages\\Python311\\site-packages\\sklearn\\base.py\", line 1145, in wrapper\n",
      "    estimator._validate_params()\n",
      "  File \"C:\\Users\\Tasha\\AppData\\Local\\Packages\\PythonSoftwareFoundation.Python.3.11_qbz5n2kfra8p0\\LocalCache\\local-packages\\Python311\\site-packages\\sklearn\\base.py\", line 638, in _validate_params\n",
      "    validate_parameter_constraints(\n",
      "  File \"C:\\Users\\Tasha\\AppData\\Local\\Packages\\PythonSoftwareFoundation.Python.3.11_qbz5n2kfra8p0\\LocalCache\\local-packages\\Python311\\site-packages\\sklearn\\utils\\_param_validation.py\", line 95, in validate_parameter_constraints\n",
      "    raise InvalidParameterError(\n",
      "sklearn.utils._param_validation.InvalidParameterError: The 'criterion' parameter of DecisionTreeRegressor must be a str among {'squared_error', 'friedman_mse', 'absolute_error', 'poisson'}. Got 'mse' instead.\n",
>>>>>>> 99a7684f4614d70b8b575d953dfc0553d2a95310
      "\n",
      "--------------------------------------------------------------------------------\n",
      "20 fits failed with the following error:\n",
      "Traceback (most recent call last):\n",
<<<<<<< HEAD
      "  File \"C:\\Users\\antun\\AppData\\Roaming\\Python\\Python311\\site-packages\\sklearn\\model_selection\\_validation.py\", line 686, in _fit_and_score\n",
      "    estimator.fit(X_train, y_train, **fit_params)\n",
      "  File \"C:\\Users\\antun\\AppData\\Roaming\\Python\\Python311\\site-packages\\sklearn\\tree\\_classes.py\", line 1247, in fit\n",
      "    super().fit(\n",
      "  File \"C:\\Users\\antun\\AppData\\Roaming\\Python\\Python311\\site-packages\\sklearn\\tree\\_classes.py\", line 177, in fit\n",
      "    self._validate_params()\n",
      "  File \"C:\\Users\\antun\\AppData\\Roaming\\Python\\Python311\\site-packages\\sklearn\\base.py\", line 600, in _validate_params\n",
      "    validate_parameter_constraints(\n",
      "  File \"C:\\Users\\antun\\AppData\\Roaming\\Python\\Python311\\site-packages\\sklearn\\utils\\_param_validation.py\", line 97, in validate_parameter_constraints\n",
      "    raise InvalidParameterError(\n",
      "sklearn.utils._param_validation.InvalidParameterError: The 'criterion' parameter of DecisionTreeRegressor must be a str among {'absolute_error', 'squared_error', 'friedman_mse', 'poisson'}. Got 'mae' instead.\n",
      "\n",
      "  warnings.warn(some_fits_failed_message, FitFailedWarning)\n",
      "C:\\Users\\antun\\AppData\\Roaming\\Python\\Python311\\site-packages\\sklearn\\model_selection\\_search.py:952: UserWarning: One or more of the test scores are non-finite: [          nan           nan           nan           nan           nan\n",
      "           nan           nan           nan           nan           nan\n",
      "           nan           nan           nan           nan           nan\n",
      "           nan           nan           nan           nan           nan\n",
      " -410.9496523  -410.9496523  -410.9496523  -410.9496523  -370.5121146\n",
      " -370.5121146  -370.5121146  -370.5121146  -333.04056799 -333.04056799\n",
      " -333.60816167 -333.60816167 -282.21612104 -282.22493727 -280.96077694\n",
      " -281.31381682 -244.70345908 -244.2339327  -244.55987584 -245.13321791\n",
=======
      "  File \"C:\\Users\\Tasha\\AppData\\Local\\Packages\\PythonSoftwareFoundation.Python.3.11_qbz5n2kfra8p0\\LocalCache\\local-packages\\Python311\\site-packages\\sklearn\\model_selection\\_validation.py\", line 729, in _fit_and_score\n",
      "    estimator.fit(X_train, y_train, **fit_params)\n",
      "  File \"C:\\Users\\Tasha\\AppData\\Local\\Packages\\PythonSoftwareFoundation.Python.3.11_qbz5n2kfra8p0\\LocalCache\\local-packages\\Python311\\site-packages\\sklearn\\base.py\", line 1145, in wrapper\n",
      "    estimator._validate_params()\n",
      "  File \"C:\\Users\\Tasha\\AppData\\Local\\Packages\\PythonSoftwareFoundation.Python.3.11_qbz5n2kfra8p0\\LocalCache\\local-packages\\Python311\\site-packages\\sklearn\\base.py\", line 638, in _validate_params\n",
      "    validate_parameter_constraints(\n",
      "  File \"C:\\Users\\Tasha\\AppData\\Local\\Packages\\PythonSoftwareFoundation.Python.3.11_qbz5n2kfra8p0\\LocalCache\\local-packages\\Python311\\site-packages\\sklearn\\utils\\_param_validation.py\", line 95, in validate_parameter_constraints\n",
      "    raise InvalidParameterError(\n",
      "sklearn.utils._param_validation.InvalidParameterError: The 'criterion' parameter of DecisionTreeRegressor must be a str among {'squared_error', 'friedman_mse', 'absolute_error', 'poisson'}. Got 'mae' instead.\n",
      "\n",
      "  warnings.warn(some_fits_failed_message, FitFailedWarning)\n",
      "C:\\Users\\Tasha\\AppData\\Local\\Packages\\PythonSoftwareFoundation.Python.3.11_qbz5n2kfra8p0\\LocalCache\\local-packages\\Python311\\site-packages\\sklearn\\model_selection\\_search.py:979: UserWarning: One or more of the test scores are non-finite: [          nan           nan           nan           nan           nan\n",
      "           nan           nan           nan           nan           nan\n",
      "           nan           nan           nan           nan           nan\n",
      "           nan           nan           nan           nan           nan\n",
      " -407.32799625 -407.32799625 -407.32799625 -407.32799625 -367.3604443\n",
      " -367.3604443  -367.3604443  -367.3604443  -312.3796089  -312.32779814\n",
      " -311.86838217 -312.15108405 -266.06176514 -267.02428681 -267.70027105\n",
      " -267.53889853 -228.14362787 -229.23379858 -230.36140922 -230.41415971\n",
>>>>>>> 99a7684f4614d70b8b575d953dfc0553d2a95310
      "           nan           nan           nan           nan           nan\n",
      "           nan           nan           nan           nan           nan\n",
      "           nan           nan           nan           nan           nan\n",
      "           nan           nan           nan           nan           nan]\n",
      "  warnings.warn(\n"
     ]
    }
   ],
   "source": [
    "# Combine train and test data for GridSearchCV\n",
    "X_combined = np.vstack((X_train, X_test))\n",
    "y_combined = np.hstack((y_train, y_test))\n",
    "\n",
    "# Create an array of indices:\n",
    "# -1 indicates the sample is part of the training set\n",
    "# 0 indicates the sample is part of the test set (used for evaluation during GridSearch)\n",
    "test_fold = [-1 for _ in range(X_train.shape[0])] + [0 for _ in range(X_test.shape[0])]\n",
    "ps = PredefinedSplit(test_fold)\n",
    "\n",
    "# Define the regression model\n",
    "dtree_regressor = DecisionTreeRegressor(random_state=1)\n",
    "\n",
    "# Grid of parameters to choose from\n",
    "parameters = {\n",
    "    'max_depth': np.arange(2, 7),\n",
    "    'criterion': ['mse', 'friedman_mse', 'mae'],\n",
    "    'min_samples_leaf': [5, 10, 20, 25]\n",
    "}\n",
    "\n",
    "# Type of scoring used to compare parameter combinations\n",
    "scorer = make_scorer(mean_squared_error, greater_is_better=False)\n",
    "\n",
    "# Run the grid search \n",
    "gridCV = GridSearchCV(dtree_regressor, parameters, scoring=scorer, cv=ps)\n",
    "\n",
    "# Fitting the grid search\n",
    "gridCV.fit(X_combined, y_combined)\n",
    "\n",
    "# Get the best estimator\n",
    "dtree_regressor_best = gridCV.best_estimator_"
   ]
  },
  {
   "cell_type": "markdown",
   "metadata": {},
   "source": [
    "Let's view the results as a table:"
   ]
  },
  {
   "cell_type": "code",
<<<<<<< HEAD
   "execution_count": 33,
   "metadata": {},
   "outputs": [
    {
     "name": "stderr",
     "output_type": "stream",
     "text": [
      "C:\\Users\\antun\\AppData\\Local\\Temp\\ipykernel_14704\\3225674998.py:14: SettingWithCopyWarning: \n",
=======
   "execution_count": 18,
   "metadata": {},
   "outputs": [
    {
     "name": "stdout",
     "output_type": "stream",
     "text": [
      "    Max Depth     Criterion  Min Samples Leaf    Mean MSE\n",
      "36          6  friedman_mse                 5  228.143628\n",
      "37          6  friedman_mse                10  229.233799\n",
      "38          6  friedman_mse                20  230.361409\n",
      "39          6  friedman_mse                25  230.414160\n",
      "32          5  friedman_mse                 5  266.061765\n"
     ]
    },
    {
     "name": "stderr",
     "output_type": "stream",
     "text": [
      "C:\\Users\\Tasha\\AppData\\Local\\Temp\\ipykernel_11196\\2153514816.py:14: SettingWithCopyWarning: \n",
>>>>>>> 99a7684f4614d70b8b575d953dfc0553d2a95310
      "A value is trying to be set on a copy of a slice from a DataFrame.\n",
      "Try using .loc[row_indexer,col_indexer] = value instead\n",
      "\n",
      "See the caveats in the documentation: https://pandas.pydata.org/pandas-docs/stable/user_guide/indexing.html#returning-a-view-versus-a-copy\n",
      "  df_mse['mean_test_score'] = -df_mse['mean_test_score']  # Convert negative MSE to positive\n"
     ]
<<<<<<< HEAD
    },
    {
     "data": {
      "text/html": [
       "<div>\n",
       "<style scoped>\n",
       "    .dataframe tbody tr th:only-of-type {\n",
       "        vertical-align: middle;\n",
       "    }\n",
       "\n",
       "    .dataframe tbody tr th {\n",
       "        vertical-align: top;\n",
       "    }\n",
       "\n",
       "    .dataframe thead th {\n",
       "        text-align: right;\n",
       "    }\n",
       "</style>\n",
       "<table border=\"1\" class=\"dataframe\">\n",
       "  <thead>\n",
       "    <tr style=\"text-align: right;\">\n",
       "      <th></th>\n",
       "      <th>Max Depth</th>\n",
       "      <th>Criterion</th>\n",
       "      <th>Min Samples Leaf</th>\n",
       "      <th>MSE</th>\n",
       "    </tr>\n",
       "  </thead>\n",
       "  <tbody>\n",
       "    <tr>\n",
       "      <th>37</th>\n",
       "      <td>6</td>\n",
       "      <td>friedman_mse</td>\n",
       "      <td>10</td>\n",
       "      <td>244.233933</td>\n",
       "    </tr>\n",
       "    <tr>\n",
       "      <th>38</th>\n",
       "      <td>6</td>\n",
       "      <td>friedman_mse</td>\n",
       "      <td>20</td>\n",
       "      <td>244.559876</td>\n",
       "    </tr>\n",
       "    <tr>\n",
       "      <th>36</th>\n",
       "      <td>6</td>\n",
       "      <td>friedman_mse</td>\n",
       "      <td>5</td>\n",
       "      <td>244.703459</td>\n",
       "    </tr>\n",
       "    <tr>\n",
       "      <th>39</th>\n",
       "      <td>6</td>\n",
       "      <td>friedman_mse</td>\n",
       "      <td>25</td>\n",
       "      <td>245.133218</td>\n",
       "    </tr>\n",
       "    <tr>\n",
       "      <th>34</th>\n",
       "      <td>5</td>\n",
       "      <td>friedman_mse</td>\n",
       "      <td>20</td>\n",
       "      <td>280.960777</td>\n",
       "    </tr>\n",
       "    <tr>\n",
       "      <th>35</th>\n",
       "      <td>5</td>\n",
       "      <td>friedman_mse</td>\n",
       "      <td>25</td>\n",
       "      <td>281.313817</td>\n",
       "    </tr>\n",
       "    <tr>\n",
       "      <th>32</th>\n",
       "      <td>5</td>\n",
       "      <td>friedman_mse</td>\n",
       "      <td>5</td>\n",
       "      <td>282.216121</td>\n",
       "    </tr>\n",
       "    <tr>\n",
       "      <th>33</th>\n",
       "      <td>5</td>\n",
       "      <td>friedman_mse</td>\n",
       "      <td>10</td>\n",
       "      <td>282.224937</td>\n",
       "    </tr>\n",
       "    <tr>\n",
       "      <th>29</th>\n",
       "      <td>4</td>\n",
       "      <td>friedman_mse</td>\n",
       "      <td>10</td>\n",
       "      <td>333.040568</td>\n",
       "    </tr>\n",
       "    <tr>\n",
       "      <th>28</th>\n",
       "      <td>4</td>\n",
       "      <td>friedman_mse</td>\n",
       "      <td>5</td>\n",
       "      <td>333.040568</td>\n",
       "    </tr>\n",
       "    <tr>\n",
       "      <th>30</th>\n",
       "      <td>4</td>\n",
       "      <td>friedman_mse</td>\n",
       "      <td>20</td>\n",
       "      <td>333.608162</td>\n",
       "    </tr>\n",
       "    <tr>\n",
       "      <th>31</th>\n",
       "      <td>4</td>\n",
       "      <td>friedman_mse</td>\n",
       "      <td>25</td>\n",
       "      <td>333.608162</td>\n",
       "    </tr>\n",
       "    <tr>\n",
       "      <th>27</th>\n",
       "      <td>3</td>\n",
       "      <td>friedman_mse</td>\n",
       "      <td>25</td>\n",
       "      <td>370.512115</td>\n",
       "    </tr>\n",
       "    <tr>\n",
       "      <th>26</th>\n",
       "      <td>3</td>\n",
       "      <td>friedman_mse</td>\n",
       "      <td>20</td>\n",
       "      <td>370.512115</td>\n",
       "    </tr>\n",
       "    <tr>\n",
       "      <th>25</th>\n",
       "      <td>3</td>\n",
       "      <td>friedman_mse</td>\n",
       "      <td>10</td>\n",
       "      <td>370.512115</td>\n",
       "    </tr>\n",
       "    <tr>\n",
       "      <th>24</th>\n",
       "      <td>3</td>\n",
       "      <td>friedman_mse</td>\n",
       "      <td>5</td>\n",
       "      <td>370.512115</td>\n",
       "    </tr>\n",
       "    <tr>\n",
       "      <th>23</th>\n",
       "      <td>2</td>\n",
       "      <td>friedman_mse</td>\n",
       "      <td>25</td>\n",
       "      <td>410.949652</td>\n",
       "    </tr>\n",
       "    <tr>\n",
       "      <th>22</th>\n",
       "      <td>2</td>\n",
       "      <td>friedman_mse</td>\n",
       "      <td>20</td>\n",
       "      <td>410.949652</td>\n",
       "    </tr>\n",
       "    <tr>\n",
       "      <th>21</th>\n",
       "      <td>2</td>\n",
       "      <td>friedman_mse</td>\n",
       "      <td>10</td>\n",
       "      <td>410.949652</td>\n",
       "    </tr>\n",
       "    <tr>\n",
       "      <th>20</th>\n",
       "      <td>2</td>\n",
       "      <td>friedman_mse</td>\n",
       "      <td>5</td>\n",
       "      <td>410.949652</td>\n",
       "    </tr>\n",
       "  </tbody>\n",
       "</table>\n",
       "</div>"
      ],
      "text/plain": [
       "    Max Depth     Criterion  Min Samples Leaf         MSE\n",
       "37          6  friedman_mse                10  244.233933\n",
       "38          6  friedman_mse                20  244.559876\n",
       "36          6  friedman_mse                 5  244.703459\n",
       "39          6  friedman_mse                25  245.133218\n",
       "34          5  friedman_mse                20  280.960777\n",
       "35          5  friedman_mse                25  281.313817\n",
       "32          5  friedman_mse                 5  282.216121\n",
       "33          5  friedman_mse                10  282.224937\n",
       "29          4  friedman_mse                10  333.040568\n",
       "28          4  friedman_mse                 5  333.040568\n",
       "30          4  friedman_mse                20  333.608162\n",
       "31          4  friedman_mse                25  333.608162\n",
       "27          3  friedman_mse                25  370.512115\n",
       "26          3  friedman_mse                20  370.512115\n",
       "25          3  friedman_mse                10  370.512115\n",
       "24          3  friedman_mse                 5  370.512115\n",
       "23          2  friedman_mse                25  410.949652\n",
       "22          2  friedman_mse                20  410.949652\n",
       "21          2  friedman_mse                10  410.949652\n",
       "20          2  friedman_mse                 5  410.949652"
      ]
     },
     "execution_count": 33,
     "metadata": {},
     "output_type": "execute_result"
=======
>>>>>>> 99a7684f4614d70b8b575d953dfc0553d2a95310
    }
   ],
   "source": [
    "results = gridCV.cv_results_\n",
    "\n",
    "# Convert the results to a Pandas dataframe\n",
    "df_results = pd.DataFrame(results)\n",
    "\n",
    "# Extract each hyperparameter into its own column from the 'params' column\n",
    "df_results['max_depth'] = df_results['params'].apply(lambda x: x['max_depth'])\n",
    "df_results['criterion'] = df_results['params'].apply(lambda x: x['criterion'])\n",
    "df_results['min_samples_leaf'] = df_results['params'].apply(lambda x: x['min_samples_leaf'])\n",
    "\n",
    "# Select relevant columns and create the dataframe\n",
    "df_mse = df_results[['max_depth', 'criterion', 'min_samples_leaf', 'mean_test_score']]\n",
    "df_mse['mean_test_score'] = -df_mse['mean_test_score']  # Convert negative MSE to positive\n",
    "\n",
    "# Rename columns for clarity\n",
    "df_mse.columns = ['Max Depth', 'Criterion', 'Min Samples Leaf', 'MSE']\n",
    "\n",
    "# Drop rows where 'Mean MSE' is NaN\n",
    "df_mse = df_mse.dropna(subset=['MSE'])\n",
    "\n",
<<<<<<< HEAD
    "# Display the dataframe by having it as the last statement\n",
    "df_mse.sort_values(by='MSE')"
=======
    "# Display the dataframe with top-5 created models\n",
    "df_mse_sorted = df_mse.sort_values(by='Mean MSE')\n",
    "df_mse_head = df_mse_sorted.head(5)\n",
    "print(df_mse_head)"
>>>>>>> 99a7684f4614d70b8b575d953dfc0553d2a95310
   ]
  },
  {
   "cell_type": "markdown",
   "metadata": {},
   "source": [
    "From the results of the GridSearch the best max_depth is 6 levels and the best min_sample_leaf is 10 samples per leaf. Now let's look at the metrics of the chosen model:"
   ]
  },
  {
   "cell_type": "code",
<<<<<<< HEAD
   "execution_count": 34,
=======
   "execution_count": 19,
>>>>>>> 99a7684f4614d70b8b575d953dfc0553d2a95310
   "metadata": {},
   "outputs": [
    {
     "name": "stdout",
     "output_type": "stream",
     "text": [
<<<<<<< HEAD
      "Mean Squared Error (MSE) on Testing Set: 233.11592998150303\n",
      "Root Mean Squared Error (RMSE) on Testing Set: 15.26813446304109\n",
      "Mean Absolute Error (MAE) on Testing Set: 10.145789994547487\n",
      "R-squared on Testing Set: 0.8037844098467851\n"
=======
      "Mean Squared Error (MSE) on Testing Set: 214.27211786003434\n",
      "Root Mean Squared Error (RMSE) on Testing Set: 14.638036680512668\n",
      "Mean Absolute Error (MAE) on Testing Set: 9.68402497956858\n",
      "R-squared on Testing Set: 0.8193829182862041\n"
>>>>>>> 99a7684f4614d70b8b575d953dfc0553d2a95310
     ]
    },
    {
     "name": "stderr",
     "output_type": "stream",
     "text": [
<<<<<<< HEAD
      "C:\\Users\\antun\\AppData\\Roaming\\Python\\Python311\\site-packages\\sklearn\\base.py:432: UserWarning: X has feature names, but DecisionTreeRegressor was fitted without feature names\n",
=======
      "C:\\Users\\Tasha\\AppData\\Local\\Packages\\PythonSoftwareFoundation.Python.3.11_qbz5n2kfra8p0\\LocalCache\\local-packages\\Python311\\site-packages\\sklearn\\base.py:458: UserWarning: X has feature names, but DecisionTreeRegressor was fitted without feature names\n",
>>>>>>> 99a7684f4614d70b8b575d953dfc0553d2a95310
      "  warnings.warn(\n"
     ]
    }
   ],
   "source": [
    "# Predict on the testing set\n",
    "y_pred_test = dtree_regressor_best.predict(X_test)\n",
    "\n",
    "# Calculate metrics\n",
    "mse_test = mean_squared_error(y_test, y_pred_test)\n",
    "rmse_test = np.sqrt(mse_test)\n",
    "mae_test = mean_absolute_error(y_test, y_pred_test)\n",
    "r2_test = r2_score(y_test, y_pred_test)\n",
    "\n",
    "# Print metrics\n",
    "print(f\"Mean Squared Error (MSE) on Testing Set: {mse_test}\")\n",
    "print(f\"Root Mean Squared Error (RMSE) on Testing Set: {rmse_test}\")\n",
    "print(f\"Mean Absolute Error (MAE) on Testing Set: {mae_test}\")\n",
    "print(f\"R-squared on Testing Set: {r2_test}\")"
   ]
  },
  {
   "cell_type": "markdown",
   "metadata": {},
   "source": [
<<<<<<< HEAD
=======
    "Let's test the model on independent validation set (IVS):"
   ]
  },
  {
   "cell_type": "code",
   "execution_count": 20,
   "metadata": {},
   "outputs": [
    {
     "name": "stderr",
     "output_type": "stream",
     "text": [
      "C:\\Users\\Tasha\\AppData\\Local\\Packages\\PythonSoftwareFoundation.Python.3.11_qbz5n2kfra8p0\\LocalCache\\local-packages\\Python311\\site-packages\\sklearn\\base.py:458: UserWarning: X has feature names, but DecisionTreeRegressor was fitted without feature names\n",
      "  warnings.warn(\n"
     ]
    },
    {
     "name": "stdout",
     "output_type": "stream",
     "text": [
      "Mean Squared Error (MSE) on Validation Set: 228.7727107049221\n",
      "Root Mean Squared Error (RMSE) on Validation Set: 15.125234236365468\n",
      "Mean Absolute Error (MAE) on Validation Set: 9.9448923029107\n",
      "R-squared on Validation Set: 0.8088547583964902\n"
     ]
    },
    {
     "data": {
      "image/png": "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",
      "text/plain": [
       "<Figure size 640x480 with 1 Axes>"
      ]
     },
     "metadata": {},
     "output_type": "display_data"
    }
   ],
   "source": [
    "# Predict on the validation set\n",
    "y_pred_val = dtree_regressor_best.predict(X_val)\n",
    "\n",
    "# Calculate metrics\n",
    "mse = mean_squared_error(y_val, y_pred_val)\n",
    "rmse = np.sqrt(mse)\n",
    "mae = mean_absolute_error(y_val, y_pred_val)\n",
    "r2 = r2_score(y_val, y_pred_val)\n",
    "\n",
    "# Print metrics\n",
    "print(f\"Mean Squared Error (MSE) on Validation Set: {mse}\")\n",
    "print(f\"Root Mean Squared Error (RMSE) on Validation Set: {rmse}\")\n",
    "print(f\"Mean Absolute Error (MAE) on Validation Set: {mae}\")\n",
    "print(f\"R-squared on Validation Set: {r2}\")\n",
    "\n",
    "# Scatter plot of actual vs. predicted values on the IVS\n",
    "plt.scatter(y_val, y_pred_val, label=\"IVS Predictions\", color='b', alpha=0.5)\n",
    "\n",
    "# Add a diagonal line for reference\n",
    "plt.plot([min(y_val), max(y_val)], [min(y_val), max(y_val)], color='r', linestyle='--', label=\"Perfect Predictions\")\n",
    "\n",
    "plt.xlabel(\"Actual Values\")\n",
    "plt.ylabel(\"Predicted Values\")\n",
    "plt.title(\"Actual vs. Predicted Values on IVS\")\n",
    "plt.legend()\n",
    "plt.show()\n"
   ]
  },
  {
   "cell_type": "markdown",
   "metadata": {},
   "source": [
>>>>>>> 99a7684f4614d70b8b575d953dfc0553d2a95310
    "#### 1.2: Linear Models"
   ]
  },
  {
   "cell_type": "code",
   "execution_count": 5,
   "metadata": {},
   "outputs": [],
   "source": [
    "# 1. LINEAR REGRESSION MODEL #\n",
    "\n",
    "# Train model\n",
    "reg1 = LinearRegression().fit(X_train, y_train)\n",
    "# Predict on test set\n",
    "y_pred1_test = reg1.predict(X_test)"
   ]
  },
  {
   "cell_type": "code",
   "execution_count": 6,
   "metadata": {},
   "outputs": [],
   "source": [
    "# 2. RIDGE REGRESSION MODEL WITH CROSS-VALIDATION (K-Fold Cross Validation) #\n",
    "\n",
    "# Train model\n",
    "reg2 = RidgeCV(cv=5, alphas=[1e-3, 1e-2, 1e-1, 1]).fit(X_train, y_train) # ridge regression with cross-validation and range of alpha values 0.001, 0.01, 0.1, 1\n",
    "# Predict on test set\n",
    "y_pred2_test = reg2.predict(X_test)\n",
    "# Resulting best alpha from cross-validation\n",
    "reg2_best_alpha = reg2.alpha_ "
   ]
  },
  {
   "cell_type": "code",
   "execution_count": 7,
   "metadata": {},
   "outputs": [
    {
     "name": "stderr",
     "output_type": "stream",
     "text": [
      "C:\\Users\\antun\\AppData\\Roaming\\Python\\Python311\\site-packages\\sklearn\\linear_model\\_coordinate_descent.py:617: ConvergenceWarning: Objective did not converge. You might want to increase the number of iterations. Duality gap: 2365.4204092714936, tolerance: 1268.5487813735356\n",
      "  model = cd_fast.enet_coordinate_descent_gram(\n",
      "C:\\Users\\antun\\AppData\\Roaming\\Python\\Python311\\site-packages\\sklearn\\linear_model\\_coordinate_descent.py:617: ConvergenceWarning: Objective did not converge. You might want to increase the number of iterations. Duality gap: 361898.7478658757, tolerance: 1268.5487813735356\n",
      "  model = cd_fast.enet_coordinate_descent_gram(\n",
      "C:\\Users\\antun\\AppData\\Roaming\\Python\\Python311\\site-packages\\sklearn\\linear_model\\_coordinate_descent.py:617: ConvergenceWarning: Objective did not converge. You might want to increase the number of iterations. Duality gap: 9233.799768580124, tolerance: 1268.4192516819078\n",
      "  model = cd_fast.enet_coordinate_descent_gram(\n",
      "C:\\Users\\antun\\AppData\\Roaming\\Python\\Python311\\site-packages\\sklearn\\linear_model\\_coordinate_descent.py:617: ConvergenceWarning: Objective did not converge. You might want to increase the number of iterations. Duality gap: 436203.90534183756, tolerance: 1268.4192516819078\n",
      "  model = cd_fast.enet_coordinate_descent_gram(\n",
      "C:\\Users\\antun\\AppData\\Roaming\\Python\\Python311\\site-packages\\sklearn\\linear_model\\_coordinate_descent.py:617: ConvergenceWarning: Objective did not converge. You might want to increase the number of iterations. Duality gap: 9606.876737037208, tolerance: 1270.1356089854016\n",
      "  model = cd_fast.enet_coordinate_descent_gram(\n",
      "C:\\Users\\antun\\AppData\\Roaming\\Python\\Python311\\site-packages\\sklearn\\linear_model\\_coordinate_descent.py:617: ConvergenceWarning: Objective did not converge. You might want to increase the number of iterations. Duality gap: 469457.9665184091, tolerance: 1270.1356089854016\n",
      "  model = cd_fast.enet_coordinate_descent_gram(\n",
      "C:\\Users\\antun\\AppData\\Roaming\\Python\\Python311\\site-packages\\sklearn\\linear_model\\_coordinate_descent.py:617: ConvergenceWarning: Objective did not converge. You might want to increase the number of iterations. Duality gap: 10051.505139176268, tolerance: 1268.6594451461792\n",
      "  model = cd_fast.enet_coordinate_descent_gram(\n",
      "C:\\Users\\antun\\AppData\\Roaming\\Python\\Python311\\site-packages\\sklearn\\linear_model\\_coordinate_descent.py:617: ConvergenceWarning: Objective did not converge. You might want to increase the number of iterations. Duality gap: 347207.61595434835, tolerance: 1268.6594451461792\n",
      "  model = cd_fast.enet_coordinate_descent_gram(\n",
      "C:\\Users\\antun\\AppData\\Roaming\\Python\\Python311\\site-packages\\sklearn\\linear_model\\_coordinate_descent.py:617: ConvergenceWarning: Objective did not converge. You might want to increase the number of iterations. Duality gap: 10572.823469202034, tolerance: 1266.4176161756648\n",
      "  model = cd_fast.enet_coordinate_descent_gram(\n",
      "C:\\Users\\antun\\AppData\\Roaming\\Python\\Python311\\site-packages\\sklearn\\linear_model\\_coordinate_descent.py:617: ConvergenceWarning: Objective did not converge. You might want to increase the number of iterations. Duality gap: 267493.41052703466, tolerance: 1266.4176161756648\n",
      "  model = cd_fast.enet_coordinate_descent_gram(\n",
      "C:\\Users\\antun\\AppData\\Roaming\\Python\\Python311\\site-packages\\sklearn\\linear_model\\_coordinate_descent.py:631: ConvergenceWarning: Objective did not converge. You might want to increase the number of iterations, check the scale of the features or consider increasing regularisation. Duality gap: 8.590e+05, tolerance: 1.586e+03\n",
      "  model = cd_fast.enet_coordinate_descent(\n"
     ]
    }
   ],
   "source": [
    "# 3. LASSO REGRESSION MODEL WITH CROSS-VALIDATION (K-Fold Cross Validation) #\n",
    "\n",
    "# Train model\n",
    "reg3 = LassoCV(cv=5, alphas=[1e-3, 1e-2, 1e-1, 1], max_iter=10000).fit(X_train, y_train) # lasso regression with cross-validation and range of alpha values 0.001, 0.01, 0.1, 1\n",
    "# Predict on test set\n",
    "y_pred3_test = reg3.predict(X_test)\n",
    "# Resulting best alpha from cross-validation\n",
    "reg3_best_alpha = reg3.alpha_"
   ]
  },
  {
   "cell_type": "code",
   "execution_count": 8,
   "metadata": {},
   "outputs": [
    {
     "name": "stderr",
     "output_type": "stream",
     "text": [
      "C:\\Users\\antun\\AppData\\Roaming\\Python\\Python311\\site-packages\\sklearn\\linear_model\\_coordinate_descent.py:617: ConvergenceWarning: Objective did not converge. You might want to increase the number of iterations. Duality gap: 2027.2736570164561, tolerance: 1268.4192516819078\n",
      "  model = cd_fast.enet_coordinate_descent_gram(\n",
      "C:\\Users\\antun\\AppData\\Roaming\\Python\\Python311\\site-packages\\sklearn\\linear_model\\_coordinate_descent.py:617: ConvergenceWarning: Objective did not converge. You might want to increase the number of iterations. Duality gap: 2084.0813863184303, tolerance: 1270.1356089854016\n",
      "  model = cd_fast.enet_coordinate_descent_gram(\n"
     ]
    }
   ],
   "source": [
    "# 4. LASSO REGRESSION MODEL WITH CROSS-VALIDATION (K-Fold Cross Validation) - With Normalised Features #\n",
    "\n",
    "# Compute statistics from the training set\n",
    "mean_train = X_train.mean()\n",
    "max_min_range_train = X_train.max() - X_train.min()\n",
    "# Normalize the training set\n",
    "X_train_norm = (X_train - mean_train) / max_min_range_train\n",
    "# Normalize the test set using the same statistics from the training set\n",
    "X_test_norm = (X_test - mean_train) / max_min_range_train\n",
    "\n",
    "# Train model\n",
    "reg4 = LassoCV(cv=5, alphas=[1e-3, 1e-2, 1e-1, 1], max_iter=10000).fit(X_train_norm, y_train) # lasso regression with cross-validation and range of alpha values 0.001, 0.01, 0.1, 1\n",
    "# Predict on test set\n",
    "y_pred4_test = reg4.predict(X_test_norm)\n",
    "# Resulting best alpha from cross-validation\n",
    "reg4_best_alpha = reg4.alpha_"
   ]
  },
  {
   "cell_type": "code",
   "execution_count": 9,
   "metadata": {},
   "outputs": [
    {
     "name": "stderr",
     "output_type": "stream",
     "text": [
      "C:\\Users\\antun\\AppData\\Roaming\\Python\\Python311\\site-packages\\sklearn\\linear_model\\_coordinate_descent.py:617: ConvergenceWarning: Objective did not converge. You might want to increase the number of iterations. Duality gap: 2580.8678956055082, tolerance: 1268.5487813735356\n",
      "  model = cd_fast.enet_coordinate_descent_gram(\n",
      "C:\\Users\\antun\\AppData\\Roaming\\Python\\Python311\\site-packages\\sklearn\\linear_model\\_coordinate_descent.py:617: ConvergenceWarning: Objective did not converge. You might want to increase the number of iterations. Duality gap: 5715.567715616897, tolerance: 1268.4192516819078\n",
      "  model = cd_fast.enet_coordinate_descent_gram(\n",
      "C:\\Users\\antun\\AppData\\Roaming\\Python\\Python311\\site-packages\\sklearn\\linear_model\\_coordinate_descent.py:617: ConvergenceWarning: Objective did not converge. You might want to increase the number of iterations. Duality gap: 1570.0766816055402, tolerance: 1270.1356089854016\n",
      "  model = cd_fast.enet_coordinate_descent_gram(\n",
      "C:\\Users\\antun\\AppData\\Roaming\\Python\\Python311\\site-packages\\sklearn\\linear_model\\_coordinate_descent.py:617: ConvergenceWarning: Objective did not converge. You might want to increase the number of iterations. Duality gap: 1500.3447217349894, tolerance: 1266.4176161756648\n",
      "  model = cd_fast.enet_coordinate_descent_gram(\n",
      "C:\\Users\\antun\\AppData\\Roaming\\Python\\Python311\\site-packages\\sklearn\\linear_model\\_coordinate_descent.py:617: ConvergenceWarning: Objective did not converge. You might want to increase the number of iterations. Duality gap: 41076.09225651855, tolerance: 1268.5487813735356\n",
      "  model = cd_fast.enet_coordinate_descent_gram(\n",
      "C:\\Users\\antun\\AppData\\Roaming\\Python\\Python311\\site-packages\\sklearn\\linear_model\\_coordinate_descent.py:617: ConvergenceWarning: Objective did not converge. You might want to increase the number of iterations. Duality gap: 47088.99569465127, tolerance: 1268.4192516819078\n",
      "  model = cd_fast.enet_coordinate_descent_gram(\n",
      "C:\\Users\\antun\\AppData\\Roaming\\Python\\Python311\\site-packages\\sklearn\\linear_model\\_coordinate_descent.py:617: ConvergenceWarning: Objective did not converge. You might want to increase the number of iterations. Duality gap: 64963.90119346557, tolerance: 1270.1356089854016\n",
      "  model = cd_fast.enet_coordinate_descent_gram(\n",
      "C:\\Users\\antun\\AppData\\Roaming\\Python\\Python311\\site-packages\\sklearn\\linear_model\\_coordinate_descent.py:617: ConvergenceWarning: Objective did not converge. You might want to increase the number of iterations. Duality gap: 46333.45135027636, tolerance: 1268.6594451461792\n",
      "  model = cd_fast.enet_coordinate_descent_gram(\n",
      "C:\\Users\\antun\\AppData\\Roaming\\Python\\Python311\\site-packages\\sklearn\\linear_model\\_coordinate_descent.py:617: ConvergenceWarning: Objective did not converge. You might want to increase the number of iterations. Duality gap: 33228.08889143681, tolerance: 1266.4176161756648\n",
      "  model = cd_fast.enet_coordinate_descent_gram(\n",
      "C:\\Users\\antun\\AppData\\Roaming\\Python\\Python311\\site-packages\\sklearn\\linear_model\\_coordinate_descent.py:617: ConvergenceWarning: Objective did not converge. You might want to increase the number of iterations. Duality gap: 116652.91480490984, tolerance: 1268.5487813735356\n",
      "  model = cd_fast.enet_coordinate_descent_gram(\n",
      "C:\\Users\\antun\\AppData\\Roaming\\Python\\Python311\\site-packages\\sklearn\\linear_model\\_coordinate_descent.py:617: ConvergenceWarning: Objective did not converge. You might want to increase the number of iterations. Duality gap: 217619.17534582643, tolerance: 1268.4192516819078\n",
      "  model = cd_fast.enet_coordinate_descent_gram(\n",
      "C:\\Users\\antun\\AppData\\Roaming\\Python\\Python311\\site-packages\\sklearn\\linear_model\\_coordinate_descent.py:617: ConvergenceWarning: Objective did not converge. You might want to increase the number of iterations. Duality gap: 153175.18272516178, tolerance: 1270.1356089854016\n",
      "  model = cd_fast.enet_coordinate_descent_gram(\n",
      "C:\\Users\\antun\\AppData\\Roaming\\Python\\Python311\\site-packages\\sklearn\\linear_model\\_coordinate_descent.py:617: ConvergenceWarning: Objective did not converge. You might want to increase the number of iterations. Duality gap: 105869.77442049002, tolerance: 1268.6594451461792\n",
      "  model = cd_fast.enet_coordinate_descent_gram(\n",
      "C:\\Users\\antun\\AppData\\Roaming\\Python\\Python311\\site-packages\\sklearn\\linear_model\\_coordinate_descent.py:617: ConvergenceWarning: Objective did not converge. You might want to increase the number of iterations. Duality gap: 67485.5525735491, tolerance: 1266.4176161756648\n",
      "  model = cd_fast.enet_coordinate_descent_gram(\n",
      "C:\\Users\\antun\\AppData\\Roaming\\Python\\Python311\\site-packages\\sklearn\\linear_model\\_coordinate_descent.py:617: ConvergenceWarning: Objective did not converge. You might want to increase the number of iterations. Duality gap: 334035.2302381224, tolerance: 1268.5487813735356\n",
      "  model = cd_fast.enet_coordinate_descent_gram(\n",
      "C:\\Users\\antun\\AppData\\Roaming\\Python\\Python311\\site-packages\\sklearn\\linear_model\\_coordinate_descent.py:617: ConvergenceWarning: Objective did not converge. You might want to increase the number of iterations. Duality gap: 361824.2126848351, tolerance: 1268.4192516819078\n",
      "  model = cd_fast.enet_coordinate_descent_gram(\n",
      "C:\\Users\\antun\\AppData\\Roaming\\Python\\Python311\\site-packages\\sklearn\\linear_model\\_coordinate_descent.py:617: ConvergenceWarning: Objective did not converge. You might want to increase the number of iterations. Duality gap: 379177.22275077854, tolerance: 1270.1356089854016\n",
      "  model = cd_fast.enet_coordinate_descent_gram(\n",
      "C:\\Users\\antun\\AppData\\Roaming\\Python\\Python311\\site-packages\\sklearn\\linear_model\\_coordinate_descent.py:617: ConvergenceWarning: Objective did not converge. You might want to increase the number of iterations. Duality gap: 303323.5686409725, tolerance: 1268.6594451461792\n",
      "  model = cd_fast.enet_coordinate_descent_gram(\n",
      "C:\\Users\\antun\\AppData\\Roaming\\Python\\Python311\\site-packages\\sklearn\\linear_model\\_coordinate_descent.py:617: ConvergenceWarning: Objective did not converge. You might want to increase the number of iterations. Duality gap: 336917.6537955892, tolerance: 1266.4176161756648\n",
      "  model = cd_fast.enet_coordinate_descent_gram(\n",
      "C:\\Users\\antun\\AppData\\Roaming\\Python\\Python311\\site-packages\\sklearn\\linear_model\\_coordinate_descent.py:617: ConvergenceWarning: Objective did not converge. You might want to increase the number of iterations. Duality gap: 2365.4204092714936, tolerance: 1268.5487813735356\n",
      "  model = cd_fast.enet_coordinate_descent_gram(\n",
      "C:\\Users\\antun\\AppData\\Roaming\\Python\\Python311\\site-packages\\sklearn\\linear_model\\_coordinate_descent.py:617: ConvergenceWarning: Objective did not converge. You might want to increase the number of iterations. Duality gap: 361898.7478658757, tolerance: 1268.5487813735356\n",
      "  model = cd_fast.enet_coordinate_descent_gram(\n",
      "C:\\Users\\antun\\AppData\\Roaming\\Python\\Python311\\site-packages\\sklearn\\linear_model\\_coordinate_descent.py:617: ConvergenceWarning: Objective did not converge. You might want to increase the number of iterations. Duality gap: 9233.799768580124, tolerance: 1268.4192516819078\n",
      "  model = cd_fast.enet_coordinate_descent_gram(\n",
      "C:\\Users\\antun\\AppData\\Roaming\\Python\\Python311\\site-packages\\sklearn\\linear_model\\_coordinate_descent.py:617: ConvergenceWarning: Objective did not converge. You might want to increase the number of iterations. Duality gap: 436203.90534183756, tolerance: 1268.4192516819078\n",
      "  model = cd_fast.enet_coordinate_descent_gram(\n",
      "C:\\Users\\antun\\AppData\\Roaming\\Python\\Python311\\site-packages\\sklearn\\linear_model\\_coordinate_descent.py:617: ConvergenceWarning: Objective did not converge. You might want to increase the number of iterations. Duality gap: 9606.876737037208, tolerance: 1270.1356089854016\n",
      "  model = cd_fast.enet_coordinate_descent_gram(\n",
      "C:\\Users\\antun\\AppData\\Roaming\\Python\\Python311\\site-packages\\sklearn\\linear_model\\_coordinate_descent.py:617: ConvergenceWarning: Objective did not converge. You might want to increase the number of iterations. Duality gap: 469457.9665184091, tolerance: 1270.1356089854016\n",
      "  model = cd_fast.enet_coordinate_descent_gram(\n",
      "C:\\Users\\antun\\AppData\\Roaming\\Python\\Python311\\site-packages\\sklearn\\linear_model\\_coordinate_descent.py:617: ConvergenceWarning: Objective did not converge. You might want to increase the number of iterations. Duality gap: 10051.505139176268, tolerance: 1268.6594451461792\n",
      "  model = cd_fast.enet_coordinate_descent_gram(\n",
      "C:\\Users\\antun\\AppData\\Roaming\\Python\\Python311\\site-packages\\sklearn\\linear_model\\_coordinate_descent.py:617: ConvergenceWarning: Objective did not converge. You might want to increase the number of iterations. Duality gap: 347207.61595434835, tolerance: 1268.6594451461792\n",
      "  model = cd_fast.enet_coordinate_descent_gram(\n",
      "C:\\Users\\antun\\AppData\\Roaming\\Python\\Python311\\site-packages\\sklearn\\linear_model\\_coordinate_descent.py:617: ConvergenceWarning: Objective did not converge. You might want to increase the number of iterations. Duality gap: 10572.823469202034, tolerance: 1266.4176161756648\n",
      "  model = cd_fast.enet_coordinate_descent_gram(\n",
      "C:\\Users\\antun\\AppData\\Roaming\\Python\\Python311\\site-packages\\sklearn\\linear_model\\_coordinate_descent.py:617: ConvergenceWarning: Objective did not converge. You might want to increase the number of iterations. Duality gap: 267493.41052703466, tolerance: 1266.4176161756648\n",
      "  model = cd_fast.enet_coordinate_descent_gram(\n",
      "C:\\Users\\antun\\AppData\\Roaming\\Python\\Python311\\site-packages\\sklearn\\linear_model\\_coordinate_descent.py:631: ConvergenceWarning: Objective did not converge. You might want to increase the number of iterations, check the scale of the features or consider increasing regularisation. Duality gap: 8.590e+05, tolerance: 1.586e+03\n",
      "  model = cd_fast.enet_coordinate_descent(\n"
     ]
    }
   ],
   "source": [
    "# 5. ELASTIC NET REGRESSION MODEL WiTH CROSS-VALIDATION (K-Fold Cross Validation) #\n",
    "\n",
    "# Train model\n",
    "reg5 = ElasticNetCV(cv=5, alphas=[1e-3, 1e-2, 1e-1, 1], l1_ratio=[.1, .5, .7, .9, .95, .99, 1], max_iter=10000).fit(X_train, y_train) # elastic net regression with cross-validation and range of alpha values 0.001, 0.01, 0.1, 1 as well as range of l1_ratio values 0.1, 0.5, 0.7, 0.9, 0.95, 0.99, 1\n",
    "# Predict on test set\n",
    "y_pred5_test = reg5.predict(X_test)\n",
    "# Resulting best alpha from cross-validation\n",
    "reg5_best_alpha = reg5.alpha_\n",
    "# Resulting best l1_ratio from cross-validation\n",
    "reg5_best_l1_ratio = reg5.l1_ratio_"
   ]
  },
  {
   "cell_type": "markdown",
   "metadata": {},
   "source": [
    "*NOTE: The warnings above are the result of models not being able to converge. This is due to the fact that several models with different hyperparameters were tested and for some of the parameters the model did not converge. The models that did not converge were not used in the final model selection.*"
   ]
  },
  {
   "cell_type": "markdown",
   "metadata": {},
   "source": [
    "#### Linear Models: Results"
   ]
  },
  {
   "cell_type": "code",
   "execution_count": 10,
   "metadata": {},
   "outputs": [
    {
     "data": {
      "text/html": [
       "<div>\n",
       "<style scoped>\n",
       "    .dataframe tbody tr th:only-of-type {\n",
       "        vertical-align: middle;\n",
       "    }\n",
       "\n",
       "    .dataframe tbody tr th {\n",
       "        vertical-align: top;\n",
       "    }\n",
       "\n",
       "    .dataframe thead th {\n",
       "        text-align: right;\n",
       "    }\n",
       "</style>\n",
       "<table border=\"1\" class=\"dataframe\">\n",
       "  <thead>\n",
       "    <tr style=\"text-align: right;\">\n",
       "      <th></th>\n",
       "      <th>Model</th>\n",
       "      <th>MSE</th>\n",
       "      <th>RMSE</th>\n",
       "      <th>MAE</th>\n",
       "      <th>R2</th>\n",
       "      <th>Best Alpha</th>\n",
       "      <th>Best l1_ratio</th>\n",
       "    </tr>\n",
       "  </thead>\n",
       "  <tbody>\n",
       "    <tr>\n",
       "      <th>0</th>\n",
       "      <td>Linear Regression</td>\n",
       "      <td>300.226879</td>\n",
       "      <td>17.327056</td>\n",
       "      <td>13.202890</td>\n",
       "      <td>0.740512</td>\n",
       "      <td>-</td>\n",
       "      <td>-</td>\n",
       "    </tr>\n",
       "    <tr>\n",
       "      <th>1</th>\n",
       "      <td>Ridge Regression</td>\n",
       "      <td>300.094027</td>\n",
       "      <td>17.323222</td>\n",
       "      <td>13.195956</td>\n",
       "      <td>0.740627</td>\n",
       "      <td>0.1</td>\n",
       "      <td>-</td>\n",
       "    </tr>\n",
       "    <tr>\n",
       "      <th>2</th>\n",
       "      <td>Lasso Regression</td>\n",
       "      <td>299.806594</td>\n",
       "      <td>17.314924</td>\n",
       "      <td>13.169824</td>\n",
       "      <td>0.740875</td>\n",
       "      <td>0.001</td>\n",
       "      <td>-</td>\n",
       "    </tr>\n",
       "    <tr>\n",
       "      <th>3</th>\n",
       "      <td>Lasso Regression (Normalised)</td>\n",
       "      <td>301.007264</td>\n",
       "      <td>17.349561</td>\n",
       "      <td>13.175865</td>\n",
       "      <td>0.739838</td>\n",
       "      <td>0.001</td>\n",
       "      <td>-</td>\n",
       "    </tr>\n",
       "    <tr>\n",
       "      <th>4</th>\n",
       "      <td>ElasticNet Regression</td>\n",
       "      <td>299.806594</td>\n",
       "      <td>17.314924</td>\n",
       "      <td>13.169824</td>\n",
       "      <td>0.740875</td>\n",
       "      <td>0.001</td>\n",
       "      <td>1.0</td>\n",
       "    </tr>\n",
       "  </tbody>\n",
       "</table>\n",
       "</div>"
      ],
      "text/plain": [
       "                           Model         MSE       RMSE        MAE        R2  \\\n",
       "0              Linear Regression  300.226879  17.327056  13.202890  0.740512   \n",
       "1               Ridge Regression  300.094027  17.323222  13.195956  0.740627   \n",
       "2               Lasso Regression  299.806594  17.314924  13.169824  0.740875   \n",
       "3  Lasso Regression (Normalised)  301.007264  17.349561  13.175865  0.739838   \n",
       "4          ElasticNet Regression  299.806594  17.314924  13.169824  0.740875   \n",
       "\n",
       "  Best Alpha Best l1_ratio  \n",
       "0          -             -  \n",
       "1        0.1             -  \n",
       "2      0.001             -  \n",
       "3      0.001             -  \n",
       "4      0.001           1.0  "
      ]
     },
     "execution_count": 10,
     "metadata": {},
     "output_type": "execute_result"
    }
   ],
   "source": [
    "# Create data frame\n",
    "df_results = pd.DataFrame(columns=['Model', 'MSE', 'RMSE', 'MAE', 'R2', 'Best Alpha', 'Best l1_ratio'])\n",
    "# Create data frames for each model\n",
    "model1 = pd.DataFrame({'Model': 'Linear Regression', 'MSE': mean_squared_error(y_test, y_pred1_test), 'RMSE': np.sqrt(mean_squared_error(y_test, y_pred1_test)), 'MAE': mean_absolute_error(y_test, y_pred1_test), 'R2': r2_score(y_test, y_pred1_test), 'Best Alpha': '-', 'Best l1_ratio': '-'}, index=[0])\n",
    "model2 = pd.DataFrame({'Model': 'Ridge Regression', 'MSE': mean_squared_error(y_test, y_pred2_test), 'RMSE': np.sqrt(mean_squared_error(y_test, y_pred2_test)), 'MAE': mean_absolute_error(y_test, y_pred2_test), 'R2': r2_score(y_test, y_pred2_test), 'Best Alpha': reg2_best_alpha, 'Best l1_ratio': '-'}, index=[1])\n",
    "model3 = pd.DataFrame({'Model': 'Lasso Regression', 'MSE': mean_squared_error(y_test, y_pred3_test), 'RMSE': np.sqrt(mean_squared_error(y_test, y_pred3_test)), 'MAE': mean_absolute_error(y_test, y_pred3_test), 'R2': r2_score(y_test, y_pred3_test), 'Best Alpha': reg3_best_alpha, 'Best l1_ratio': '-'}, index=[2])\n",
    "model4 = pd.DataFrame({'Model': 'Lasso Regression (Normalised)', 'MSE': mean_squared_error(y_test, y_pred4_test), 'RMSE': np.sqrt(mean_squared_error(y_test, y_pred4_test)), 'MAE': mean_absolute_error(y_test, y_pred4_test), 'R2': r2_score(y_test, y_pred4_test), 'Best Alpha': reg4_best_alpha, 'Best l1_ratio': '-'}, index=[3])\n",
    "model5 = pd.DataFrame({'Model': 'ElasticNet Regression', 'MSE': mean_squared_error(y_test, y_pred5_test), 'RMSE': np.sqrt(mean_squared_error(y_test, y_pred5_test)), 'MAE': mean_absolute_error(y_test, y_pred5_test), 'R2': r2_score(y_test, y_pred5_test), 'Best Alpha': reg5_best_alpha, 'Best l1_ratio': reg5_best_l1_ratio}, index=[4])\n",
    "# Concatenate the data frames\n",
    "df_results = pd.concat([df_results, model1, model2, model3, model4, model5], ignore_index=True)\n",
    "# Print results\n",
    "df_results\n"
   ]
  },
  {
   "cell_type": "markdown",
   "metadata": {},
   "source": [
    "**REGRESSION MODEL SELECTION:** The Decision Tree Regression has lower error metrics (MSE, RMSE, and MAE), indicating more accurate predictions, and a higher R-squared (R2), suggesting a better fit to the data, making it a superior model. Therefore, we decided to go with the Decision Tree Regression model. Let's now test the model on independent validation set (IVS):"
   ]
  },
  {
   "cell_type": "code",
   "execution_count": 38,
   "metadata": {},
   "outputs": [
    {
     "data": {
      "text/html": [
       "<div>\n",
       "<style scoped>\n",
       "    .dataframe tbody tr th:only-of-type {\n",
       "        vertical-align: middle;\n",
       "    }\n",
       "\n",
       "    .dataframe tbody tr th {\n",
       "        vertical-align: top;\n",
       "    }\n",
       "\n",
       "    .dataframe thead th {\n",
       "        text-align: right;\n",
       "    }\n",
       "</style>\n",
       "<table border=\"1\" class=\"dataframe\">\n",
       "  <thead>\n",
       "    <tr style=\"text-align: right;\">\n",
       "      <th></th>\n",
       "      <th>Validation Set</th>\n",
       "      <th>Testing Set</th>\n",
       "    </tr>\n",
       "  </thead>\n",
       "  <tbody>\n",
       "    <tr>\n",
       "      <th>MSE</th>\n",
       "      <td>228.452231</td>\n",
       "      <td>233.115930</td>\n",
       "    </tr>\n",
       "    <tr>\n",
       "      <th>RMSE</th>\n",
       "      <td>15.114636</td>\n",
       "      <td>15.268134</td>\n",
       "    </tr>\n",
       "    <tr>\n",
       "      <th>MAE</th>\n",
       "      <td>9.959863</td>\n",
       "      <td>10.145790</td>\n",
       "    </tr>\n",
       "    <tr>\n",
       "      <th>R-squared</th>\n",
       "      <td>0.809123</td>\n",
       "      <td>0.803784</td>\n",
       "    </tr>\n",
       "  </tbody>\n",
       "</table>\n",
       "</div>"
      ],
      "text/plain": [
       "           Validation Set  Testing Set\n",
       "MSE            228.452231   233.115930\n",
       "RMSE            15.114636    15.268134\n",
       "MAE              9.959863    10.145790\n",
       "R-squared        0.809123     0.803784"
      ]
     },
     "execution_count": 38,
     "metadata": {},
     "output_type": "execute_result"
    }
   ],
   "source": [
    "# Calculate metrics for validation set\n",
    "metrics_val = {\n",
    "    \"Validation Set\": [mse, rmse, mae, r2]\n",
    "}\n",
    "# Calculate metrics for testing set\n",
    "metrics_test = {\n",
    "    \"Testing Set\": [mse_test, rmse_test, mae_test, r2_test]\n",
    "}\n",
    "# Create DataFrames\n",
    "df_metrics_val = pd.DataFrame(metrics_val, index=[\"MSE\", \"RMSE\", \"MAE\", \"R-squared\"])\n",
    "df_metrics_test = pd.DataFrame(metrics_test, index=[\"MSE\", \"RMSE\", \"MAE\", \"R-squared\"])\n",
    "# Combine the DataFrames for validation and testing metrics\n",
    "df_metrics = pd.concat([df_metrics_val, df_metrics_test], axis=1)\n",
    "# Display the DataFrame\n",
    "df_metrics\n"
   ]
  },
  {
   "cell_type": "markdown",
   "metadata": {},
   "source": [
    "***CONCUSION:*** The metrics on the validation set are reasonably close to those on the test set which suggests that our model is performing consistently and is likely to generalize well to new, unseen data."
   ]
  },
  {
   "cell_type": "markdown",
   "metadata": {},
   "source": [
    "### **Objective 2** - Produce the best binary classification model assuming as positive all instances with values of critical_temp >= 80.0 and as negatives all remaining cases"
   ]
  },
  {
   "cell_type": "markdown",
   "metadata": {
    "collapsed": false,
    "jupyter": {
     "outputs_hidden": false
    }
   },
   "source": [
    "Firstly, we need to transform all the target columns to the binary classification problem instances."
   ]
  },
  {
   "cell_type": "code",
   "execution_count": 10,
   "metadata": {
    "collapsed": false,
    "jupyter": {
     "outputs_hidden": false
    }
   },
   "outputs": [],
   "source": [
    "# transform the target column to a binary classification problem\n",
    "# 0 - negative\n",
    "# 1 - positive\n",
    "def transform_to_binary(x):\n",
    "    return 1 if x >= 80 else 0\n",
    "\n",
    "y_train_bin = y_train.apply(transform_to_binary)\n",
    "y_val_bin = y_val.apply(transform_to_binary)\n",
    "y_test_bin = y_test.apply(transform_to_binary)"
   ]
  },
  {
   "cell_type": "code",
   "execution_count": 11,
   "metadata": {
    "collapsed": false,
    "jupyter": {
     "outputs_hidden": false
    }
   },
   "outputs": [
    {
     "data": {
      "text/plain": [
       "0    11307\n",
       "1     2244\n",
       "Name: critical_temp, dtype: int64"
      ]
     },
     "execution_count": 11,
     "metadata": {},
     "output_type": "execute_result"
    }
   ],
   "source": [
    "y_train_bin.value_counts()"
   ]
  },
  {
   "cell_type": "markdown",
   "metadata": {
    "collapsed": false,
    "jupyter": {
     "outputs_hidden": false
    }
   },
   "source": [
    "We can see that the data is imbalanced, we have much more negative (0) observations. Therefore, we will use `F1 score` as our main metric."
   ]
  },
  {
   "cell_type": "markdown",
   "metadata": {
    "collapsed": false,
    "jupyter": {
     "outputs_hidden": false
    }
   },
   "source": [
    "#### 2.1 Decision tree"
   ]
  },
  {
   "cell_type": "code",
   "execution_count": 12,
   "metadata": {
    "collapsed": false,
    "jupyter": {
     "outputs_hidden": false
    }
   },
   "outputs": [],
   "source": [
    "def get_classification_scores(y_true, y_predicted):\n",
    "    return pd.DataFrame([\n",
    "        ['Accuracy', round(accuracy_score(y_true, y_predicted), 4)],\n",
    "        ['Precision', round(precision_score(y_true, y_predicted), 4)],\n",
    "        ['Recall', round(recall_score(y_true, y_predicted), 4)],\n",
    "        ['F1 score', round(f1_score(y_true, y_predicted), 4)]\n",
    "    ], columns=['metric', 'score'])\n",
    "\n",
    "def print_confusion_matrix(y_true, y_predicted):\n",
    "    print(\"The Confusion Matrix\")\n",
    "    print(pd.DataFrame(confusion_matrix(y_true, y_predicted)))"
   ]
  },
  {
   "cell_type": "markdown",
   "metadata": {
    "collapsed": false,
    "jupyter": {
     "outputs_hidden": false
    }
   },
   "source": [
    "We will explore different values of the following hyperparameters: `min_samples_leaf`, `max_depth`"
   ]
  },
  {
   "cell_type": "code",
   "execution_count": 13,
   "metadata": {
    "collapsed": false,
    "jupyter": {
     "outputs_hidden": false
    }
   },
   "outputs": [
    {
     "data": {
      "text/html": [
       "<div>\n",
       "<style scoped>\n",
       "    .dataframe tbody tr th:only-of-type {\n",
       "        vertical-align: middle;\n",
       "    }\n",
       "\n",
       "    .dataframe tbody tr th {\n",
       "        vertical-align: top;\n",
       "    }\n",
       "\n",
       "    .dataframe thead th {\n",
       "        text-align: right;\n",
       "    }\n",
       "</style>\n",
       "<table border=\"1\" class=\"dataframe\">\n",
       "  <thead>\n",
       "    <tr style=\"text-align: right;\">\n",
       "      <th></th>\n",
       "      <th>min_samples_leaf</th>\n",
       "      <th>max_depth</th>\n",
       "      <th>F1</th>\n",
       "    </tr>\n",
       "  </thead>\n",
       "  <tbody>\n",
       "    <tr>\n",
       "      <th>457</th>\n",
       "      <td>4</td>\n",
       "      <td>40</td>\n",
       "      <td>0.804788</td>\n",
       "    </tr>\n",
       "    <tr>\n",
       "      <th>242</th>\n",
       "      <td>6</td>\n",
       "      <td>22</td>\n",
       "      <td>0.804449</td>\n",
       "    </tr>\n",
       "    <tr>\n",
       "      <th>482</th>\n",
       "      <td>6</td>\n",
       "      <td>42</td>\n",
       "      <td>0.803324</td>\n",
       "    </tr>\n",
       "    <tr>\n",
       "      <th>265</th>\n",
       "      <td>4</td>\n",
       "      <td>24</td>\n",
       "      <td>0.802974</td>\n",
       "    </tr>\n",
       "    <tr>\n",
       "      <th>481</th>\n",
       "      <td>4</td>\n",
       "      <td>42</td>\n",
       "      <td>0.801115</td>\n",
       "    </tr>\n",
       "  </tbody>\n",
       "</table>\n",
       "</div>"
      ],
      "text/plain": [
       "     min_samples_leaf  max_depth        F1\n",
       "457                 4         40  0.804788\n",
       "242                 6         22  0.804449\n",
       "482                 6         42  0.803324\n",
       "265                 4         24  0.802974\n",
       "481                 4         42  0.801115"
      ]
     },
     "execution_count": 13,
     "metadata": {},
     "output_type": "execute_result"
    }
   ],
   "source": [
    "min_samples_leaf_values = range(2,50,2)\n",
    "max_depth_values = range(2,50,2)\n",
    "\n",
    "results = {\"min_samples_leaf\": [], \"max_depth\": [], \"F1\": []}\n",
    "\n",
    "for max_depth in max_depth_values:\n",
    "    for min_samples_leaf in min_samples_leaf_values:\n",
    "        model = DecisionTreeClassifier(max_depth=max_depth, min_samples_leaf=min_samples_leaf)\n",
    "        model.fit(X_train, y_train_bin)\n",
    "        y_preds = model.predict(X_test)\n",
    "        f1 = f1_score(y_test_bin, y_preds)\n",
    "\n",
    "        results[\"min_samples_leaf\"].append(min_samples_leaf)\n",
    "        results[\"max_depth\"].append(max_depth)\n",
    "        results[\"F1\"].append(f1)\n",
    "\n",
    "scores_df = pd.DataFrame(results, index=None)\n",
    "scores_df = scores_df.sort_values(by=\"F1\", ascending=False)\n",
    "\n",
    "best_max_depth = int(scores_df.iloc[0].max_depth)\n",
    "best_min_samples_leaf = int(scores_df.iloc[0].min_samples_leaf)\n",
    "\n",
    "scores_df.head()"
   ]
  },
  {
   "cell_type": "markdown",
   "metadata": {
    "collapsed": false,
    "jupyter": {
     "outputs_hidden": false
    }
   },
   "source": [
    "Model with `max_depth`=6 And `min_samples_leaf`=24 turned out to be the best. However, if we look at the table below showing 5 best performing hyperparameters combinations, we can make a few interesting observations. \n",
    "The F1 scores for all those models are very similar and `min_samples_leaf`=6 seems to be a very stable value. However, when it comes to `max_depth`, we don’t see one definite value. There is quite a big variation in this value among the models.\n",
    "Therefore, we decided to investigate `max_depth` value deeper."
   ]
  },
  {
   "cell_type": "code",
   "execution_count": 14,
   "metadata": {
    "collapsed": false,
    "jupyter": {
     "outputs_hidden": false
    }
   },
   "outputs": [
    {
     "data": {
      "image/png": "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",
      "text/plain": [
       "<Figure size 640x480 with 1 Axes>"
      ]
     },
     "metadata": {},
     "output_type": "display_data"
    }
   ],
   "source": [
    "f1_scores_train = []\n",
    "f1_scores_test = []\n",
    "\n",
    "for max_depth in max_depth_values:\n",
    "    model = DecisionTreeClassifier(max_depth=max_depth, min_samples_leaf=best_min_samples_leaf)\n",
    "    model.fit(X_train, y_train_bin)\n",
    "    y_preds_train = model.predict(X_train)\n",
    "    y_preds_test = model.predict(X_test)\n",
    "    f1_scores_train.append(f1_score(y_train_bin, y_preds_train))\n",
    "    f1_scores_test.append(f1_score(y_test_bin, y_preds_test))\n",
    "\n",
    "plt.plot(max_depth_values, f1_scores_train, label='training set')\n",
    "plt.plot(max_depth_values, f1_scores_test, label='test set')\n",
    "plt.xlabel('Max Depth')\n",
    "plt.ylabel('F1 Score')\n",
    "plt.legend()\n",
    "plt.grid()\n",
    "plt.show()"
   ]
  },
  {
   "cell_type": "markdown",
   "metadata": {
    "collapsed": false,
    "jupyter": {
     "outputs_hidden": false
    }
   },
   "source": [
    "Based on the plot above we can see that the upper bound for the F1 score on the test set stabilizes at approximately 0.78.. We already get almost the best possible results (on the test set) for `max_depth`~18 and increasing `max_depth` does not give us any significant improvements. Thus, we set `max_depth`=18."
   ]
  },
  {
   "cell_type": "markdown",
   "metadata": {
    "collapsed": false,
    "jupyter": {
     "outputs_hidden": false
    }
   },
   "source": [
    "Final model"
   ]
  },
  {
   "cell_type": "code",
   "execution_count": 15,
   "metadata": {
    "collapsed": false
   },
   "outputs": [],
   "source": [
    "def get_final_model_scores(model):\n",
    "    model.fit(X_train, y_train_bin)\n",
    "\n",
    "    y_preds_test = model.predict(X_test)\n",
    "    test_set_scores_df = get_classification_scores(y_test_bin, y_preds_test).rename(columns={'score': 'test_set'})\n",
    "\n",
    "    y_preds_val = model.predict(X_val)\n",
    "    validation_set_scores_df = get_classification_scores(y_val_bin, y_preds_val).rename(columns={'score': 'validation_set'})\n",
    "\n",
    "    return pd.merge(test_set_scores_df, validation_set_scores_df, on='metric')"
   ]
  },
  {
   "cell_type": "code",
   "execution_count": 16,
   "metadata": {
    "collapsed": false,
    "jupyter": {
     "outputs_hidden": false
    }
   },
   "outputs": [
    {
     "data": {
      "text/html": [
       "<div>\n",
       "<style scoped>\n",
       "    .dataframe tbody tr th:only-of-type {\n",
       "        vertical-align: middle;\n",
       "    }\n",
       "\n",
       "    .dataframe tbody tr th {\n",
       "        vertical-align: top;\n",
       "    }\n",
       "\n",
       "    .dataframe thead th {\n",
       "        text-align: right;\n",
       "    }\n",
       "</style>\n",
       "<table border=\"1\" class=\"dataframe\">\n",
       "  <thead>\n",
       "    <tr style=\"text-align: right;\">\n",
       "      <th></th>\n",
       "      <th>metric</th>\n",
       "      <th>test_set</th>\n",
       "      <th>validation_set</th>\n",
       "    </tr>\n",
       "  </thead>\n",
       "  <tbody>\n",
       "    <tr>\n",
       "      <th>0</th>\n",
       "      <td>Accuracy</td>\n",
       "      <td>0.9324</td>\n",
       "      <td>0.9244</td>\n",
       "    </tr>\n",
       "    <tr>\n",
       "      <th>1</th>\n",
       "      <td>Precision</td>\n",
       "      <td>0.8205</td>\n",
       "      <td>0.8320</td>\n",
       "    </tr>\n",
       "    <tr>\n",
       "      <th>2</th>\n",
       "      <td>Recall</td>\n",
       "      <td>0.7509</td>\n",
       "      <td>0.7190</td>\n",
       "    </tr>\n",
       "    <tr>\n",
       "      <th>3</th>\n",
       "      <td>F1 score</td>\n",
       "      <td>0.7842</td>\n",
       "      <td>0.7714</td>\n",
       "    </tr>\n",
       "  </tbody>\n",
       "</table>\n",
       "</div>"
      ],
      "text/plain": [
       "      metric  test_set  validation_set\n",
       "0   Accuracy    0.9324          0.9244\n",
       "1  Precision    0.8205          0.8320\n",
       "2     Recall    0.7509          0.7190\n",
       "3   F1 score    0.7842          0.7714"
      ]
     },
     "execution_count": 16,
     "metadata": {},
     "output_type": "execute_result"
    }
   ],
   "source": [
    "best_max_depth = 18\n",
    "model = DecisionTreeClassifier(max_depth=best_max_depth, min_samples_leaf=best_min_samples_leaf)\n",
    "bn_decision_tree_final_scores_df = get_final_model_scores(model)\n",
    "bn_decision_tree_final_scores_df"
   ]
  },
  {
   "cell_type": "markdown",
   "metadata": {
    "collapsed": false,
    "jupyter": {
     "outputs_hidden": false
    }
   },
   "source": [
    "#### 2.2. Linear Models"
   ]
  },
  {
   "cell_type": "markdown",
   "metadata": {
    "collapsed": false,
    "jupyter": {
     "outputs_hidden": false
    }
   },
   "source": [
    "Baseline - default LogisticRegression model"
   ]
  },
  {
   "cell_type": "code",
   "execution_count": 17,
   "metadata": {
    "collapsed": false,
    "jupyter": {
     "outputs_hidden": false
    }
   },
   "outputs": [
    {
     "name": "stderr",
     "output_type": "stream",
     "text": [
      "C:\\Users\\antun\\AppData\\Roaming\\Python\\Python311\\site-packages\\sklearn\\linear_model\\_logistic.py:458: ConvergenceWarning: lbfgs failed to converge (status=1):\n",
      "STOP: TOTAL NO. of ITERATIONS REACHED LIMIT.\n",
      "\n",
      "Increase the number of iterations (max_iter) or scale the data as shown in:\n",
      "    https://scikit-learn.org/stable/modules/preprocessing.html\n",
      "Please also refer to the documentation for alternative solver options:\n",
      "    https://scikit-learn.org/stable/modules/linear_model.html#logistic-regression\n",
      "  n_iter_i = _check_optimize_result(\n"
     ]
    },
    {
     "data": {
      "text/html": [
       "<div>\n",
       "<style scoped>\n",
       "    .dataframe tbody tr th:only-of-type {\n",
       "        vertical-align: middle;\n",
       "    }\n",
       "\n",
       "    .dataframe tbody tr th {\n",
       "        vertical-align: top;\n",
       "    }\n",
       "\n",
       "    .dataframe thead th {\n",
       "        text-align: right;\n",
       "    }\n",
       "</style>\n",
       "<table border=\"1\" class=\"dataframe\">\n",
       "  <thead>\n",
       "    <tr style=\"text-align: right;\">\n",
       "      <th></th>\n",
       "      <th>metric</th>\n",
       "      <th>score</th>\n",
       "    </tr>\n",
       "  </thead>\n",
       "  <tbody>\n",
       "    <tr>\n",
       "      <th>0</th>\n",
       "      <td>Accuracy</td>\n",
       "      <td>0.8878</td>\n",
       "    </tr>\n",
       "    <tr>\n",
       "      <th>1</th>\n",
       "      <td>Precision</td>\n",
       "      <td>0.6790</td>\n",
       "    </tr>\n",
       "    <tr>\n",
       "      <th>2</th>\n",
       "      <td>Recall</td>\n",
       "      <td>0.5957</td>\n",
       "    </tr>\n",
       "    <tr>\n",
       "      <th>3</th>\n",
       "      <td>F1 score</td>\n",
       "      <td>0.6346</td>\n",
       "    </tr>\n",
       "  </tbody>\n",
       "</table>\n",
       "</div>"
      ],
      "text/plain": [
       "      metric   score\n",
       "0   Accuracy  0.8878\n",
       "1  Precision  0.6790\n",
       "2     Recall  0.5957\n",
       "3   F1 score  0.6346"
      ]
     },
     "execution_count": 17,
     "metadata": {},
     "output_type": "execute_result"
    }
   ],
   "source": [
    "model = LogisticRegression()\n",
    "model.fit(X_train, y_train_bin)\n",
    "y_pred = model.predict(X_test)\n",
    "\n",
    "get_classification_scores(y_test_bin, y_pred)"
   ]
  },
  {
   "cell_type": "code",
   "execution_count": 18,
   "metadata": {
    "collapsed": false,
    "jupyter": {
     "outputs_hidden": false
    }
   },
   "outputs": [
    {
     "name": "stderr",
     "output_type": "stream",
     "text": [
      "C:\\Users\\antun\\AppData\\Roaming\\Python\\Python311\\site-packages\\sklearn\\linear_model\\_logistic.py:1181: UserWarning: Setting penalty=None will ignore the C and l1_ratio parameters\n",
      "  warnings.warn(\n",
      "C:\\Users\\antun\\AppData\\Roaming\\Python\\Python311\\site-packages\\sklearn\\linear_model\\_logistic.py:458: ConvergenceWarning: lbfgs failed to converge (status=1):\n",
      "STOP: TOTAL NO. of ITERATIONS REACHED LIMIT.\n",
      "\n",
      "Increase the number of iterations (max_iter) or scale the data as shown in:\n",
      "    https://scikit-learn.org/stable/modules/preprocessing.html\n",
      "Please also refer to the documentation for alternative solver options:\n",
      "    https://scikit-learn.org/stable/modules/linear_model.html#logistic-regression\n",
      "  n_iter_i = _check_optimize_result(\n",
      "C:\\Users\\antun\\AppData\\Roaming\\Python\\Python311\\site-packages\\sklearn\\linear_model\\_logistic.py:1181: UserWarning: Setting penalty=None will ignore the C and l1_ratio parameters\n",
      "  warnings.warn(\n",
      "C:\\Users\\antun\\AppData\\Roaming\\Python\\Python311\\site-packages\\sklearn\\linear_model\\_logistic.py:1181: UserWarning: Setting penalty=None will ignore the C and l1_ratio parameters\n",
      "  warnings.warn(\n",
      "C:\\Users\\antun\\AppData\\Roaming\\Python\\Python311\\site-packages\\sklearn\\linear_model\\_logistic.py:1181: UserWarning: Setting penalty=None will ignore the C and l1_ratio parameters\n",
      "  warnings.warn(\n",
      "C:\\Users\\antun\\AppData\\Roaming\\Python\\Python311\\site-packages\\sklearn\\linear_model\\_sag.py:350: ConvergenceWarning: The max_iter was reached which means the coef_ did not converge\n",
      "  warnings.warn(\n",
      "C:\\Users\\antun\\AppData\\Roaming\\Python\\Python311\\site-packages\\sklearn\\linear_model\\_logistic.py:1181: UserWarning: Setting penalty=None will ignore the C and l1_ratio parameters\n",
      "  warnings.warn(\n",
      "C:\\Users\\antun\\AppData\\Roaming\\Python\\Python311\\site-packages\\sklearn\\linear_model\\_sag.py:350: ConvergenceWarning: The max_iter was reached which means the coef_ did not converge\n",
      "  warnings.warn(\n",
      "C:\\Users\\antun\\AppData\\Roaming\\Python\\Python311\\site-packages\\sklearn\\linear_model\\_logistic.py:1181: UserWarning: Setting penalty=None will ignore the C and l1_ratio parameters\n",
      "  warnings.warn(\n",
      "C:\\Users\\antun\\AppData\\Roaming\\Python\\Python311\\site-packages\\sklearn\\linear_model\\_logistic.py:458: ConvergenceWarning: lbfgs failed to converge (status=1):\n",
      "STOP: TOTAL NO. of ITERATIONS REACHED LIMIT.\n",
      "\n",
      "Increase the number of iterations (max_iter) or scale the data as shown in:\n",
      "    https://scikit-learn.org/stable/modules/preprocessing.html\n",
      "Please also refer to the documentation for alternative solver options:\n",
      "    https://scikit-learn.org/stable/modules/linear_model.html#logistic-regression\n",
      "  n_iter_i = _check_optimize_result(\n",
      "C:\\Users\\antun\\AppData\\Roaming\\Python\\Python311\\site-packages\\sklearn\\linear_model\\_logistic.py:1181: UserWarning: Setting penalty=None will ignore the C and l1_ratio parameters\n",
      "  warnings.warn(\n",
      "C:\\Users\\antun\\AppData\\Roaming\\Python\\Python311\\site-packages\\sklearn\\linear_model\\_logistic.py:1181: UserWarning: Setting penalty=None will ignore the C and l1_ratio parameters\n",
      "  warnings.warn(\n",
      "C:\\Users\\antun\\AppData\\Roaming\\Python\\Python311\\site-packages\\sklearn\\linear_model\\_logistic.py:1181: UserWarning: Setting penalty=None will ignore the C and l1_ratio parameters\n",
      "  warnings.warn(\n",
      "C:\\Users\\antun\\AppData\\Roaming\\Python\\Python311\\site-packages\\sklearn\\linear_model\\_sag.py:350: ConvergenceWarning: The max_iter was reached which means the coef_ did not converge\n",
      "  warnings.warn(\n",
      "C:\\Users\\antun\\AppData\\Roaming\\Python\\Python311\\site-packages\\sklearn\\linear_model\\_sag.py:350: ConvergenceWarning: The max_iter was reached which means the coef_ did not converge\n",
      "  warnings.warn(\n",
      "C:\\Users\\antun\\AppData\\Roaming\\Python\\Python311\\site-packages\\sklearn\\linear_model\\_sag.py:350: ConvergenceWarning: The max_iter was reached which means the coef_ did not converge\n",
      "  warnings.warn(\n",
      "C:\\Users\\antun\\AppData\\Roaming\\Python\\Python311\\site-packages\\sklearn\\linear_model\\_logistic.py:1181: UserWarning: Setting penalty=None will ignore the C and l1_ratio parameters\n",
      "  warnings.warn(\n",
      "C:\\Users\\antun\\AppData\\Roaming\\Python\\Python311\\site-packages\\sklearn\\linear_model\\_sag.py:350: ConvergenceWarning: The max_iter was reached which means the coef_ did not converge\n",
      "  warnings.warn(\n",
      "C:\\Users\\antun\\AppData\\Roaming\\Python\\Python311\\site-packages\\sklearn\\linear_model\\_logistic.py:458: ConvergenceWarning: lbfgs failed to converge (status=1):\n",
      "STOP: TOTAL NO. of ITERATIONS REACHED LIMIT.\n",
      "\n",
      "Increase the number of iterations (max_iter) or scale the data as shown in:\n",
      "    https://scikit-learn.org/stable/modules/preprocessing.html\n",
      "Please also refer to the documentation for alternative solver options:\n",
      "    https://scikit-learn.org/stable/modules/linear_model.html#logistic-regression\n",
      "  n_iter_i = _check_optimize_result(\n",
      "C:\\Users\\antun\\AppData\\Roaming\\Python\\Python311\\site-packages\\sklearn\\linear_model\\_logistic.py:1181: UserWarning: Setting penalty=None will ignore the C and l1_ratio parameters\n",
      "  warnings.warn(\n",
      "C:\\Users\\antun\\AppData\\Roaming\\Python\\Python311\\site-packages\\sklearn\\linear_model\\_logistic.py:458: ConvergenceWarning: lbfgs failed to converge (status=1):\n",
      "STOP: TOTAL NO. of ITERATIONS REACHED LIMIT.\n",
      "\n",
      "Increase the number of iterations (max_iter) or scale the data as shown in:\n",
      "    https://scikit-learn.org/stable/modules/preprocessing.html\n",
      "Please also refer to the documentation for alternative solver options:\n",
      "    https://scikit-learn.org/stable/modules/linear_model.html#logistic-regression\n",
      "  n_iter_i = _check_optimize_result(\n",
      "C:\\Users\\antun\\AppData\\Roaming\\Python\\Python311\\site-packages\\sklearn\\linear_model\\_logistic.py:1181: UserWarning: Setting penalty=None will ignore the C and l1_ratio parameters\n",
      "  warnings.warn(\n",
      "C:\\Users\\antun\\AppData\\Roaming\\Python\\Python311\\site-packages\\sklearn\\linear_model\\_logistic.py:1181: UserWarning: Setting penalty=None will ignore the C and l1_ratio parameters\n",
      "  warnings.warn(\n",
      "C:\\Users\\antun\\AppData\\Roaming\\Python\\Python311\\site-packages\\sklearn\\linear_model\\_sag.py:350: ConvergenceWarning: The max_iter was reached which means the coef_ did not converge\n",
      "  warnings.warn(\n",
      "C:\\Users\\antun\\AppData\\Roaming\\Python\\Python311\\site-packages\\sklearn\\linear_model\\_logistic.py:1181: UserWarning: Setting penalty=None will ignore the C and l1_ratio parameters\n",
      "  warnings.warn(\n",
      "C:\\Users\\antun\\AppData\\Roaming\\Python\\Python311\\site-packages\\sklearn\\linear_model\\_sag.py:350: ConvergenceWarning: The max_iter was reached which means the coef_ did not converge\n",
      "  warnings.warn(\n",
      "C:\\Users\\antun\\AppData\\Roaming\\Python\\Python311\\site-packages\\sklearn\\linear_model\\_sag.py:350: ConvergenceWarning: The max_iter was reached which means the coef_ did not converge\n",
      "  warnings.warn(\n",
      "C:\\Users\\antun\\AppData\\Roaming\\Python\\Python311\\site-packages\\sklearn\\linear_model\\_sag.py:350: ConvergenceWarning: The max_iter was reached which means the coef_ did not converge\n",
      "  warnings.warn(\n",
      "C:\\Users\\antun\\AppData\\Roaming\\Python\\Python311\\site-packages\\sklearn\\linear_model\\_logistic.py:1181: UserWarning: Setting penalty=None will ignore the C and l1_ratio parameters\n",
      "  warnings.warn(\n",
      "C:\\Users\\antun\\AppData\\Roaming\\Python\\Python311\\site-packages\\sklearn\\linear_model\\_sag.py:350: ConvergenceWarning: The max_iter was reached which means the coef_ did not converge\n",
      "  warnings.warn(\n",
      "C:\\Users\\antun\\AppData\\Roaming\\Python\\Python311\\site-packages\\sklearn\\linear_model\\_logistic.py:458: ConvergenceWarning: lbfgs failed to converge (status=1):\n",
      "STOP: TOTAL NO. of ITERATIONS REACHED LIMIT.\n",
      "\n",
      "Increase the number of iterations (max_iter) or scale the data as shown in:\n",
      "    https://scikit-learn.org/stable/modules/preprocessing.html\n",
      "Please also refer to the documentation for alternative solver options:\n",
      "    https://scikit-learn.org/stable/modules/linear_model.html#logistic-regression\n",
      "  n_iter_i = _check_optimize_result(\n",
      "C:\\Users\\antun\\AppData\\Roaming\\Python\\Python311\\site-packages\\sklearn\\linear_model\\_logistic.py:458: ConvergenceWarning: lbfgs failed to converge (status=1):\n",
      "STOP: TOTAL NO. of ITERATIONS REACHED LIMIT.\n",
      "\n",
      "Increase the number of iterations (max_iter) or scale the data as shown in:\n",
      "    https://scikit-learn.org/stable/modules/preprocessing.html\n",
      "Please also refer to the documentation for alternative solver options:\n",
      "    https://scikit-learn.org/stable/modules/linear_model.html#logistic-regression\n",
      "  n_iter_i = _check_optimize_result(\n",
      "C:\\Users\\antun\\AppData\\Roaming\\Python\\Python311\\site-packages\\sklearn\\linear_model\\_sag.py:350: ConvergenceWarning: The max_iter was reached which means the coef_ did not converge\n",
      "  warnings.warn(\n",
      "C:\\Users\\antun\\AppData\\Roaming\\Python\\Python311\\site-packages\\sklearn\\linear_model\\_sag.py:350: ConvergenceWarning: The max_iter was reached which means the coef_ did not converge\n",
      "  warnings.warn(\n",
      "C:\\Users\\antun\\AppData\\Roaming\\Python\\Python311\\site-packages\\sklearn\\linear_model\\_sag.py:350: ConvergenceWarning: The max_iter was reached which means the coef_ did not converge\n",
      "  warnings.warn(\n",
      "C:\\Users\\antun\\AppData\\Roaming\\Python\\Python311\\site-packages\\sklearn\\linear_model\\_sag.py:350: ConvergenceWarning: The max_iter was reached which means the coef_ did not converge\n",
      "  warnings.warn(\n",
      "C:\\Users\\antun\\AppData\\Roaming\\Python\\Python311\\site-packages\\sklearn\\linear_model\\_sag.py:350: ConvergenceWarning: The max_iter was reached which means the coef_ did not converge\n",
      "  warnings.warn(\n",
      "C:\\Users\\antun\\AppData\\Roaming\\Python\\Python311\\site-packages\\sklearn\\linear_model\\_logistic.py:458: ConvergenceWarning: lbfgs failed to converge (status=1):\n",
      "STOP: TOTAL NO. of ITERATIONS REACHED LIMIT.\n",
      "\n",
      "Increase the number of iterations (max_iter) or scale the data as shown in:\n",
      "    https://scikit-learn.org/stable/modules/preprocessing.html\n",
      "Please also refer to the documentation for alternative solver options:\n",
      "    https://scikit-learn.org/stable/modules/linear_model.html#logistic-regression\n",
      "  n_iter_i = _check_optimize_result(\n",
      "C:\\Users\\antun\\AppData\\Roaming\\Python\\Python311\\site-packages\\sklearn\\linear_model\\_logistic.py:1181: UserWarning: Setting penalty=None will ignore the C and l1_ratio parameters\n",
      "  warnings.warn(\n",
      "C:\\Users\\antun\\AppData\\Roaming\\Python\\Python311\\site-packages\\sklearn\\linear_model\\_logistic.py:458: ConvergenceWarning: lbfgs failed to converge (status=1):\n",
      "STOP: TOTAL NO. of ITERATIONS REACHED LIMIT.\n",
      "\n",
      "Increase the number of iterations (max_iter) or scale the data as shown in:\n",
      "    https://scikit-learn.org/stable/modules/preprocessing.html\n",
      "Please also refer to the documentation for alternative solver options:\n",
      "    https://scikit-learn.org/stable/modules/linear_model.html#logistic-regression\n",
      "  n_iter_i = _check_optimize_result(\n",
      "C:\\Users\\antun\\AppData\\Roaming\\Python\\Python311\\site-packages\\sklearn\\linear_model\\_logistic.py:1181: UserWarning: Setting penalty=None will ignore the C and l1_ratio parameters\n",
      "  warnings.warn(\n",
      "C:\\Users\\antun\\AppData\\Roaming\\Python\\Python311\\site-packages\\sklearn\\linear_model\\_logistic.py:1181: UserWarning: Setting penalty=None will ignore the C and l1_ratio parameters\n",
      "  warnings.warn(\n",
      "C:\\Users\\antun\\AppData\\Roaming\\Python\\Python311\\site-packages\\sklearn\\linear_model\\_sag.py:350: ConvergenceWarning: The max_iter was reached which means the coef_ did not converge\n",
      "  warnings.warn(\n",
      "C:\\Users\\antun\\AppData\\Roaming\\Python\\Python311\\site-packages\\sklearn\\linear_model\\_logistic.py:1181: UserWarning: Setting penalty=None will ignore the C and l1_ratio parameters\n",
      "  warnings.warn(\n",
      "C:\\Users\\antun\\AppData\\Roaming\\Python\\Python311\\site-packages\\sklearn\\linear_model\\_sag.py:350: ConvergenceWarning: The max_iter was reached which means the coef_ did not converge\n",
      "  warnings.warn(\n",
      "C:\\Users\\antun\\AppData\\Roaming\\Python\\Python311\\site-packages\\sklearn\\linear_model\\_sag.py:350: ConvergenceWarning: The max_iter was reached which means the coef_ did not converge\n",
      "  warnings.warn(\n",
      "C:\\Users\\antun\\AppData\\Roaming\\Python\\Python311\\site-packages\\sklearn\\linear_model\\_sag.py:350: ConvergenceWarning: The max_iter was reached which means the coef_ did not converge\n",
      "  warnings.warn(\n",
      "C:\\Users\\antun\\AppData\\Roaming\\Python\\Python311\\site-packages\\sklearn\\linear_model\\_logistic.py:1181: UserWarning: Setting penalty=None will ignore the C and l1_ratio parameters\n",
      "  warnings.warn(\n",
      "C:\\Users\\antun\\AppData\\Roaming\\Python\\Python311\\site-packages\\sklearn\\linear_model\\_sag.py:350: ConvergenceWarning: The max_iter was reached which means the coef_ did not converge\n",
      "  warnings.warn(\n"
     ]
    },
    {
     "data": {
      "text/html": [
       "<div>\n",
       "<style scoped>\n",
       "    .dataframe tbody tr th:only-of-type {\n",
       "        vertical-align: middle;\n",
       "    }\n",
       "\n",
       "    .dataframe tbody tr th {\n",
       "        vertical-align: top;\n",
       "    }\n",
       "\n",
       "    .dataframe thead th {\n",
       "        text-align: right;\n",
       "    }\n",
       "</style>\n",
       "<table border=\"1\" class=\"dataframe\">\n",
       "  <thead>\n",
       "    <tr style=\"text-align: right;\">\n",
       "      <th></th>\n",
       "      <th>c</th>\n",
       "      <th>solver</th>\n",
       "      <th>penalty</th>\n",
       "      <th>F1</th>\n",
       "    </tr>\n",
       "  </thead>\n",
       "  <tbody>\n",
       "    <tr>\n",
       "      <th>54</th>\n",
       "      <td>10.00</td>\n",
       "      <td>liblinear</td>\n",
       "      <td>l1</td>\n",
       "      <td>0.670300</td>\n",
       "    </tr>\n",
       "    <tr>\n",
       "      <th>44</th>\n",
       "      <td>1.00</td>\n",
       "      <td>newton-cg</td>\n",
       "      <td>None</td>\n",
       "      <td>0.666667</td>\n",
       "    </tr>\n",
       "    <tr>\n",
       "      <th>33</th>\n",
       "      <td>0.10</td>\n",
       "      <td>newton-cholesky</td>\n",
       "      <td>None</td>\n",
       "      <td>0.666667</td>\n",
       "    </tr>\n",
       "    <tr>\n",
       "      <th>20</th>\n",
       "      <td>0.01</td>\n",
       "      <td>newton-cholesky</td>\n",
       "      <td>None</td>\n",
       "      <td>0.666667</td>\n",
       "    </tr>\n",
       "    <tr>\n",
       "      <th>18</th>\n",
       "      <td>0.01</td>\n",
       "      <td>newton-cg</td>\n",
       "      <td>None</td>\n",
       "      <td>0.666667</td>\n",
       "    </tr>\n",
       "  </tbody>\n",
       "</table>\n",
       "</div>"
      ],
      "text/plain": [
       "        c           solver penalty        F1\n",
       "54  10.00        liblinear      l1  0.670300\n",
       "44   1.00        newton-cg    None  0.666667\n",
       "33   0.10  newton-cholesky    None  0.666667\n",
       "20   0.01  newton-cholesky    None  0.666667\n",
       "18   0.01        newton-cg    None  0.666667"
      ]
     },
     "execution_count": 18,
     "metadata": {},
     "output_type": "execute_result"
    }
   ],
   "source": [
    "c_values = [0.001, 0.01, 0.1, 1, 10]\n",
    "solver_and_penalty = {'lbfgs': ['l2', None], 'liblinear': ['l1', 'l2'], 'newton-cg': ['l2', None],\n",
    "                      'newton-cholesky': ['l2', None], 'sag': ['l2', None], 'saga': ['l1', 'l2', None]}\n",
    "\n",
    "results = {\"c\": [], \"solver\": [], \"penalty\": [], \"F1\": []}\n",
    "\n",
    "for c in c_values:\n",
    "    for solver in solver_and_penalty.keys():\n",
    "        for penalty in solver_and_penalty[solver]:\n",
    "            model = LogisticRegression(C=c, solver=solver, penalty=penalty)\n",
    "            model.fit(X_train, y_train_bin)\n",
    "            y_pred_test = model.predict(X_test)\n",
    "            f1 = f1_score(y_test_bin, y_pred_test)\n",
    "\n",
    "            results['c'].append(c)\n",
    "            results['solver'].append(solver)\n",
    "            results['penalty'].append(penalty)\n",
    "            results['F1'].append(f1)\n",
    "\n",
    "scores_df = pd.DataFrame(results, index=None)\n",
    "scores_df = scores_df.sort_values(by=\"F1\", ascending=False)\n",
    "\n",
    "best_c = scores_df.iloc[0].c # any\n",
    "best_solver = scores_df.iloc[0].solver # newton-cg/newton-cholesky\n",
    "best_penalty = scores_df.iloc[0].penalty # None\n",
    "\n",
    "scores_df.head()"
   ]
  },
  {
   "cell_type": "markdown",
   "metadata": {
    "collapsed": false,
    "jupyter": {
     "outputs_hidden": false
    }
   },
   "source": [
    "Final Model"
   ]
  },
  {
   "cell_type": "code",
   "execution_count": 19,
   "metadata": {
    "collapsed": false
   },
   "outputs": [
    {
     "data": {
      "text/html": [
       "<div>\n",
       "<style scoped>\n",
       "    .dataframe tbody tr th:only-of-type {\n",
       "        vertical-align: middle;\n",
       "    }\n",
       "\n",
       "    .dataframe tbody tr th {\n",
       "        vertical-align: top;\n",
       "    }\n",
       "\n",
       "    .dataframe thead th {\n",
       "        text-align: right;\n",
       "    }\n",
       "</style>\n",
       "<table border=\"1\" class=\"dataframe\">\n",
       "  <thead>\n",
       "    <tr style=\"text-align: right;\">\n",
       "      <th></th>\n",
       "      <th>metric</th>\n",
       "      <th>test_set</th>\n",
       "      <th>validation_set</th>\n",
       "    </tr>\n",
       "  </thead>\n",
       "  <tbody>\n",
       "    <tr>\n",
       "      <th>0</th>\n",
       "      <td>Accuracy</td>\n",
       "      <td>0.8929</td>\n",
       "      <td>0.8961</td>\n",
       "    </tr>\n",
       "    <tr>\n",
       "      <th>1</th>\n",
       "      <td>Precision</td>\n",
       "      <td>0.6746</td>\n",
       "      <td>0.7331</td>\n",
       "    </tr>\n",
       "    <tr>\n",
       "      <th>2</th>\n",
       "      <td>Recall</td>\n",
       "      <td>0.6661</td>\n",
       "      <td>0.6511</td>\n",
       "    </tr>\n",
       "    <tr>\n",
       "      <th>3</th>\n",
       "      <td>F1 score</td>\n",
       "      <td>0.6703</td>\n",
       "      <td>0.6897</td>\n",
       "    </tr>\n",
       "  </tbody>\n",
       "</table>\n",
       "</div>"
      ],
      "text/plain": [
       "      metric  test_set  validation_set\n",
       "0   Accuracy    0.8929          0.8961\n",
       "1  Precision    0.6746          0.7331\n",
       "2     Recall    0.6661          0.6511\n",
       "3   F1 score    0.6703          0.6897"
      ]
     },
     "execution_count": 19,
     "metadata": {},
     "output_type": "execute_result"
    }
   ],
   "source": [
    "model = LogisticRegression(C=best_c, solver=best_solver, penalty=best_penalty)\n",
    "bn_linear_model_final_scores_df = get_final_model_scores(model)\n",
    "bn_linear_model_final_scores_df"
   ]
  }
 ],
 "metadata": {
  "kernelspec": {
   "display_name": "Python 3 (ipykernel)",
   "language": "python",
   "name": "python3"
  },
  "language_info": {
   "codemirror_mode": {
    "name": "ipython",
    "version": 3
   },
   "file_extension": ".py",
   "mimetype": "text/x-python",
   "name": "python",
   "nbconvert_exporter": "python",
   "pygments_lexer": "ipython3",
   "version": "3.11.2"
  }
 },
 "nbformat": 4,
 "nbformat_minor": 4
}
