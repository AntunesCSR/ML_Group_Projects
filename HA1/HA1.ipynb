{
 "cells": [
  {
   "cell_type": "code",
   "execution_count": 13,
   "metadata": {},
   "outputs": [],
   "source": [
    "import pandas as pd\n",
    "import matplotlib.pyplot as plt\n",
    "import numpy as np\n",
    "from sklearn.linear_model import LinearRegression, RidgeCV, LassoCV, ElasticNetCV, LogisticRegression\n",
    "from sklearn.model_selection import train_test_split, GridSearchCV, PredefinedSplit\n",
    "from sklearn.tree import DecisionTreeRegressor, DecisionTreeClassifier\n",
    "from sklearn.metrics import mean_squared_error, mean_absolute_error, r2_score, make_scorer, accuracy_score, precision_score, recall_score, f1_score, confusion_matrix"
   ]
  },
  {
   "cell_type": "markdown",
   "metadata": {},
   "source": [
    "# Home Assignment 1 - Regression and Classification Models"
   ]
  },
  {
   "cell_type": "markdown",
   "metadata": {},
   "source": [
    "#### 0.1. Data Preparation"
   ]
  },
  {
   "cell_type": "code",
   "execution_count": 14,
   "metadata": {},
   "outputs": [],
   "source": [
    "# Load data\n",
    "df = pd.read_csv(\"HA1-DatasetScaled.tsv\", sep=\"\\t\")"
   ]
  },
  {
   "cell_type": "code",
   "execution_count": 5,
   "metadata": {},
   "outputs": [
    {
     "data": {
      "text/html": [
       "<div>\n",
       "<style scoped>\n",
       "    .dataframe tbody tr th:only-of-type {\n",
       "        vertical-align: middle;\n",
       "    }\n",
       "\n",
       "    .dataframe tbody tr th {\n",
       "        vertical-align: top;\n",
       "    }\n",
       "\n",
       "    .dataframe thead th {\n",
       "        text-align: right;\n",
       "    }\n",
       "</style>\n",
       "<table border=\"1\" class=\"dataframe\">\n",
       "  <thead>\n",
       "    <tr style=\"text-align: right;\">\n",
       "      <th></th>\n",
       "      <th>number_of_elements</th>\n",
       "      <th>mean_atomic_mass</th>\n",
       "      <th>wtd_mean_atomic_mass</th>\n",
       "      <th>gmean_atomic_mass</th>\n",
       "      <th>wtd_gmean_atomic_mass</th>\n",
       "      <th>entropy_atomic_mass</th>\n",
       "      <th>wtd_entropy_atomic_mass</th>\n",
       "      <th>range_atomic_mass</th>\n",
       "      <th>wtd_range_atomic_mass</th>\n",
       "      <th>std_atomic_mass</th>\n",
       "      <th>...</th>\n",
       "      <th>wtd_mean_Valence</th>\n",
       "      <th>gmean_Valence</th>\n",
       "      <th>wtd_gmean_Valence</th>\n",
       "      <th>entropy_Valence</th>\n",
       "      <th>wtd_entropy_Valence</th>\n",
       "      <th>range_Valence</th>\n",
       "      <th>wtd_range_Valence</th>\n",
       "      <th>std_Valence</th>\n",
       "      <th>wtd_std_Valence</th>\n",
       "      <th>critical_temp</th>\n",
       "    </tr>\n",
       "  </thead>\n",
       "  <tbody>\n",
       "    <tr>\n",
       "      <th>0</th>\n",
       "      <td>-2.1737</td>\n",
       "      <td>-2.5469</td>\n",
       "      <td>-1.8316</td>\n",
       "      <td>-1.9110</td>\n",
       "      <td>-1.2742</td>\n",
       "      <td>-3.2043</td>\n",
       "      <td>-2.6712</td>\n",
       "      <td>-2.1218</td>\n",
       "      <td>-1.2523</td>\n",
       "      <td>-2.2206</td>\n",
       "      <td>...</td>\n",
       "      <td>0.7124</td>\n",
       "      <td>0.9014</td>\n",
       "      <td>0.8055</td>\n",
       "      <td>-3.3123</td>\n",
       "      <td>-2.7858</td>\n",
       "      <td>-1.6406</td>\n",
       "      <td>-1.5235</td>\n",
       "      <td>-1.7297</td>\n",
       "      <td>-1.4782</td>\n",
       "      <td>52.0</td>\n",
       "    </tr>\n",
       "    <tr>\n",
       "      <th>1</th>\n",
       "      <td>-2.1737</td>\n",
       "      <td>-2.5469</td>\n",
       "      <td>-1.8316</td>\n",
       "      <td>-1.9110</td>\n",
       "      <td>-1.2742</td>\n",
       "      <td>-3.2043</td>\n",
       "      <td>-2.6712</td>\n",
       "      <td>-2.1218</td>\n",
       "      <td>-1.2523</td>\n",
       "      <td>-2.2206</td>\n",
       "      <td>...</td>\n",
       "      <td>0.7124</td>\n",
       "      <td>0.9014</td>\n",
       "      <td>0.8055</td>\n",
       "      <td>-3.3123</td>\n",
       "      <td>-2.7858</td>\n",
       "      <td>-1.6406</td>\n",
       "      <td>-1.5235</td>\n",
       "      <td>-1.7297</td>\n",
       "      <td>-1.4782</td>\n",
       "      <td>50.0</td>\n",
       "    </tr>\n",
       "    <tr>\n",
       "      <th>2</th>\n",
       "      <td>-2.1737</td>\n",
       "      <td>-2.5469</td>\n",
       "      <td>-1.8316</td>\n",
       "      <td>-1.9110</td>\n",
       "      <td>-1.2742</td>\n",
       "      <td>-3.2043</td>\n",
       "      <td>-2.6712</td>\n",
       "      <td>-2.1218</td>\n",
       "      <td>-1.2523</td>\n",
       "      <td>-2.2206</td>\n",
       "      <td>...</td>\n",
       "      <td>0.7124</td>\n",
       "      <td>0.9014</td>\n",
       "      <td>0.8055</td>\n",
       "      <td>-3.3123</td>\n",
       "      <td>-2.7858</td>\n",
       "      <td>-1.6406</td>\n",
       "      <td>-1.5235</td>\n",
       "      <td>-1.7297</td>\n",
       "      <td>-1.4782</td>\n",
       "      <td>41.5</td>\n",
       "    </tr>\n",
       "    <tr>\n",
       "      <th>3</th>\n",
       "      <td>-2.1737</td>\n",
       "      <td>-2.5469</td>\n",
       "      <td>-1.8316</td>\n",
       "      <td>-1.9110</td>\n",
       "      <td>-1.2742</td>\n",
       "      <td>-3.2043</td>\n",
       "      <td>-2.6712</td>\n",
       "      <td>-2.1218</td>\n",
       "      <td>-1.2523</td>\n",
       "      <td>-2.2206</td>\n",
       "      <td>...</td>\n",
       "      <td>0.7124</td>\n",
       "      <td>0.9014</td>\n",
       "      <td>0.8055</td>\n",
       "      <td>-3.3123</td>\n",
       "      <td>-2.7858</td>\n",
       "      <td>-1.6406</td>\n",
       "      <td>-1.5235</td>\n",
       "      <td>-1.7297</td>\n",
       "      <td>-1.4782</td>\n",
       "      <td>32.0</td>\n",
       "    </tr>\n",
       "    <tr>\n",
       "      <th>4</th>\n",
       "      <td>-2.1737</td>\n",
       "      <td>-1.5994</td>\n",
       "      <td>-0.9850</td>\n",
       "      <td>-1.0041</td>\n",
       "      <td>-0.5006</td>\n",
       "      <td>-3.2043</td>\n",
       "      <td>-2.6712</td>\n",
       "      <td>-2.1218</td>\n",
       "      <td>-1.2523</td>\n",
       "      <td>-2.2206</td>\n",
       "      <td>...</td>\n",
       "      <td>-0.9684</td>\n",
       "      <td>-1.0090</td>\n",
       "      <td>-0.8995</td>\n",
       "      <td>-3.3123</td>\n",
       "      <td>-2.7858</td>\n",
       "      <td>-1.6406</td>\n",
       "      <td>-1.5235</td>\n",
       "      <td>-1.7297</td>\n",
       "      <td>-1.4782</td>\n",
       "      <td>29.0</td>\n",
       "    </tr>\n",
       "  </tbody>\n",
       "</table>\n",
       "<p>5 rows × 82 columns</p>\n",
       "</div>"
      ],
      "text/plain": [
       "   number_of_elements  mean_atomic_mass  wtd_mean_atomic_mass  \\\n",
       "0             -2.1737           -2.5469               -1.8316   \n",
       "1             -2.1737           -2.5469               -1.8316   \n",
       "2             -2.1737           -2.5469               -1.8316   \n",
       "3             -2.1737           -2.5469               -1.8316   \n",
       "4             -2.1737           -1.5994               -0.9850   \n",
       "\n",
       "   gmean_atomic_mass  wtd_gmean_atomic_mass  entropy_atomic_mass  \\\n",
       "0            -1.9110                -1.2742              -3.2043   \n",
       "1            -1.9110                -1.2742              -3.2043   \n",
       "2            -1.9110                -1.2742              -3.2043   \n",
       "3            -1.9110                -1.2742              -3.2043   \n",
       "4            -1.0041                -0.5006              -3.2043   \n",
       "\n",
       "   wtd_entropy_atomic_mass  range_atomic_mass  wtd_range_atomic_mass  \\\n",
       "0                  -2.6712            -2.1218                -1.2523   \n",
       "1                  -2.6712            -2.1218                -1.2523   \n",
       "2                  -2.6712            -2.1218                -1.2523   \n",
       "3                  -2.6712            -2.1218                -1.2523   \n",
       "4                  -2.6712            -2.1218                -1.2523   \n",
       "\n",
       "   std_atomic_mass  ...  wtd_mean_Valence  gmean_Valence  wtd_gmean_Valence  \\\n",
       "0          -2.2206  ...            0.7124         0.9014             0.8055   \n",
       "1          -2.2206  ...            0.7124         0.9014             0.8055   \n",
       "2          -2.2206  ...            0.7124         0.9014             0.8055   \n",
       "3          -2.2206  ...            0.7124         0.9014             0.8055   \n",
       "4          -2.2206  ...           -0.9684        -1.0090            -0.8995   \n",
       "\n",
       "   entropy_Valence  wtd_entropy_Valence  range_Valence  wtd_range_Valence  \\\n",
       "0          -3.3123              -2.7858        -1.6406            -1.5235   \n",
       "1          -3.3123              -2.7858        -1.6406            -1.5235   \n",
       "2          -3.3123              -2.7858        -1.6406            -1.5235   \n",
       "3          -3.3123              -2.7858        -1.6406            -1.5235   \n",
       "4          -3.3123              -2.7858        -1.6406            -1.5235   \n",
       "\n",
       "   std_Valence  wtd_std_Valence  critical_temp  \n",
       "0      -1.7297          -1.4782           52.0  \n",
       "1      -1.7297          -1.4782           50.0  \n",
       "2      -1.7297          -1.4782           41.5  \n",
       "3      -1.7297          -1.4782           32.0  \n",
       "4      -1.7297          -1.4782           29.0  \n",
       "\n",
       "[5 rows x 82 columns]"
      ]
     },
     "execution_count": 5,
     "metadata": {},
     "output_type": "execute_result"
    }
   ],
   "source": [
    "# Check data\n",
    "df.head()"
   ]
  },
  {
   "cell_type": "code",
   "execution_count": 6,
   "metadata": {},
   "outputs": [
    {
     "name": "stdout",
     "output_type": "stream",
     "text": [
      "False\n"
     ]
    }
   ],
   "source": [
    "# Check if any column has a missing value overall (not per row)\n",
    "print(df.isnull().values.any())"
   ]
  },
  {
   "cell_type": "markdown",
   "metadata": {},
   "source": [
    "#### 0.2: Data Splitting"
   ]
  },
  {
   "cell_type": "code",
   "execution_count": 15,
   "metadata": {},
   "outputs": [],
   "source": [
    "# DATA SPLITTING #\n",
    "\n",
    "# Split data into training and validation set\n",
    "X_train, X_val, y_train, y_val = train_test_split(df.drop('critical_temp', axis=1), df['critical_temp'], test_size=0.2, random_state=42)\n",
    "\n",
    "# Split data into training and test set\n",
    "X_train, X_test, y_train, y_test = train_test_split(X_train, y_train, test_size=0.2)\n",
    "\n",
    "# X_train, y_train: Training data\n",
    "# X_test, y_test: Test data\n",
    "# X_val, y_val: Validation data (IVS)"
   ]
  },
  {
   "cell_type": "markdown",
   "metadata": {},
   "source": [
    "### **Objective 1** - Produce the best regression model for critical_temp (Dependent Variable)"
   ]
  },
  {
   "cell_type": "markdown",
   "metadata": {},
   "source": [
    "#### 1.1: Decision trees"
   ]
  },
  {
   "cell_type": "markdown",
   "metadata": {},
   "source": [
    "We will train the model perform GridSearch on testing set to establish the best hyperparameters min_sample_leaf and max_depth:"
   ]
  },
  {
   "cell_type": "code",
   "execution_count": 16,
   "metadata": {},
   "outputs": [
    {
     "name": "stderr",
     "output_type": "stream",
     "text": [
      "C:\\Users\\Tasha\\AppData\\Local\\Packages\\PythonSoftwareFoundation.Python.3.11_qbz5n2kfra8p0\\LocalCache\\local-packages\\Python311\\site-packages\\sklearn\\model_selection\\_validation.py:425: FitFailedWarning: \n",
      "40 fits failed out of a total of 60.\n",
      "The score on these train-test partitions for these parameters will be set to nan.\n",
      "If these failures are not expected, you can try to debug them by setting error_score='raise'.\n",
      "\n",
      "Below are more details about the failures:\n",
      "--------------------------------------------------------------------------------\n",
      "20 fits failed with the following error:\n",
      "Traceback (most recent call last):\n",
      "  File \"C:\\Users\\Tasha\\AppData\\Local\\Packages\\PythonSoftwareFoundation.Python.3.11_qbz5n2kfra8p0\\LocalCache\\local-packages\\Python311\\site-packages\\sklearn\\model_selection\\_validation.py\", line 729, in _fit_and_score\n",
      "    estimator.fit(X_train, y_train, **fit_params)\n",
      "  File \"C:\\Users\\Tasha\\AppData\\Local\\Packages\\PythonSoftwareFoundation.Python.3.11_qbz5n2kfra8p0\\LocalCache\\local-packages\\Python311\\site-packages\\sklearn\\base.py\", line 1145, in wrapper\n",
      "    estimator._validate_params()\n",
      "  File \"C:\\Users\\Tasha\\AppData\\Local\\Packages\\PythonSoftwareFoundation.Python.3.11_qbz5n2kfra8p0\\LocalCache\\local-packages\\Python311\\site-packages\\sklearn\\base.py\", line 638, in _validate_params\n",
      "    validate_parameter_constraints(\n",
      "  File \"C:\\Users\\Tasha\\AppData\\Local\\Packages\\PythonSoftwareFoundation.Python.3.11_qbz5n2kfra8p0\\LocalCache\\local-packages\\Python311\\site-packages\\sklearn\\utils\\_param_validation.py\", line 95, in validate_parameter_constraints\n",
      "    raise InvalidParameterError(\n",
      "sklearn.utils._param_validation.InvalidParameterError: The 'criterion' parameter of DecisionTreeRegressor must be a str among {'squared_error', 'friedman_mse', 'absolute_error', 'poisson'}. Got 'mse' instead.\n",
      "\n",
      "--------------------------------------------------------------------------------\n",
      "20 fits failed with the following error:\n",
      "Traceback (most recent call last):\n",
      "  File \"C:\\Users\\Tasha\\AppData\\Local\\Packages\\PythonSoftwareFoundation.Python.3.11_qbz5n2kfra8p0\\LocalCache\\local-packages\\Python311\\site-packages\\sklearn\\model_selection\\_validation.py\", line 729, in _fit_and_score\n",
      "    estimator.fit(X_train, y_train, **fit_params)\n",
      "  File \"C:\\Users\\Tasha\\AppData\\Local\\Packages\\PythonSoftwareFoundation.Python.3.11_qbz5n2kfra8p0\\LocalCache\\local-packages\\Python311\\site-packages\\sklearn\\base.py\", line 1145, in wrapper\n",
      "    estimator._validate_params()\n",
      "  File \"C:\\Users\\Tasha\\AppData\\Local\\Packages\\PythonSoftwareFoundation.Python.3.11_qbz5n2kfra8p0\\LocalCache\\local-packages\\Python311\\site-packages\\sklearn\\base.py\", line 638, in _validate_params\n",
      "    validate_parameter_constraints(\n",
      "  File \"C:\\Users\\Tasha\\AppData\\Local\\Packages\\PythonSoftwareFoundation.Python.3.11_qbz5n2kfra8p0\\LocalCache\\local-packages\\Python311\\site-packages\\sklearn\\utils\\_param_validation.py\", line 95, in validate_parameter_constraints\n",
      "    raise InvalidParameterError(\n",
      "sklearn.utils._param_validation.InvalidParameterError: The 'criterion' parameter of DecisionTreeRegressor must be a str among {'squared_error', 'friedman_mse', 'absolute_error', 'poisson'}. Got 'mae' instead.\n",
      "\n",
      "  warnings.warn(some_fits_failed_message, FitFailedWarning)\n",
      "C:\\Users\\Tasha\\AppData\\Local\\Packages\\PythonSoftwareFoundation.Python.3.11_qbz5n2kfra8p0\\LocalCache\\local-packages\\Python311\\site-packages\\sklearn\\model_selection\\_search.py:979: UserWarning: One or more of the test scores are non-finite: [          nan           nan           nan           nan           nan\n",
      "           nan           nan           nan           nan           nan\n",
      "           nan           nan           nan           nan           nan\n",
      "           nan           nan           nan           nan           nan\n",
      " -407.32799625 -407.32799625 -407.32799625 -407.32799625 -367.3604443\n",
      " -367.3604443  -367.3604443  -367.3604443  -312.3796089  -312.32779814\n",
      " -311.86838217 -312.15108405 -266.06176514 -267.02428681 -267.70027105\n",
      " -267.53889853 -228.14362787 -229.23379858 -230.36140922 -230.41415971\n",
      "           nan           nan           nan           nan           nan\n",
      "           nan           nan           nan           nan           nan\n",
      "           nan           nan           nan           nan           nan\n",
      "           nan           nan           nan           nan           nan]\n",
      "  warnings.warn(\n"
     ]
    }
   ],
   "source": [
    "# Combine train and test data for GridSearchCV\n",
    "X_combined = np.vstack((X_train, X_test))\n",
    "y_combined = np.hstack((y_train, y_test))\n",
    "\n",
    "# Create an array of indices:\n",
    "# -1 indicates the sample is part of the training set\n",
    "# 0 indicates the sample is part of the test set (used for evaluation during GridSearch)\n",
    "test_fold = [-1 for _ in range(X_train.shape[0])] + [0 for _ in range(X_test.shape[0])]\n",
    "ps = PredefinedSplit(test_fold)\n",
    "\n",
    "# Define the regression model\n",
    "dtree_regressor = DecisionTreeRegressor(random_state=1)\n",
    "\n",
    "# Grid of parameters to choose from\n",
    "parameters = {\n",
    "    'max_depth': np.arange(2, 7),\n",
    "    'criterion': ['mse', 'friedman_mse', 'mae'],\n",
    "    'min_samples_leaf': [5, 10, 20, 25]\n",
    "}\n",
    "\n",
    "# Type of scoring used to compare parameter combinations\n",
    "scorer = make_scorer(mean_squared_error, greater_is_better=False)\n",
    "\n",
    "# Run the grid search \n",
    "gridCV = GridSearchCV(dtree_regressor, parameters, scoring=scorer, cv=ps)\n",
    "\n",
    "# Fitting the grid search\n",
    "gridCV.fit(X_combined, y_combined)\n",
    "\n",
    "# Get the best estimator\n",
    "dtree_regressor_best = gridCV.best_estimator_"
   ]
  },
  {
   "cell_type": "markdown",
   "metadata": {},
   "source": [
    "Let's view the results as a table:"
   ]
  },
  {
   "cell_type": "code",
   "execution_count": 18,
   "metadata": {},
   "outputs": [
    {
     "name": "stdout",
     "output_type": "stream",
     "text": [
      "    Max Depth     Criterion  Min Samples Leaf    Mean MSE\n",
      "36          6  friedman_mse                 5  228.143628\n",
      "37          6  friedman_mse                10  229.233799\n",
      "38          6  friedman_mse                20  230.361409\n",
      "39          6  friedman_mse                25  230.414160\n",
      "32          5  friedman_mse                 5  266.061765\n"
     ]
    },
    {
     "name": "stderr",
     "output_type": "stream",
     "text": [
      "C:\\Users\\Tasha\\AppData\\Local\\Temp\\ipykernel_11196\\2153514816.py:14: SettingWithCopyWarning: \n",
      "A value is trying to be set on a copy of a slice from a DataFrame.\n",
      "Try using .loc[row_indexer,col_indexer] = value instead\n",
      "\n",
      "See the caveats in the documentation: https://pandas.pydata.org/pandas-docs/stable/user_guide/indexing.html#returning-a-view-versus-a-copy\n",
      "  df_mse['mean_test_score'] = -df_mse['mean_test_score']  # Convert negative MSE to positive\n"
     ]
    }
   ],
   "source": [
    "results = gridCV.cv_results_\n",
    "\n",
    "# Convert the results to a Pandas dataframe\n",
    "df_results = pd.DataFrame(results)\n",
    "\n",
    "# Extract each hyperparameter into its own column from the 'params' column\n",
    "df_results['max_depth'] = df_results['params'].apply(lambda x: x['max_depth'])\n",
    "df_results['criterion'] = df_results['params'].apply(lambda x: x['criterion'])\n",
    "df_results['min_samples_leaf'] = df_results['params'].apply(lambda x: x['min_samples_leaf'])\n",
    "\n",
    "# Select relevant columns and create the dataframe\n",
    "df_mse = df_results[['max_depth', 'criterion', 'min_samples_leaf', 'mean_test_score']]\n",
    "df_mse['mean_test_score'] = -df_mse['mean_test_score']  # Convert negative MSE to positive\n",
    "\n",
    "# Rename columns for clarity\n",
    "df_mse.columns = ['Max Depth', 'Criterion', 'Min Samples Leaf', 'Mean MSE']\n",
    "\n",
    "# Drop rows where 'Mean MSE' is NaN\n",
    "df_mse = df_mse.dropna(subset=['Mean MSE'])\n",
    "\n",
    "# Display the dataframe with top-5 created models\n",
    "df_mse_sorted = df_mse.sort_values(by='Mean MSE')\n",
    "df_mse_head = df_mse_sorted.head(5)\n",
    "print(df_mse_head)"
   ]
  },
  {
   "cell_type": "markdown",
   "metadata": {},
   "source": [
    "From the results of the GridSearch the best max_depth is 6 levels and the best min_sample_leaf is 10 samples per leaf. Now let's look at the metrics of the chosen model:"
   ]
  },
  {
   "cell_type": "code",
   "execution_count": 19,
   "metadata": {},
   "outputs": [
    {
     "name": "stdout",
     "output_type": "stream",
     "text": [
      "Mean Squared Error (MSE) on Testing Set: 214.27211786003434\n",
      "Root Mean Squared Error (RMSE) on Testing Set: 14.638036680512668\n",
      "Mean Absolute Error (MAE) on Testing Set: 9.68402497956858\n",
      "R-squared on Testing Set: 0.8193829182862041\n"
     ]
    },
    {
     "name": "stderr",
     "output_type": "stream",
     "text": [
      "C:\\Users\\Tasha\\AppData\\Local\\Packages\\PythonSoftwareFoundation.Python.3.11_qbz5n2kfra8p0\\LocalCache\\local-packages\\Python311\\site-packages\\sklearn\\base.py:458: UserWarning: X has feature names, but DecisionTreeRegressor was fitted without feature names\n",
      "  warnings.warn(\n"
     ]
    }
   ],
   "source": [
    "# Predict on the testing set\n",
    "y_pred_test = dtree_regressor_best.predict(X_test)\n",
    "\n",
    "# Calculate metrics\n",
    "mse_test = mean_squared_error(y_test, y_pred_test)\n",
    "rmse_test = np.sqrt(mse_test)\n",
    "mae_test = mean_absolute_error(y_test, y_pred_test)\n",
    "r2_test = r2_score(y_test, y_pred_test)\n",
    "\n",
    "# Print metrics\n",
    "print(f\"Mean Squared Error (MSE) on Testing Set: {mse_test}\")\n",
    "print(f\"Root Mean Squared Error (RMSE) on Testing Set: {rmse_test}\")\n",
    "print(f\"Mean Absolute Error (MAE) on Testing Set: {mae_test}\")\n",
    "print(f\"R-squared on Testing Set: {r2_test}\")"
   ]
  },
  {
   "cell_type": "markdown",
   "metadata": {},
   "source": [
    "Let's test the model on independent validation set (IVS):"
   ]
  },
  {
   "cell_type": "code",
   "execution_count": 20,
   "metadata": {},
   "outputs": [
    {
     "name": "stderr",
     "output_type": "stream",
     "text": [
      "C:\\Users\\Tasha\\AppData\\Local\\Packages\\PythonSoftwareFoundation.Python.3.11_qbz5n2kfra8p0\\LocalCache\\local-packages\\Python311\\site-packages\\sklearn\\base.py:458: UserWarning: X has feature names, but DecisionTreeRegressor was fitted without feature names\n",
      "  warnings.warn(\n"
     ]
    },
    {
     "name": "stdout",
     "output_type": "stream",
     "text": [
      "Mean Squared Error (MSE) on Validation Set: 228.7727107049221\n",
      "Root Mean Squared Error (RMSE) on Validation Set: 15.125234236365468\n",
      "Mean Absolute Error (MAE) on Validation Set: 9.9448923029107\n",
      "R-squared on Validation Set: 0.8088547583964902\n"
     ]
    },
    {
     "data": {
      "image/png": "[encoded data removed]",
      "text/plain": [
       "<Figure size 640x480 with 1 Axes>"
      ]
     },
     "metadata": {},
     "output_type": "display_data"
    }
   ],
   "source": [
    "# Predict on the validation set\n",
    "y_pred_val = dtree_regressor_best.predict(X_val)\n",
    "\n",
    "# Calculate metrics\n",
    "mse = mean_squared_error(y_val, y_pred_val)\n",
    "rmse = np.sqrt(mse)\n",
    "mae = mean_absolute_error(y_val, y_pred_val)\n",
    "r2 = r2_score(y_val, y_pred_val)\n",
    "\n",
    "# Print metrics\n",
    "print(f\"Mean Squared Error (MSE) on Validation Set: {mse}\")\n",
    "print(f\"Root Mean Squared Error (RMSE) on Validation Set: {rmse}\")\n",
    "print(f\"Mean Absolute Error (MAE) on Validation Set: {mae}\")\n",
    "print(f\"R-squared on Validation Set: {r2}\")\n",
    "\n",
    "# Scatter plot of actual vs. predicted values on the IVS\n",
    "plt.scatter(y_val, y_pred_val, label=\"IVS Predictions\", color='b', alpha=0.5)\n",
    "\n",
    "# Add a diagonal line for reference\n",
    "plt.plot([min(y_val), max(y_val)], [min(y_val), max(y_val)], color='r', linestyle='--', label=\"Perfect Predictions\")\n",
    "\n",
    "plt.xlabel(\"Actual Values\")\n",
    "plt.ylabel(\"Predicted Values\")\n",
    "plt.title(\"Actual vs. Predicted Values on IVS\")\n",
    "plt.legend()\n",
    "plt.show()\n"
   ]
  },
  {
   "cell_type": "markdown",
   "metadata": {},
   "source": [
    "#### 1.2: Linear Models"
   ]
  },
  {
   "cell_type": "code",
   "execution_count": 5,
   "metadata": {},
   "outputs": [],
   "source": [
    "# 1. LINEAR REGRESSION MODEL #\n",
    "\n",
    "# Train model\n",
    "reg1 = LinearRegression().fit(X_train, y_train)\n",
    "# Predict on test set\n",
    "y_pred1_test = reg1.predict(X_test)"
   ]
  },
  {
   "cell_type": "code",
   "execution_count": 6,
   "metadata": {},
   "outputs": [],
   "source": [
    "# 2. RIDGE REGRESSION MODEL WITH CROSS-VALIDATION (K-Fold Cross Validation) #\n",
    "\n",
    "# Train model\n",
    "reg2 = RidgeCV(cv=5, alphas=[1e-3, 1e-2, 1e-1, 1]).fit(X_train, y_train) # ridge regression with cross-validation and range of alpha values 0.001, 0.01, 0.1, 1\n",
    "# Predict on test set\n",
    "y_pred2_test = reg2.predict(X_test)\n",
    "# Resulting best alpha from cross-validation\n",
    "reg2_best_alpha = reg2.alpha_ "
   ]
  },
  {
   "cell_type": "code",
   "execution_count": 7,
   "metadata": {},
   "outputs": [
    {
     "name": "stderr",
     "output_type": "stream",
     "text": [
      "C:\\Users\\antun\\AppData\\Roaming\\Python\\Python311\\site-packages\\sklearn\\linear_model\\_coordinate_descent.py:617: ConvergenceWarning: Objective did not converge. You might want to increase the number of iterations. Duality gap: 2365.4204092714936, tolerance: 1268.5487813735356\n",
      "  model = cd_fast.enet_coordinate_descent_gram(\n",
      "C:\\Users\\antun\\AppData\\Roaming\\Python\\Python311\\site-packages\\sklearn\\linear_model\\_coordinate_descent.py:617: ConvergenceWarning: Objective did not converge. You might want to increase the number of iterations. Duality gap: 361898.7478658757, tolerance: 1268.5487813735356\n",
      "  model = cd_fast.enet_coordinate_descent_gram(\n",
      "C:\\Users\\antun\\AppData\\Roaming\\Python\\Python311\\site-packages\\sklearn\\linear_model\\_coordinate_descent.py:617: ConvergenceWarning: Objective did not converge. You might want to increase the number of iterations. Duality gap: 9233.799768580124, tolerance: 1268.4192516819078\n",
      "  model = cd_fast.enet_coordinate_descent_gram(\n",
      "C:\\Users\\antun\\AppData\\Roaming\\Python\\Python311\\site-packages\\sklearn\\linear_model\\_coordinate_descent.py:617: ConvergenceWarning: Objective did not converge. You might want to increase the number of iterations. Duality gap: 436203.90534183756, tolerance: 1268.4192516819078\n",
      "  model = cd_fast.enet_coordinate_descent_gram(\n",
      "C:\\Users\\antun\\AppData\\Roaming\\Python\\Python311\\site-packages\\sklearn\\linear_model\\_coordinate_descent.py:617: ConvergenceWarning: Objective did not converge. You might want to increase the number of iterations. Duality gap: 9606.876737037208, tolerance: 1270.1356089854016\n",
      "  model = cd_fast.enet_coordinate_descent_gram(\n",
      "C:\\Users\\antun\\AppData\\Roaming\\Python\\Python311\\site-packages\\sklearn\\linear_model\\_coordinate_descent.py:617: ConvergenceWarning: Objective did not converge. You might want to increase the number of iterations. Duality gap: 469457.9665184091, tolerance: 1270.1356089854016\n",
      "  model = cd_fast.enet_coordinate_descent_gram(\n",
      "C:\\Users\\antun\\AppData\\Roaming\\Python\\Python311\\site-packages\\sklearn\\linear_model\\_coordinate_descent.py:617: ConvergenceWarning: Objective did not converge. You might want to increase the number of iterations. Duality gap: 10051.505139176268, tolerance: 1268.6594451461792\n",
      "  model = cd_fast.enet_coordinate_descent_gram(\n",
      "C:\\Users\\antun\\AppData\\Roaming\\Python\\Python311\\site-packages\\sklearn\\linear_model\\_coordinate_descent.py:617: ConvergenceWarning: Objective did not converge. You might want to increase the number of iterations. Duality gap: 347207.61595434835, tolerance: 1268.6594451461792\n",
      "  model = cd_fast.enet_coordinate_descent_gram(\n",
      "C:\\Users\\antun\\AppData\\Roaming\\Python\\Python311\\site-packages\\sklearn\\linear_model\\_coordinate_descent.py:617: ConvergenceWarning: Objective did not converge. You might want to increase the number of iterations. Duality gap: 10572.823469202034, tolerance: 1266.4176161756648\n",
      "  model = cd_fast.enet_coordinate_descent_gram(\n",
      "C:\\Users\\antun\\AppData\\Roaming\\Python\\Python311\\site-packages\\sklearn\\linear_model\\_coordinate_descent.py:617: ConvergenceWarning: Objective did not converge. You might want to increase the number of iterations. Duality gap: 267493.41052703466, tolerance: 1266.4176161756648\n",
      "  model = cd_fast.enet_coordinate_descent_gram(\n",
      "C:\\Users\\antun\\AppData\\Roaming\\Python\\Python311\\site-packages\\sklearn\\linear_model\\_coordinate_descent.py:631: ConvergenceWarning: Objective did not converge. You might want to increase the number of iterations, check the scale of the features or consider increasing regularisation. Duality gap: 8.590e+05, tolerance: 1.586e+03\n",
      "  model = cd_fast.enet_coordinate_descent(\n"
     ]
    }
   ],
   "source": [
    "# 3. LASSO REGRESSION MODEL WITH CROSS-VALIDATION (K-Fold Cross Validation) #\n",
    "\n",
    "# Train model\n",
    "reg3 = LassoCV(cv=5, alphas=[1e-3, 1e-2, 1e-1, 1], max_iter=10000).fit(X_train, y_train) # lasso regression with cross-validation and range of alpha values 0.001, 0.01, 0.1, 1\n",
    "# Predict on test set\n",
    "y_pred3_test = reg3.predict(X_test)\n",
    "# Resulting best alpha from cross-validation\n",
    "reg3_best_alpha = reg3.alpha_"
   ]
  },
  {
   "cell_type": "code",
   "execution_count": 8,
   "metadata": {},
   "outputs": [
    {
     "name": "stderr",
     "output_type": "stream",
     "text": [
      "C:\\Users\\antun\\AppData\\Roaming\\Python\\Python311\\site-packages\\sklearn\\linear_model\\_coordinate_descent.py:617: ConvergenceWarning: Objective did not converge. You might want to increase the number of iterations. Duality gap: 2027.2736570164561, tolerance: 1268.4192516819078\n",
      "  model = cd_fast.enet_coordinate_descent_gram(\n",
      "C:\\Users\\antun\\AppData\\Roaming\\Python\\Python311\\site-packages\\sklearn\\linear_model\\_coordinate_descent.py:617: ConvergenceWarning: Objective did not converge. You might want to increase the number of iterations. Duality gap: 2084.0813863184303, tolerance: 1270.1356089854016\n",
      "  model = cd_fast.enet_coordinate_descent_gram(\n"
     ]
    }
   ],
   "source": [
    "# 4. LASSO REGRESSION MODEL WITH CROSS-VALIDATION (K-Fold Cross Validation) - With Normalised Features #\n",
    "\n",
    "# Compute statistics from the training set\n",
    "mean_train = X_train.mean()\n",
    "max_min_range_train = X_train.max() - X_train.min()\n",
    "# Normalize the training set\n",
    "X_train_norm = (X_train - mean_train) / max_min_range_train\n",
    "# Normalize the test set using the same statistics from the training set\n",
    "X_test_norm = (X_test - mean_train) / max_min_range_train\n",
    "\n",
    "# Train model\n",
    "reg4 = LassoCV(cv=5, alphas=[1e-3, 1e-2, 1e-1, 1], max_iter=10000).fit(X_train_norm, y_train) # lasso regression with cross-validation and range of alpha values 0.001, 0.01, 0.1, 1\n",
    "# Predict on test set\n",
    "y_pred4_test = reg4.predict(X_test_norm)\n",
    "# Resulting best alpha from cross-validation\n",
    "reg4_best_alpha = reg4.alpha_"
   ]
  },
  {
   "cell_type": "code",
   "execution_count": 9,
   "metadata": {},
   "outputs": [
    {
     "name": "stderr",
     "output_type": "stream",
     "text": [
      "C:\\Users\\antun\\AppData\\Roaming\\Python\\Python311\\site-packages\\sklearn\\linear_model\\_coordinate_descent.py:617: ConvergenceWarning: Objective did not converge. You might want to increase the number of iterations. Duality gap: 2580.8678956055082, tolerance: 1268.5487813735356\n",
      "  model = cd_fast.enet_coordinate_descent_gram(\n",
      "C:\\Users\\antun\\AppData\\Roaming\\Python\\Python311\\site-packages\\sklearn\\linear_model\\_coordinate_descent.py:617: ConvergenceWarning: Objective did not converge. You might want to increase the number of iterations. Duality gap: 5715.567715616897, tolerance: 1268.4192516819078\n",
      "  model = cd_fast.enet_coordinate_descent_gram(\n",
      "C:\\Users\\antun\\AppData\\Roaming\\Python\\Python311\\site-packages\\sklearn\\linear_model\\_coordinate_descent.py:617: ConvergenceWarning: Objective did not converge. You might want to increase the number of iterations. Duality gap: 1570.0766816055402, tolerance: 1270.1356089854016\n",
      "  model = cd_fast.enet_coordinate_descent_gram(\n",
      "C:\\Users\\antun\\AppData\\Roaming\\Python\\Python311\\site-packages\\sklearn\\linear_model\\_coordinate_descent.py:617: ConvergenceWarning: Objective did not converge. You might want to increase the number of iterations. Duality gap: 1500.3447217349894, tolerance: 1266.4176161756648\n",
      "  model = cd_fast.enet_coordinate_descent_gram(\n",
      "C:\\Users\\antun\\AppData\\Roaming\\Python\\Python311\\site-packages\\sklearn\\linear_model\\_coordinate_descent.py:617: ConvergenceWarning: Objective did not converge. You might want to increase the number of iterations. Duality gap: 41076.09225651855, tolerance: 1268.5487813735356\n",
      "  model = cd_fast.enet_coordinate_descent_gram(\n",
      "C:\\Users\\antun\\AppData\\Roaming\\Python\\Python311\\site-packages\\sklearn\\linear_model\\_coordinate_descent.py:617: ConvergenceWarning: Objective did not converge. You might want to increase the number of iterations. Duality gap: 47088.99569465127, tolerance: 1268.4192516819078\n",
      "  model = cd_fast.enet_coordinate_descent_gram(\n",
      "C:\\Users\\antun\\AppData\\Roaming\\Python\\Python311\\site-packages\\sklearn\\linear_model\\_coordinate_descent.py:617: ConvergenceWarning: Objective did not converge. You might want to increase the number of iterations. Duality gap: 64963.90119346557, tolerance: 1270.1356089854016\n",
      "  model = cd_fast.enet_coordinate_descent_gram(\n",
      "C:\\Users\\antun\\AppData\\Roaming\\Python\\Python311\\site-packages\\sklearn\\linear_model\\_coordinate_descent.py:617: ConvergenceWarning: Objective did not converge. You might want to increase the number of iterations. Duality gap: 46333.45135027636, tolerance: 1268.6594451461792\n",
      "  model = cd_fast.enet_coordinate_descent_gram(\n",
      "C:\\Users\\antun\\AppData\\Roaming\\Python\\Python311\\site-packages\\sklearn\\linear_model\\_coordinate_descent.py:617: ConvergenceWarning: Objective did not converge. You might want to increase the number of iterations. Duality gap: 33228.08889143681, tolerance: 1266.4176161756648\n",
      "  model = cd_fast.enet_coordinate_descent_gram(\n",
      "C:\\Users\\antun\\AppData\\Roaming\\Python\\Python311\\site-packages\\sklearn\\linear_model\\_coordinate_descent.py:617: ConvergenceWarning: Objective did not converge. You might want to increase the number of iterations. Duality gap: 116652.91480490984, tolerance: 1268.5487813735356\n",
      "  model = cd_fast.enet_coordinate_descent_gram(\n",
      "C:\\Users\\antun\\AppData\\Roaming\\Python\\Python311\\site-packages\\sklearn\\linear_model\\_coordinate_descent.py:617: ConvergenceWarning: Objective did not converge. You might want to increase the number of iterations. Duality gap: 217619.17534582643, tolerance: 1268.4192516819078\n",
      "  model = cd_fast.enet_coordinate_descent_gram(\n",
      "C:\\Users\\antun\\AppData\\Roaming\\Python\\Python311\\site-packages\\sklearn\\linear_model\\_coordinate_descent.py:617: ConvergenceWarning: Objective did not converge. You might want to increase the number of iterations. Duality gap: 153175.18272516178, tolerance: 1270.1356089854016\n",
      "  model = cd_fast.enet_coordinate_descent_gram(\n",
      "C:\\Users\\antun\\AppData\\Roaming\\Python\\Python311\\site-packages\\sklearn\\linear_model\\_coordinate_descent.py:617: ConvergenceWarning: Objective did not converge. You might want to increase the number of iterations. Duality gap: 105869.77442049002, tolerance: 1268.6594451461792\n",
      "  model = cd_fast.enet_coordinate_descent_gram(\n",
      "C:\\Users\\antun\\AppData\\Roaming\\Python\\Python311\\site-packages\\sklearn\\linear_model\\_coordinate_descent.py:617: ConvergenceWarning: Objective did not converge. You might want to increase the number of iterations. Duality gap: 67485.5525735491, tolerance: 1266.4176161756648\n",
      "  model = cd_fast.enet_coordinate_descent_gram(\n",
      "C:\\Users\\antun\\AppData\\Roaming\\Python\\Python311\\site-packages\\sklearn\\linear_model\\_coordinate_descent.py:617: ConvergenceWarning: Objective did not converge. You might want to increase the number of iterations. Duality gap: 334035.2302381224, tolerance: 1268.5487813735356\n",
      "  model = cd_fast.enet_coordinate_descent_gram(\n",
      "C:\\Users\\antun\\AppData\\Roaming\\Python\\Python311\\site-packages\\sklearn\\linear_model\\_coordinate_descent.py:617: ConvergenceWarning: Objective did not converge. You might want to increase the number of iterations. Duality gap: 361824.2126848351, tolerance: 1268.4192516819078\n",
      "  model = cd_fast.enet_coordinate_descent_gram(\n",
      "C:\\Users\\antun\\AppData\\Roaming\\Python\\Python311\\site-packages\\sklearn\\linear_model\\_coordinate_descent.py:617: ConvergenceWarning: Objective did not converge. You might want to increase the number of iterations. Duality gap: 379177.22275077854, tolerance: 1270.1356089854016\n",
      "  model = cd_fast.enet_coordinate_descent_gram(\n",
      "C:\\Users\\antun\\AppData\\Roaming\\Python\\Python311\\site-packages\\sklearn\\linear_model\\_coordinate_descent.py:617: ConvergenceWarning: Objective did not converge. You might want to increase the number of iterations. Duality gap: 303323.5686409725, tolerance: 1268.6594451461792\n",
      "  model = cd_fast.enet_coordinate_descent_gram(\n",
      "C:\\Users\\antun\\AppData\\Roaming\\Python\\Python311\\site-packages\\sklearn\\linear_model\\_coordinate_descent.py:617: ConvergenceWarning: Objective did not converge. You might want to increase the number of iterations. Duality gap: 336917.6537955892, tolerance: 1266.4176161756648\n",
      "  model = cd_fast.enet_coordinate_descent_gram(\n",
      "C:\\Users\\antun\\AppData\\Roaming\\Python\\Python311\\site-packages\\sklearn\\linear_model\\_coordinate_descent.py:617: ConvergenceWarning: Objective did not converge. You might want to increase the number of iterations. Duality gap: 2365.4204092714936, tolerance: 1268.5487813735356\n",
      "  model = cd_fast.enet_coordinate_descent_gram(\n",
      "C:\\Users\\antun\\AppData\\Roaming\\Python\\Python311\\site-packages\\sklearn\\linear_model\\_coordinate_descent.py:617: ConvergenceWarning: Objective did not converge. You might want to increase the number of iterations. Duality gap: 361898.7478658757, tolerance: 1268.5487813735356\n",
      "  model = cd_fast.enet_coordinate_descent_gram(\n",
      "C:\\Users\\antun\\AppData\\Roaming\\Python\\Python311\\site-packages\\sklearn\\linear_model\\_coordinate_descent.py:617: ConvergenceWarning: Objective did not converge. You might want to increase the number of iterations. Duality gap: 9233.799768580124, tolerance: 1268.4192516819078\n",
      "  model = cd_fast.enet_coordinate_descent_gram(\n",
      "C:\\Users\\antun\\AppData\\Roaming\\Python\\Python311\\site-packages\\sklearn\\linear_model\\_coordinate_descent.py:617: ConvergenceWarning: Objective did not converge. You might want to increase the number of iterations. Duality gap: 436203.90534183756, tolerance: 1268.4192516819078\n",
      "  model = cd_fast.enet_coordinate_descent_gram(\n",
      "C:\\Users\\antun\\AppData\\Roaming\\Python\\Python311\\site-packages\\sklearn\\linear_model\\_coordinate_descent.py:617: ConvergenceWarning: Objective did not converge. You might want to increase the number of iterations. Duality gap: 9606.876737037208, tolerance: 1270.1356089854016\n",
      "  model = cd_fast.enet_coordinate_descent_gram(\n",
      "C:\\Users\\antun\\AppData\\Roaming\\Python\\Python311\\site-packages\\sklearn\\linear_model\\_coordinate_descent.py:617: ConvergenceWarning: Objective did not converge. You might want to increase the number of iterations. Duality gap: 469457.9665184091, tolerance: 1270.1356089854016\n",
      "  model = cd_fast.enet_coordinate_descent_gram(\n",
      "C:\\Users\\antun\\AppData\\Roaming\\Python\\Python311\\site-packages\\sklearn\\linear_model\\_coordinate_descent.py:617: ConvergenceWarning: Objective did not converge. You might want to increase the number of iterations. Duality gap: 10051.505139176268, tolerance: 1268.6594451461792\n",
      "  model = cd_fast.enet_coordinate_descent_gram(\n",
      "C:\\Users\\antun\\AppData\\Roaming\\Python\\Python311\\site-packages\\sklearn\\linear_model\\_coordinate_descent.py:617: ConvergenceWarning: Objective did not converge. You might want to increase the number of iterations. Duality gap: 347207.61595434835, tolerance: 1268.6594451461792\n",
      "  model = cd_fast.enet_coordinate_descent_gram(\n",
      "C:\\Users\\antun\\AppData\\Roaming\\Python\\Python311\\site-packages\\sklearn\\linear_model\\_coordinate_descent.py:617: ConvergenceWarning: Objective did not converge. You might want to increase the number of iterations. Duality gap: 10572.823469202034, tolerance: 1266.4176161756648\n",
      "  model = cd_fast.enet_coordinate_descent_gram(\n",
      "C:\\Users\\antun\\AppData\\Roaming\\Python\\Python311\\site-packages\\sklearn\\linear_model\\_coordinate_descent.py:617: ConvergenceWarning: Objective did not converge. You might want to increase the number of iterations. Duality gap: 267493.41052703466, tolerance: 1266.4176161756648\n",
      "  model = cd_fast.enet_coordinate_descent_gram(\n",
      "C:\\Users\\antun\\AppData\\Roaming\\Python\\Python311\\site-packages\\sklearn\\linear_model\\_coordinate_descent.py:631: ConvergenceWarning: Objective did not converge. You might want to increase the number of iterations, check the scale of the features or consider increasing regularisation. Duality gap: 8.590e+05, tolerance: 1.586e+03\n",
      "  model = cd_fast.enet_coordinate_descent(\n"
     ]
    }
   ],
   "source": [
    "# 5. ELASTIC NET REGRESSION MODEL WiTH CROSS-VALIDATION (K-Fold Cross Validation) #\n",
    "\n",
    "# Train model\n",
    "reg5 = ElasticNetCV(cv=5, alphas=[1e-3, 1e-2, 1e-1, 1], l1_ratio=[.1, .5, .7, .9, .95, .99, 1], max_iter=10000).fit(X_train, y_train) # elastic net regression with cross-validation and range of alpha values 0.001, 0.01, 0.1, 1 as well as range of l1_ratio values 0.1, 0.5, 0.7, 0.9, 0.95, 0.99, 1\n",
    "# Predict on test set\n",
    "y_pred5_test = reg5.predict(X_test)\n",
    "# Resulting best alpha from cross-validation\n",
    "reg5_best_alpha = reg5.alpha_\n",
    "# Resulting best l1_ratio from cross-validation\n",
    "reg5_best_l1_ratio = reg5.l1_ratio_"
   ]
  },
  {
   "cell_type": "markdown",
   "metadata": {},
   "source": [
    "*NOTE: The warnings above are the result of models not being able to converge. This is due to the fact that several models with different hyperparameters were tested and for some of the parameters the model did not converge. The models that did not converge were not used in the final model selection.*"
   ]
  },
  {
   "cell_type": "markdown",
   "metadata": {},
   "source": [
    "#### Linear Models: Results"
   ]
  },
  {
   "cell_type": "code",
   "execution_count": 10,
   "metadata": {},
   "outputs": [
    {
     "data": {
      "text/html": [
       "<div>\n",
       "<style scoped>\n",
       "    .dataframe tbody tr th:only-of-type {\n",
       "        vertical-align: middle;\n",
       "    }\n",
       "\n",
       "    .dataframe tbody tr th {\n",
       "        vertical-align: top;\n",
       "    }\n",
       "\n",
       "    .dataframe thead th {\n",
       "        text-align: right;\n",
       "    }\n",
       "</style>\n",
       "<table border=\"1\" class=\"dataframe\">\n",
       "  <thead>\n",
       "    <tr style=\"text-align: right;\">\n",
       "      <th></th>\n",
       "      <th>Model</th>\n",
       "      <th>MSE</th>\n",
       "      <th>RMSE</th>\n",
       "      <th>MAE</th>\n",
       "      <th>R2</th>\n",
       "      <th>Best Alpha</th>\n",
       "      <th>Best l1_ratio</th>\n",
       "    </tr>\n",
       "  </thead>\n",
       "  <tbody>\n",
       "    <tr>\n",
       "      <th>0</th>\n",
       "      <td>Linear Regression</td>\n",
       "      <td>300.226879</td>\n",
       "      <td>17.327056</td>\n",
       "      <td>13.202890</td>\n",
       "      <td>0.740512</td>\n",
       "      <td>-</td>\n",
       "      <td>-</td>\n",
       "    </tr>\n",
       "    <tr>\n",
       "      <th>1</th>\n",
       "      <td>Ridge Regression</td>\n",
       "      <td>300.094027</td>\n",
       "      <td>17.323222</td>\n",
       "      <td>13.195956</td>\n",
       "      <td>0.740627</td>\n",
       "      <td>0.1</td>\n",
       "      <td>-</td>\n",
       "    </tr>\n",
       "    <tr>\n",
       "      <th>2</th>\n",
       "      <td>Lasso Regression</td>\n",
       "      <td>299.806594</td>\n",
       "      <td>17.314924</td>\n",
       "      <td>13.169824</td>\n",
       "      <td>0.740875</td>\n",
       "      <td>0.001</td>\n",
       "      <td>-</td>\n",
       "    </tr>\n",
       "    <tr>\n",
       "      <th>3</th>\n",
       "      <td>Lasso Regression (Normalised)</td>\n",
       "      <td>301.007264</td>\n",
       "      <td>17.349561</td>\n",
       "      <td>13.175865</td>\n",
       "      <td>0.739838</td>\n",
       "      <td>0.001</td>\n",
       "      <td>-</td>\n",
       "    </tr>\n",
       "    <tr>\n",
       "      <th>4</th>\n",
       "      <td>ElasticNet Regression</td>\n",
       "      <td>299.806594</td>\n",
       "      <td>17.314924</td>\n",
       "      <td>13.169824</td>\n",
       "      <td>0.740875</td>\n",
       "      <td>0.001</td>\n",
       "      <td>1.0</td>\n",
       "    </tr>\n",
       "  </tbody>\n",
       "</table>\n",
       "</div>"
      ],
      "text/plain": [
       "                           Model         MSE       RMSE        MAE        R2  \\\n",
       "0              Linear Regression  300.226879  17.327056  13.202890  0.740512   \n",
       "1               Ridge Regression  300.094027  17.323222  13.195956  0.740627   \n",
       "2               Lasso Regression  299.806594  17.314924  13.169824  0.740875   \n",
       "3  Lasso Regression (Normalised)  301.007264  17.349561  13.175865  0.739838   \n",
       "4          ElasticNet Regression  299.806594  17.314924  13.169824  0.740875   \n",
       "\n",
       "  Best Alpha Best l1_ratio  \n",
       "0          -             -  \n",
       "1        0.1             -  \n",
       "2      0.001             -  \n",
       "3      0.001             -  \n",
       "4      0.001           1.0  "
      ]
     },
     "execution_count": 10,
     "metadata": {},
     "output_type": "execute_result"
    }
   ],
   "source": [
    "# Create data frame\n",
    "df_results = pd.DataFrame(columns=['Model', 'MSE', 'RMSE', 'MAE', 'R2', 'Best Alpha', 'Best l1_ratio'])\n",
    "# Create data frames for each model\n",
    "model1 = pd.DataFrame({'Model': 'Linear Regression', 'MSE': mean_squared_error(y_test, y_pred1_test), 'RMSE': np.sqrt(mean_squared_error(y_test, y_pred1_test)), 'MAE': mean_absolute_error(y_test, y_pred1_test), 'R2': r2_score(y_test, y_pred1_test), 'Best Alpha': '-', 'Best l1_ratio': '-'}, index=[0])\n",
    "model2 = pd.DataFrame({'Model': 'Ridge Regression', 'MSE': mean_squared_error(y_test, y_pred2_test), 'RMSE': np.sqrt(mean_squared_error(y_test, y_pred2_test)), 'MAE': mean_absolute_error(y_test, y_pred2_test), 'R2': r2_score(y_test, y_pred2_test), 'Best Alpha': reg2_best_alpha, 'Best l1_ratio': '-'}, index=[1])\n",
    "model3 = pd.DataFrame({'Model': 'Lasso Regression', 'MSE': mean_squared_error(y_test, y_pred3_test), 'RMSE': np.sqrt(mean_squared_error(y_test, y_pred3_test)), 'MAE': mean_absolute_error(y_test, y_pred3_test), 'R2': r2_score(y_test, y_pred3_test), 'Best Alpha': reg3_best_alpha, 'Best l1_ratio': '-'}, index=[2])\n",
    "model4 = pd.DataFrame({'Model': 'Lasso Regression (Normalised)', 'MSE': mean_squared_error(y_test, y_pred4_test), 'RMSE': np.sqrt(mean_squared_error(y_test, y_pred4_test)), 'MAE': mean_absolute_error(y_test, y_pred4_test), 'R2': r2_score(y_test, y_pred4_test), 'Best Alpha': reg4_best_alpha, 'Best l1_ratio': '-'}, index=[3])\n",
    "model5 = pd.DataFrame({'Model': 'ElasticNet Regression', 'MSE': mean_squared_error(y_test, y_pred5_test), 'RMSE': np.sqrt(mean_squared_error(y_test, y_pred5_test)), 'MAE': mean_absolute_error(y_test, y_pred5_test), 'R2': r2_score(y_test, y_pred5_test), 'Best Alpha': reg5_best_alpha, 'Best l1_ratio': reg5_best_l1_ratio}, index=[4])\n",
    "# Concatenate the data frames\n",
    "df_results = pd.concat([df_results, model1, model2, model3, model4, model5], ignore_index=True)\n",
    "# Print results\n",
    "df_results\n"
   ]
  },
  {
   "cell_type": "code",
   "execution_count": 11,
   "metadata": {},
   "outputs": [
    {
     "data": {
      "image/png": "[encoded data removed]",
      "text/plain": [
       "<Figure size 700x700 with 6 Axes>"
      ]
     },
     "metadata": {},
     "output_type": "display_data"
    }
   ],
   "source": [
    "# Plots of the models\n",
    "\n",
    "# Create figure\n",
    "fig, axes = plt.subplots(3, 2, figsize=(7, 7))\n",
    "axes = axes.flatten()\n",
    "# List of model names, their predictions, and metrics\n",
    "models = ['Linear Regression', 'Ridge Regression', 'Lasso Regression', 'Lasso Regression - Normalised','Elastic Net Regression']\n",
    "predictions = [y_pred1_test, y_pred2_test, y_pred3_test, y_pred4_test, y_pred5_test]\n",
    "metrics = [\n",
    "    f\"MSE: {mean_squared_error(y_test, y_pred1_test):.2f}\\nRMSE: {np.sqrt(mean_squared_error(y_test, y_pred1_test)):.2f}\\nMAE: {mean_absolute_error(y_test, y_pred1_test):.2f}\\nR2: {r2_score(y_test, y_pred1_test):.2f}\"\n",
    "    for prediction in predictions\n",
    "]\n",
    "# Define a list of pastel colors\n",
    "pastel_colors = ['#FFBB78', '#C2C2F0', '#FF796C', '#AB83A1', '#F7B6D2']\n",
    "for i, (model_name, prediction, metric, color) in enumerate(zip(models, predictions, metrics, pastel_colors)):\n",
    "    ax = axes[i]\n",
    "    ax.scatter(y_test, prediction, color=color)\n",
    "    ax.plot(y_test, y_test, color='red')\n",
    "    ax.set_title(model_name)\n",
    "    ax.set_xlabel('True Values')\n",
    "    ax.set_ylabel('Predictions')\n",
    "    ax.text(0.1, 0.9, metric, transform=ax.transAxes, fontsize=10, verticalalignment='top')\n",
    "# Show & save plot\n",
    "plt.tight_layout()\n",
    "plt.savefig('HA1-RegressionPlots.png')\n",
    "plt.show()"
   ]
  },
  {
   "cell_type": "markdown",
   "metadata": {},
   "source": [
    "#### Validation"
   ]
  },
  {
   "cell_type": "code",
   "execution_count": 12,
   "metadata": {},
   "outputs": [],
   "source": [
    "# VALIDATION OF THE LINEAR REGRESSION MODEL #   \n",
    "\n",
    "# Predict on validation set\n",
    "y_pred1_val = reg1.predict(X_val)"
   ]
  },
  {
   "cell_type": "code",
   "execution_count": 13,
   "metadata": {},
   "outputs": [
    {
     "data": {
      "text/html": [
       "<div>\n",
       "<style scoped>\n",
       "    .dataframe tbody tr th:only-of-type {\n",
       "        vertical-align: middle;\n",
       "    }\n",
       "\n",
       "    .dataframe tbody tr th {\n",
       "        vertical-align: top;\n",
       "    }\n",
       "\n",
       "    .dataframe thead th {\n",
       "        text-align: right;\n",
       "    }\n",
       "</style>\n",
       "<table border=\"1\" class=\"dataframe\">\n",
       "  <thead>\n",
       "    <tr style=\"text-align: right;\">\n",
       "      <th></th>\n",
       "      <th>Test Set</th>\n",
       "      <th>Validation Set</th>\n",
       "    </tr>\n",
       "    <tr>\n",
       "      <th>Metric</th>\n",
       "      <th></th>\n",
       "      <th></th>\n",
       "    </tr>\n",
       "  </thead>\n",
       "  <tbody>\n",
       "    <tr>\n",
       "      <th>MSE</th>\n",
       "      <td>300.226879</td>\n",
       "      <td>317.700266</td>\n",
       "    </tr>\n",
       "    <tr>\n",
       "      <th>MAE</th>\n",
       "      <td>13.202890</td>\n",
       "      <td>13.509370</td>\n",
       "    </tr>\n",
       "    <tr>\n",
       "      <th>RMSE</th>\n",
       "      <td>17.327056</td>\n",
       "      <td>17.824148</td>\n",
       "    </tr>\n",
       "    <tr>\n",
       "      <th>R2</th>\n",
       "      <td>0.740512</td>\n",
       "      <td>0.734554</td>\n",
       "    </tr>\n",
       "  </tbody>\n",
       "</table>\n",
       "</div>"
      ],
      "text/plain": [
       "          Test Set  Validation Set\n",
       "Metric                            \n",
       "MSE     300.226879      317.700266\n",
       "MAE      13.202890       13.509370\n",
       "RMSE     17.327056       17.824148\n",
       "R2        0.740512        0.734554"
      ]
     },
     "execution_count": 13,
     "metadata": {},
     "output_type": "execute_result"
    }
   ],
   "source": [
    "# Calculate metrics for test set\n",
    "mse_test = mean_squared_error(y_test, y_pred1_test)\n",
    "rmse_test = np.sqrt(mse_test)\n",
    "mae_test = mean_absolute_error(y_test, y_pred1_test)\n",
    "r2_test = r2_score(y_test, y_pred1_test)\n",
    "# Calculate metrics for validation set\n",
    "mse_val = mean_squared_error(y_val, y_pred1_val)\n",
    "rmse_val = np.sqrt(mse_val) \n",
    "mae_val = mean_absolute_error(y_val, y_pred1_val)\n",
    "r2_val = r2_score(y_val, y_pred1_val)\n",
    "# Create a DataFrame to present the metrics\n",
    "metrics_df = pd.DataFrame({\n",
    "    'Metric': ['MSE', 'MAE', 'RMSE', 'R2'],  # Added RMSE here\n",
    "    'Test Set': [mse_test, mae_test, rmse_test, r2_test],  # Added RMSE here\n",
    "    'Validation Set': [mse_val, mae_val, rmse_val, r2_val]  # Added RMSE here\n",
    "})\n",
    "# Set & display the metric column as the index\n",
    "metrics_df.set_index('Metric', inplace=True)\n",
    "metrics_df"
   ]
  },
  {
   "cell_type": "markdown",
   "metadata": {},
   "source": [
    "***CONCUSION:*** The metrics on the validation set are reasonably close to those on the test set which suggests that our model is performing consistently and is likely to generalize well to new, unseen data."
   ]
  },
  {
   "cell_type": "markdown",
   "metadata": {},
   "source": [
    "### **Objective 2** - Produce the best binary classification model assuming as positive all instances with values of critical_temp >= 80.0 and as negatives all remaining cases"
   ]
  },
  {
   "cell_type": "markdown",
   "metadata": {
    "collapsed": false,
    "jupyter": {
     "outputs_hidden": false
    }
   },
   "source": [
    "Firstly, we need to transform all the target columns to the binary classification problem instances."
   ]
  },
  {
   "cell_type": "code",
   "execution_count": 10,
   "metadata": {
    "collapsed": false,
    "jupyter": {
     "outputs_hidden": false
    }
   },
   "outputs": [],
   "source": [
    "# transform the target column to a binary classification problem\n",
    "# 0 - negative\n",
    "# 1 - positive\n",
    "def transform_to_binary(x):\n",
    "    return 1 if x >= 80 else 0\n",
    "\n",
    "y_train_bin = y_train.apply(transform_to_binary)\n",
    "y_val_bin = y_val.apply(transform_to_binary)\n",
    "y_test_bin = y_test.apply(transform_to_binary)"
   ]
  },
  {
   "cell_type": "code",
   "execution_count": 11,
   "metadata": {
    "collapsed": false,
    "jupyter": {
     "outputs_hidden": false
    }
   },
   "outputs": [
    {
     "data": {
      "text/plain": [
       "0    11307\n",
       "1     2244\n",
       "Name: critical_temp, dtype: int64"
      ]
     },
     "execution_count": 11,
     "metadata": {},
     "output_type": "execute_result"
    }
   ],
   "source": [
    "y_train_bin.value_counts()"
   ]
  },
  {
   "cell_type": "markdown",
   "metadata": {
    "collapsed": false,
    "jupyter": {
     "outputs_hidden": false
    }
   },
   "source": [
    "We can see that the data is imbalanced, we have much more negative (0) observations. Therefore, we will use `F1 score` as our main metric."
   ]
  },
  {
   "cell_type": "markdown",
   "metadata": {
    "collapsed": false,
    "jupyter": {
     "outputs_hidden": false
    }
   },
   "source": [
    "#### 2.1 Decision tree"
   ]
  },
  {
   "cell_type": "code",
   "execution_count": 12,
   "metadata": {
    "collapsed": false,
    "jupyter": {
     "outputs_hidden": false
    }
   },
   "outputs": [],
   "source": [
    "def get_classification_scores(y_true, y_predicted):\n",
    "    return pd.DataFrame([\n",
    "        ['Accuracy', round(accuracy_score(y_true, y_predicted), 4)],\n",
    "        ['Precision', round(precision_score(y_true, y_predicted), 4)],\n",
    "        ['Recall', round(recall_score(y_true, y_predicted), 4)],\n",
    "        ['F1 score', round(f1_score(y_true, y_predicted), 4)]\n",
    "    ], columns=['metric', 'score'])\n",
    "\n",
    "def print_confusion_matrix(y_true, y_predicted):\n",
    "    print(\"The Confusion Matrix\")\n",
    "    print(pd.DataFrame(confusion_matrix(y_true, y_predicted)))"
   ]
  },
  {
   "cell_type": "markdown",
   "metadata": {
    "collapsed": false,
    "jupyter": {
     "outputs_hidden": false
    }
   },
   "source": [
    "We will explore different values of the following hyperparameters: `min_samples_leaf`, `max_depth`"
   ]
  },
  {
   "cell_type": "code",
   "execution_count": 13,
   "metadata": {
    "collapsed": false,
    "jupyter": {
     "outputs_hidden": false
    }
   },
   "outputs": [
    {
     "data": {
      "text/html": [
       "<div>\n",
       "<style scoped>\n",
       "    .dataframe tbody tr th:only-of-type {\n",
       "        vertical-align: middle;\n",
       "    }\n",
       "\n",
       "    .dataframe tbody tr th {\n",
       "        vertical-align: top;\n",
       "    }\n",
       "\n",
       "    .dataframe thead th {\n",
       "        text-align: right;\n",
       "    }\n",
       "</style>\n",
       "<table border=\"1\" class=\"dataframe\">\n",
       "  <thead>\n",
       "    <tr style=\"text-align: right;\">\n",
       "      <th></th>\n",
       "      <th>min_samples_leaf</th>\n",
       "      <th>max_depth</th>\n",
       "      <th>F1</th>\n",
       "    </tr>\n",
       "  </thead>\n",
       "  <tbody>\n",
       "    <tr>\n",
       "      <th>457</th>\n",
       "      <td>4</td>\n",
       "      <td>40</td>\n",
       "      <td>0.804788</td>\n",
       "    </tr>\n",
       "    <tr>\n",
       "      <th>242</th>\n",
       "      <td>6</td>\n",
       "      <td>22</td>\n",
       "      <td>0.804449</td>\n",
       "    </tr>\n",
       "    <tr>\n",
       "      <th>482</th>\n",
       "      <td>6</td>\n",
       "      <td>42</td>\n",
       "      <td>0.803324</td>\n",
       "    </tr>\n",
       "    <tr>\n",
       "      <th>265</th>\n",
       "      <td>4</td>\n",
       "      <td>24</td>\n",
       "      <td>0.802974</td>\n",
       "    </tr>\n",
       "    <tr>\n",
       "      <th>481</th>\n",
       "      <td>4</td>\n",
       "      <td>42</td>\n",
       "      <td>0.801115</td>\n",
       "    </tr>\n",
       "  </tbody>\n",
       "</table>\n",
       "</div>"
      ],
      "text/plain": [
       "     min_samples_leaf  max_depth        F1\n",
       "457                 4         40  0.804788\n",
       "242                 6         22  0.804449\n",
       "482                 6         42  0.803324\n",
       "265                 4         24  0.802974\n",
       "481                 4         42  0.801115"
      ]
     },
     "execution_count": 13,
     "metadata": {},
     "output_type": "execute_result"
    }
   ],
   "source": [
    "min_samples_leaf_values = range(2,50,2)\n",
    "max_depth_values = range(2,50,2)\n",
    "\n",
    "results = {\"min_samples_leaf\": [], \"max_depth\": [], \"F1\": []}\n",
    "\n",
    "for max_depth in max_depth_values:\n",
    "    for min_samples_leaf in min_samples_leaf_values:\n",
    "        model = DecisionTreeClassifier(max_depth=max_depth, min_samples_leaf=min_samples_leaf)\n",
    "        model.fit(X_train, y_train_bin)\n",
    "        y_preds = model.predict(X_test)\n",
    "        f1 = f1_score(y_test_bin, y_preds)\n",
    "\n",
    "        results[\"min_samples_leaf\"].append(min_samples_leaf)\n",
    "        results[\"max_depth\"].append(max_depth)\n",
    "        results[\"F1\"].append(f1)\n",
    "\n",
    "scores_df = pd.DataFrame(results, index=None)\n",
    "scores_df = scores_df.sort_values(by=\"F1\", ascending=False)\n",
    "\n",
    "best_max_depth = int(scores_df.iloc[0].max_depth)\n",
    "best_min_samples_leaf = int(scores_df.iloc[0].min_samples_leaf)\n",
    "\n",
    "scores_df.head()"
   ]
  },
  {
   "cell_type": "markdown",
   "metadata": {
    "collapsed": false,
    "jupyter": {
     "outputs_hidden": false
    }
   },
   "source": [
    "Model with `max_depth`=6 And `min_samples_leaf`=24 turned out to be the best. However, if we look at the table below showing 5 best performing hyperparameters combinations, we can make a few interesting observations. \n",
    "The F1 scores for all those models are very similar and `min_samples_leaf`=6 seems to be a very stable value. However, when it comes to `max_depth`, we don’t see one definite value. There is quite a big variation in this value among the models.\n",
    "Therefore, we decided to investigate `max_depth` value deeper."
   ]
  },
  {
   "cell_type": "code",
   "execution_count": 14,
   "metadata": {
    "collapsed": false,
    "jupyter": {
     "outputs_hidden": false
    }
   },
   "outputs": [
    {
     "data": {
      "image/png": "[encoded data removed]",
      "text/plain": [
       "<Figure size 640x480 with 1 Axes>"
      ]
     },
     "metadata": {},
     "output_type": "display_data"
    }
   ],
   "source": [
    "f1_scores_train = []\n",
    "f1_scores_test = []\n",
    "\n",
    "for max_depth in max_depth_values:\n",
    "    model = DecisionTreeClassifier(max_depth=max_depth, min_samples_leaf=best_min_samples_leaf)\n",
    "    model.fit(X_train, y_train_bin)\n",
    "    y_preds_train = model.predict(X_train)\n",
    "    y_preds_test = model.predict(X_test)\n",
    "    f1_scores_train.append(f1_score(y_train_bin, y_preds_train))\n",
    "    f1_scores_test.append(f1_score(y_test_bin, y_preds_test))\n",
    "\n",
    "plt.plot(max_depth_values, f1_scores_train, label='training set')\n",
    "plt.plot(max_depth_values, f1_scores_test, label='test set')\n",
    "plt.xlabel('Max Depth')\n",
    "plt.ylabel('F1 Score')\n",
    "plt.legend()\n",
    "plt.grid()\n",
    "plt.show()"
   ]
  },
  {
   "cell_type": "markdown",
   "metadata": {
    "collapsed": false,
    "jupyter": {
     "outputs_hidden": false
    }
   },
   "source": [
    "Based on the plot above we can see that the upper bound for the F1 score on the test set stabilizes at approximately 0.78.. We already get almost the best possible results (on the test set) for `max_depth`~18 and increasing `max_depth` does not give us any significant improvements. Thus, we set `max_depth`=18."
   ]
  },
  {
   "cell_type": "markdown",
   "metadata": {
    "collapsed": false,
    "jupyter": {
     "outputs_hidden": false
    }
   },
   "source": [
    "Final model"
   ]
  },
  {
   "cell_type": "code",
   "execution_count": 15,
   "metadata": {
    "collapsed": false
   },
   "outputs": [],
   "source": [
    "def get_final_model_scores(model):\n",
    "    model.fit(X_train, y_train_bin)\n",
    "\n",
    "    y_preds_test = model.predict(X_test)\n",
    "    test_set_scores_df = get_classification_scores(y_test_bin, y_preds_test).rename(columns={'score': 'test_set'})\n",
    "\n",
    "    y_preds_val = model.predict(X_val)\n",
    "    validation_set_scores_df = get_classification_scores(y_val_bin, y_preds_val).rename(columns={'score': 'validation_set'})\n",
    "\n",
    "    return pd.merge(test_set_scores_df, validation_set_scores_df, on='metric')"
   ]
  },
  {
   "cell_type": "code",
   "execution_count": 16,
   "metadata": {
    "collapsed": false,
    "jupyter": {
     "outputs_hidden": false
    }
   },
   "outputs": [
    {
     "data": {
      "text/html": [
       "<div>\n",
       "<style scoped>\n",
       "    .dataframe tbody tr th:only-of-type {\n",
       "        vertical-align: middle;\n",
       "    }\n",
       "\n",
       "    .dataframe tbody tr th {\n",
       "        vertical-align: top;\n",
       "    }\n",
       "\n",
       "    .dataframe thead th {\n",
       "        text-align: right;\n",
       "    }\n",
       "</style>\n",
       "<table border=\"1\" class=\"dataframe\">\n",
       "  <thead>\n",
       "    <tr style=\"text-align: right;\">\n",
       "      <th></th>\n",
       "      <th>metric</th>\n",
       "      <th>test_set</th>\n",
       "      <th>validation_set</th>\n",
       "    </tr>\n",
       "  </thead>\n",
       "  <tbody>\n",
       "    <tr>\n",
       "      <th>0</th>\n",
       "      <td>Accuracy</td>\n",
       "      <td>0.9324</td>\n",
       "      <td>0.9244</td>\n",
       "    </tr>\n",
       "    <tr>\n",
       "      <th>1</th>\n",
       "      <td>Precision</td>\n",
       "      <td>0.8205</td>\n",
       "      <td>0.8320</td>\n",
       "    </tr>\n",
       "    <tr>\n",
       "      <th>2</th>\n",
       "      <td>Recall</td>\n",
       "      <td>0.7509</td>\n",
       "      <td>0.7190</td>\n",
       "    </tr>\n",
       "    <tr>\n",
       "      <th>3</th>\n",
       "      <td>F1 score</td>\n",
       "      <td>0.7842</td>\n",
       "      <td>0.7714</td>\n",
       "    </tr>\n",
       "  </tbody>\n",
       "</table>\n",
       "</div>"
      ],
      "text/plain": [
       "      metric  test_set  validation_set\n",
       "0   Accuracy    0.9324          0.9244\n",
       "1  Precision    0.8205          0.8320\n",
       "2     Recall    0.7509          0.7190\n",
       "3   F1 score    0.7842          0.7714"
      ]
     },
     "execution_count": 16,
     "metadata": {},
     "output_type": "execute_result"
    }
   ],
   "source": [
    "best_max_depth = 18\n",
    "model = DecisionTreeClassifier(max_depth=best_max_depth, min_samples_leaf=best_min_samples_leaf)\n",
    "bn_decision_tree_final_scores_df = get_final_model_scores(model)\n",
    "bn_decision_tree_final_scores_df"
   ]
  },
  {
   "cell_type": "markdown",
   "metadata": {
    "collapsed": false,
    "jupyter": {
     "outputs_hidden": false
    }
   },
   "source": [
    "#### 2.2. Linear Models"
   ]
  },
  {
   "cell_type": "markdown",
   "metadata": {
    "collapsed": false,
    "jupyter": {
     "outputs_hidden": false
    }
   },
   "source": [
    "Baseline - default LogisticRegression model"
   ]
  },
  {
   "cell_type": "code",
   "execution_count": 17,
   "metadata": {
    "collapsed": false,
    "jupyter": {
     "outputs_hidden": false
    }
   },
   "outputs": [
    {
     "name": "stderr",
     "output_type": "stream",
     "text": [
      "C:\\Users\\antun\\AppData\\Roaming\\Python\\Python311\\site-packages\\sklearn\\linear_model\\_logistic.py:458: ConvergenceWarning: lbfgs failed to converge (status=1):\n",
      "STOP: TOTAL NO. of ITERATIONS REACHED LIMIT.\n",
      "\n",
      "Increase the number of iterations (max_iter) or scale the data as shown in:\n",
      "    https://scikit-learn.org/stable/modules/preprocessing.html\n",
      "Please also refer to the documentation for alternative solver options:\n",
      "    https://scikit-learn.org/stable/modules/linear_model.html#logistic-regression\n",
      "  n_iter_i = _check_optimize_result(\n"
     ]
    },
    {
     "data": {
      "text/html": [
       "<div>\n",
       "<style scoped>\n",
       "    .dataframe tbody tr th:only-of-type {\n",
       "        vertical-align: middle;\n",
       "    }\n",
       "\n",
       "    .dataframe tbody tr th {\n",
       "        vertical-align: top;\n",
       "    }\n",
       "\n",
       "    .dataframe thead th {\n",
       "        text-align: right;\n",
       "    }\n",
       "</style>\n",
       "<table border=\"1\" class=\"dataframe\">\n",
       "  <thead>\n",
       "    <tr style=\"text-align: right;\">\n",
       "      <th></th>\n",
       "      <th>metric</th>\n",
       "      <th>score</th>\n",
       "    </tr>\n",
       "  </thead>\n",
       "  <tbody>\n",
       "    <tr>\n",
       "      <th>0</th>\n",
       "      <td>Accuracy</td>\n",
       "      <td>0.8878</td>\n",
       "    </tr>\n",
       "    <tr>\n",
       "      <th>1</th>\n",
       "      <td>Precision</td>\n",
       "      <td>0.6790</td>\n",
       "    </tr>\n",
       "    <tr>\n",
       "      <th>2</th>\n",
       "      <td>Recall</td>\n",
       "      <td>0.5957</td>\n",
       "    </tr>\n",
       "    <tr>\n",
       "      <th>3</th>\n",
       "      <td>F1 score</td>\n",
       "      <td>0.6346</td>\n",
       "    </tr>\n",
       "  </tbody>\n",
       "</table>\n",
       "</div>"
      ],
      "text/plain": [
       "      metric   score\n",
       "0   Accuracy  0.8878\n",
       "1  Precision  0.6790\n",
       "2     Recall  0.5957\n",
       "3   F1 score  0.6346"
      ]
     },
     "execution_count": 17,
     "metadata": {},
     "output_type": "execute_result"
    }
   ],
   "source": [
    "model = LogisticRegression()\n",
    "model.fit(X_train, y_train_bin)\n",
    "y_pred = model.predict(X_test)\n",
    "\n",
    "get_classification_scores(y_test_bin, y_pred)"
   ]
  },
  {
   "cell_type": "code",
   "execution_count": 18,
   "metadata": {
    "collapsed": false,
    "jupyter": {
     "outputs_hidden": false
    }
   },
   "outputs": [
    {
     "name": "stderr",
     "output_type": "stream",
     "text": [
      "C:\\Users\\antun\\AppData\\Roaming\\Python\\Python311\\site-packages\\sklearn\\linear_model\\_logistic.py:1181: UserWarning: Setting penalty=None will ignore the C and l1_ratio parameters\n",
      "  warnings.warn(\n",
      "C:\\Users\\antun\\AppData\\Roaming\\Python\\Python311\\site-packages\\sklearn\\linear_model\\_logistic.py:458: ConvergenceWarning: lbfgs failed to converge (status=1):\n",
      "STOP: TOTAL NO. of ITERATIONS REACHED LIMIT.\n",
      "\n",
      "Increase the number of iterations (max_iter) or scale the data as shown in:\n",
      "    https://scikit-learn.org/stable/modules/preprocessing.html\n",
      "Please also refer to the documentation for alternative solver options:\n",
      "    https://scikit-learn.org/stable/modules/linear_model.html#logistic-regression\n",
      "  n_iter_i = _check_optimize_result(\n",
      "C:\\Users\\antun\\AppData\\Roaming\\Python\\Python311\\site-packages\\sklearn\\linear_model\\_logistic.py:1181: UserWarning: Setting penalty=None will ignore the C and l1_ratio parameters\n",
      "  warnings.warn(\n",
      "C:\\Users\\antun\\AppData\\Roaming\\Python\\Python311\\site-packages\\sklearn\\linear_model\\_logistic.py:1181: UserWarning: Setting penalty=None will ignore the C and l1_ratio parameters\n",
      "  warnings.warn(\n",
      "C:\\Users\\antun\\AppData\\Roaming\\Python\\Python311\\site-packages\\sklearn\\linear_model\\_logistic.py:1181: UserWarning: Setting penalty=None will ignore the C and l1_ratio parameters\n",
      "  warnings.warn(\n",
      "C:\\Users\\antun\\AppData\\Roaming\\Python\\Python311\\site-packages\\sklearn\\linear_model\\_sag.py:350: ConvergenceWarning: The max_iter was reached which means the coef_ did not converge\n",
      "  warnings.warn(\n",
      "C:\\Users\\antun\\AppData\\Roaming\\Python\\Python311\\site-packages\\sklearn\\linear_model\\_logistic.py:1181: UserWarning: Setting penalty=None will ignore the C and l1_ratio parameters\n",
      "  warnings.warn(\n",
      "C:\\Users\\antun\\AppData\\Roaming\\Python\\Python311\\site-packages\\sklearn\\linear_model\\_sag.py:350: ConvergenceWarning: The max_iter was reached which means the coef_ did not converge\n",
      "  warnings.warn(\n",
      "C:\\Users\\antun\\AppData\\Roaming\\Python\\Python311\\site-packages\\sklearn\\linear_model\\_logistic.py:1181: UserWarning: Setting penalty=None will ignore the C and l1_ratio parameters\n",
      "  warnings.warn(\n",
      "C:\\Users\\antun\\AppData\\Roaming\\Python\\Python311\\site-packages\\sklearn\\linear_model\\_logistic.py:458: ConvergenceWarning: lbfgs failed to converge (status=1):\n",
      "STOP: TOTAL NO. of ITERATIONS REACHED LIMIT.\n",
      "\n",
      "Increase the number of iterations (max_iter) or scale the data as shown in:\n",
      "    https://scikit-learn.org/stable/modules/preprocessing.html\n",
      "Please also refer to the documentation for alternative solver options:\n",
      "    https://scikit-learn.org/stable/modules/linear_model.html#logistic-regression\n",
      "  n_iter_i = _check_optimize_result(\n",
      "C:\\Users\\antun\\AppData\\Roaming\\Python\\Python311\\site-packages\\sklearn\\linear_model\\_logistic.py:1181: UserWarning: Setting penalty=None will ignore the C and l1_ratio parameters\n",
      "  warnings.warn(\n",
      "C:\\Users\\antun\\AppData\\Roaming\\Python\\Python311\\site-packages\\sklearn\\linear_model\\_logistic.py:1181: UserWarning: Setting penalty=None will ignore the C and l1_ratio parameters\n",
      "  warnings.warn(\n",
      "C:\\Users\\antun\\AppData\\Roaming\\Python\\Python311\\site-packages\\sklearn\\linear_model\\_logistic.py:1181: UserWarning: Setting penalty=None will ignore the C and l1_ratio parameters\n",
      "  warnings.warn(\n",
      "C:\\Users\\antun\\AppData\\Roaming\\Python\\Python311\\site-packages\\sklearn\\linear_model\\_sag.py:350: ConvergenceWarning: The max_iter was reached which means the coef_ did not converge\n",
      "  warnings.warn(\n",
      "C:\\Users\\antun\\AppData\\Roaming\\Python\\Python311\\site-packages\\sklearn\\linear_model\\_sag.py:350: ConvergenceWarning: The max_iter was reached which means the coef_ did not converge\n",
      "  warnings.warn(\n",
      "C:\\Users\\antun\\AppData\\Roaming\\Python\\Python311\\site-packages\\sklearn\\linear_model\\_sag.py:350: ConvergenceWarning: The max_iter was reached which means the coef_ did not converge\n",
      "  warnings.warn(\n",
      "C:\\Users\\antun\\AppData\\Roaming\\Python\\Python311\\site-packages\\sklearn\\linear_model\\_logistic.py:1181: UserWarning: Setting penalty=None will ignore the C and l1_ratio parameters\n",
      "  warnings.warn(\n",
      "C:\\Users\\antun\\AppData\\Roaming\\Python\\Python311\\site-packages\\sklearn\\linear_model\\_sag.py:350: ConvergenceWarning: The max_iter was reached which means the coef_ did not converge\n",
      "  warnings.warn(\n",
      "C:\\Users\\antun\\AppData\\Roaming\\Python\\Python311\\site-packages\\sklearn\\linear_model\\_logistic.py:458: ConvergenceWarning: lbfgs failed to converge (status=1):\n",
      "STOP: TOTAL NO. of ITERATIONS REACHED LIMIT.\n",
      "\n",
      "Increase the number of iterations (max_iter) or scale the data as shown in:\n",
      "    https://scikit-learn.org/stable/modules/preprocessing.html\n",
      "Please also refer to the documentation for alternative solver options:\n",
      "    https://scikit-learn.org/stable/modules/linear_model.html#logistic-regression\n",
      "  n_iter_i = _check_optimize_result(\n",
      "C:\\Users\\antun\\AppData\\Roaming\\Python\\Python311\\site-packages\\sklearn\\linear_model\\_logistic.py:1181: UserWarning: Setting penalty=None will ignore the C and l1_ratio parameters\n",
      "  warnings.warn(\n",
      "C:\\Users\\antun\\AppData\\Roaming\\Python\\Python311\\site-packages\\sklearn\\linear_model\\_logistic.py:458: ConvergenceWarning: lbfgs failed to converge (status=1):\n",
      "STOP: TOTAL NO. of ITERATIONS REACHED LIMIT.\n",
      "\n",
      "Increase the number of iterations (max_iter) or scale the data as shown in:\n",
      "    https://scikit-learn.org/stable/modules/preprocessing.html\n",
      "Please also refer to the documentation for alternative solver options:\n",
      "    https://scikit-learn.org/stable/modules/linear_model.html#logistic-regression\n",
      "  n_iter_i = _check_optimize_result(\n",
      "C:\\Users\\antun\\AppData\\Roaming\\Python\\Python311\\site-packages\\sklearn\\linear_model\\_logistic.py:1181: UserWarning: Setting penalty=None will ignore the C and l1_ratio parameters\n",
      "  warnings.warn(\n",
      "C:\\Users\\antun\\AppData\\Roaming\\Python\\Python311\\site-packages\\sklearn\\linear_model\\_logistic.py:1181: UserWarning: Setting penalty=None will ignore the C and l1_ratio parameters\n",
      "  warnings.warn(\n",
      "C:\\Users\\antun\\AppData\\Roaming\\Python\\Python311\\site-packages\\sklearn\\linear_model\\_sag.py:350: ConvergenceWarning: The max_iter was reached which means the coef_ did not converge\n",
      "  warnings.warn(\n",
      "C:\\Users\\antun\\AppData\\Roaming\\Python\\Python311\\site-packages\\sklearn\\linear_model\\_logistic.py:1181: UserWarning: Setting penalty=None will ignore the C and l1_ratio parameters\n",
      "  warnings.warn(\n",
      "C:\\Users\\antun\\AppData\\Roaming\\Python\\Python311\\site-packages\\sklearn\\linear_model\\_sag.py:350: ConvergenceWarning: The max_iter was reached which means the coef_ did not converge\n",
      "  warnings.warn(\n",
      "C:\\Users\\antun\\AppData\\Roaming\\Python\\Python311\\site-packages\\sklearn\\linear_model\\_sag.py:350: ConvergenceWarning: The max_iter was reached which means the coef_ did not converge\n",
      "  warnings.warn(\n",
      "C:\\Users\\antun\\AppData\\Roaming\\Python\\Python311\\site-packages\\sklearn\\linear_model\\_sag.py:350: ConvergenceWarning: The max_iter was reached which means the coef_ did not converge\n",
      "  warnings.warn(\n",
      "C:\\Users\\antun\\AppData\\Roaming\\Python\\Python311\\site-packages\\sklearn\\linear_model\\_logistic.py:1181: UserWarning: Setting penalty=None will ignore the C and l1_ratio parameters\n",
      "  warnings.warn(\n",
      "C:\\Users\\antun\\AppData\\Roaming\\Python\\Python311\\site-packages\\sklearn\\linear_model\\_sag.py:350: ConvergenceWarning: The max_iter was reached which means the coef_ did not converge\n",
      "  warnings.warn(\n",
      "C:\\Users\\antun\\AppData\\Roaming\\Python\\Python311\\site-packages\\sklearn\\linear_model\\_logistic.py:458: ConvergenceWarning: lbfgs failed to converge (status=1):\n",
      "STOP: TOTAL NO. of ITERATIONS REACHED LIMIT.\n",
      "\n",
      "Increase the number of iterations (max_iter) or scale the data as shown in:\n",
      "    https://scikit-learn.org/stable/modules/preprocessing.html\n",
      "Please also refer to the documentation for alternative solver options:\n",
      "    https://scikit-learn.org/stable/modules/linear_model.html#logistic-regression\n",
      "  n_iter_i = _check_optimize_result(\n",
      "C:\\Users\\antun\\AppData\\Roaming\\Python\\Python311\\site-packages\\sklearn\\linear_model\\_logistic.py:458: ConvergenceWarning: lbfgs failed to converge (status=1):\n",
      "STOP: TOTAL NO. of ITERATIONS REACHED LIMIT.\n",
      "\n",
      "Increase the number of iterations (max_iter) or scale the data as shown in:\n",
      "    https://scikit-learn.org/stable/modules/preprocessing.html\n",
      "Please also refer to the documentation for alternative solver options:\n",
      "    https://scikit-learn.org/stable/modules/linear_model.html#logistic-regression\n",
      "  n_iter_i = _check_optimize_result(\n",
      "C:\\Users\\antun\\AppData\\Roaming\\Python\\Python311\\site-packages\\sklearn\\linear_model\\_sag.py:350: ConvergenceWarning: The max_iter was reached which means the coef_ did not converge\n",
      "  warnings.warn(\n",
      "C:\\Users\\antun\\AppData\\Roaming\\Python\\Python311\\site-packages\\sklearn\\linear_model\\_sag.py:350: ConvergenceWarning: The max_iter was reached which means the coef_ did not converge\n",
      "  warnings.warn(\n",
      "C:\\Users\\antun\\AppData\\Roaming\\Python\\Python311\\site-packages\\sklearn\\linear_model\\_sag.py:350: ConvergenceWarning: The max_iter was reached which means the coef_ did not converge\n",
      "  warnings.warn(\n",
      "C:\\Users\\antun\\AppData\\Roaming\\Python\\Python311\\site-packages\\sklearn\\linear_model\\_sag.py:350: ConvergenceWarning: The max_iter was reached which means the coef_ did not converge\n",
      "  warnings.warn(\n",
      "C:\\Users\\antun\\AppData\\Roaming\\Python\\Python311\\site-packages\\sklearn\\linear_model\\_sag.py:350: ConvergenceWarning: The max_iter was reached which means the coef_ did not converge\n",
      "  warnings.warn(\n",
      "C:\\Users\\antun\\AppData\\Roaming\\Python\\Python311\\site-packages\\sklearn\\linear_model\\_logistic.py:458: ConvergenceWarning: lbfgs failed to converge (status=1):\n",
      "STOP: TOTAL NO. of ITERATIONS REACHED LIMIT.\n",
      "\n",
      "Increase the number of iterations (max_iter) or scale the data as shown in:\n",
      "    https://scikit-learn.org/stable/modules/preprocessing.html\n",
      "Please also refer to the documentation for alternative solver options:\n",
      "    https://scikit-learn.org/stable/modules/linear_model.html#logistic-regression\n",
      "  n_iter_i = _check_optimize_result(\n",
      "C:\\Users\\antun\\AppData\\Roaming\\Python\\Python311\\site-packages\\sklearn\\linear_model\\_logistic.py:1181: UserWarning: Setting penalty=None will ignore the C and l1_ratio parameters\n",
      "  warnings.warn(\n",
      "C:\\Users\\antun\\AppData\\Roaming\\Python\\Python311\\site-packages\\sklearn\\linear_model\\_logistic.py:458: ConvergenceWarning: lbfgs failed to converge (status=1):\n",
      "STOP: TOTAL NO. of ITERATIONS REACHED LIMIT.\n",
      "\n",
      "Increase the number of iterations (max_iter) or scale the data as shown in:\n",
      "    https://scikit-learn.org/stable/modules/preprocessing.html\n",
      "Please also refer to the documentation for alternative solver options:\n",
      "    https://scikit-learn.org/stable/modules/linear_model.html#logistic-regression\n",
      "  n_iter_i = _check_optimize_result(\n",
      "C:\\Users\\antun\\AppData\\Roaming\\Python\\Python311\\site-packages\\sklearn\\linear_model\\_logistic.py:1181: UserWarning: Setting penalty=None will ignore the C and l1_ratio parameters\n",
      "  warnings.warn(\n",
      "C:\\Users\\antun\\AppData\\Roaming\\Python\\Python311\\site-packages\\sklearn\\linear_model\\_logistic.py:1181: UserWarning: Setting penalty=None will ignore the C and l1_ratio parameters\n",
      "  warnings.warn(\n",
      "C:\\Users\\antun\\AppData\\Roaming\\Python\\Python311\\site-packages\\sklearn\\linear_model\\_sag.py:350: ConvergenceWarning: The max_iter was reached which means the coef_ did not converge\n",
      "  warnings.warn(\n",
      "C:\\Users\\antun\\AppData\\Roaming\\Python\\Python311\\site-packages\\sklearn\\linear_model\\_logistic.py:1181: UserWarning: Setting penalty=None will ignore the C and l1_ratio parameters\n",
      "  warnings.warn(\n",
      "C:\\Users\\antun\\AppData\\Roaming\\Python\\Python311\\site-packages\\sklearn\\linear_model\\_sag.py:350: ConvergenceWarning: The max_iter was reached which means the coef_ did not converge\n",
      "  warnings.warn(\n",
      "C:\\Users\\antun\\AppData\\Roaming\\Python\\Python311\\site-packages\\sklearn\\linear_model\\_sag.py:350: ConvergenceWarning: The max_iter was reached which means the coef_ did not converge\n",
      "  warnings.warn(\n",
      "C:\\Users\\antun\\AppData\\Roaming\\Python\\Python311\\site-packages\\sklearn\\linear_model\\_sag.py:350: ConvergenceWarning: The max_iter was reached which means the coef_ did not converge\n",
      "  warnings.warn(\n",
      "C:\\Users\\antun\\AppData\\Roaming\\Python\\Python311\\site-packages\\sklearn\\linear_model\\_logistic.py:1181: UserWarning: Setting penalty=None will ignore the C and l1_ratio parameters\n",
      "  warnings.warn(\n",
      "C:\\Users\\antun\\AppData\\Roaming\\Python\\Python311\\site-packages\\sklearn\\linear_model\\_sag.py:350: ConvergenceWarning: The max_iter was reached which means the coef_ did not converge\n",
      "  warnings.warn(\n"
     ]
    },
    {
     "data": {
      "text/html": [
       "<div>\n",
       "<style scoped>\n",
       "    .dataframe tbody tr th:only-of-type {\n",
       "        vertical-align: middle;\n",
       "    }\n",
       "\n",
       "    .dataframe tbody tr th {\n",
       "        vertical-align: top;\n",
       "    }\n",
       "\n",
       "    .dataframe thead th {\n",
       "        text-align: right;\n",
       "    }\n",
       "</style>\n",
       "<table border=\"1\" class=\"dataframe\">\n",
       "  <thead>\n",
       "    <tr style=\"text-align: right;\">\n",
       "      <th></th>\n",
       "      <th>c</th>\n",
       "      <th>solver</th>\n",
       "      <th>penalty</th>\n",
       "      <th>F1</th>\n",
       "    </tr>\n",
       "  </thead>\n",
       "  <tbody>\n",
       "    <tr>\n",
       "      <th>54</th>\n",
       "      <td>10.00</td>\n",
       "      <td>liblinear</td>\n",
       "      <td>l1</td>\n",
       "      <td>0.670300</td>\n",
       "    </tr>\n",
       "    <tr>\n",
       "      <th>44</th>\n",
       "      <td>1.00</td>\n",
       "      <td>newton-cg</td>\n",
       "      <td>None</td>\n",
       "      <td>0.666667</td>\n",
       "    </tr>\n",
       "    <tr>\n",
       "      <th>33</th>\n",
       "      <td>0.10</td>\n",
       "      <td>newton-cholesky</td>\n",
       "      <td>None</td>\n",
       "      <td>0.666667</td>\n",
       "    </tr>\n",
       "    <tr>\n",
       "      <th>20</th>\n",
       "      <td>0.01</td>\n",
       "      <td>newton-cholesky</td>\n",
       "      <td>None</td>\n",
       "      <td>0.666667</td>\n",
       "    </tr>\n",
       "    <tr>\n",
       "      <th>18</th>\n",
       "      <td>0.01</td>\n",
       "      <td>newton-cg</td>\n",
       "      <td>None</td>\n",
       "      <td>0.666667</td>\n",
       "    </tr>\n",
       "  </tbody>\n",
       "</table>\n",
       "</div>"
      ],
      "text/plain": [
       "        c           solver penalty        F1\n",
       "54  10.00        liblinear      l1  0.670300\n",
       "44   1.00        newton-cg    None  0.666667\n",
       "33   0.10  newton-cholesky    None  0.666667\n",
       "20   0.01  newton-cholesky    None  0.666667\n",
       "18   0.01        newton-cg    None  0.666667"
      ]
     },
     "execution_count": 18,
     "metadata": {},
     "output_type": "execute_result"
    }
   ],
   "source": [
    "c_values = [0.001, 0.01, 0.1, 1, 10]\n",
    "solver_and_penalty = {'lbfgs': ['l2', None], 'liblinear': ['l1', 'l2'], 'newton-cg': ['l2', None],\n",
    "                      'newton-cholesky': ['l2', None], 'sag': ['l2', None], 'saga': ['l1', 'l2', None]}\n",
    "\n",
    "results = {\"c\": [], \"solver\": [], \"penalty\": [], \"F1\": []}\n",
    "\n",
    "for c in c_values:\n",
    "    for solver in solver_and_penalty.keys():\n",
    "        for penalty in solver_and_penalty[solver]:\n",
    "            model = LogisticRegression(C=c, solver=solver, penalty=penalty)\n",
    "            model.fit(X_train, y_train_bin)\n",
    "            y_pred_test = model.predict(X_test)\n",
    "            f1 = f1_score(y_test_bin, y_pred_test)\n",
    "\n",
    "            results['c'].append(c)\n",
    "            results['solver'].append(solver)\n",
    "            results['penalty'].append(penalty)\n",
    "            results['F1'].append(f1)\n",
    "\n",
    "scores_df = pd.DataFrame(results, index=None)\n",
    "scores_df = scores_df.sort_values(by=\"F1\", ascending=False)\n",
    "\n",
    "best_c = scores_df.iloc[0].c # any\n",
    "best_solver = scores_df.iloc[0].solver # newton-cg/newton-cholesky\n",
    "best_penalty = scores_df.iloc[0].penalty # None\n",
    "\n",
    "scores_df.head()"
   ]
  },
  {
   "cell_type": "markdown",
   "metadata": {
    "collapsed": false,
    "jupyter": {
     "outputs_hidden": false
    }
   },
   "source": [
    "Final Model"
   ]
  },
  {
   "cell_type": "code",
   "execution_count": 19,
   "metadata": {
    "collapsed": false
   },
   "outputs": [
    {
     "data": {
      "text/html": [
       "<div>\n",
       "<style scoped>\n",
       "    .dataframe tbody tr th:only-of-type {\n",
       "        vertical-align: middle;\n",
       "    }\n",
       "\n",
       "    .dataframe tbody tr th {\n",
       "        vertical-align: top;\n",
       "    }\n",
       "\n",
       "    .dataframe thead th {\n",
       "        text-align: right;\n",
       "    }\n",
       "</style>\n",
       "<table border=\"1\" class=\"dataframe\">\n",
       "  <thead>\n",
       "    <tr style=\"text-align: right;\">\n",
       "      <th></th>\n",
       "      <th>metric</th>\n",
       "      <th>test_set</th>\n",
       "      <th>validation_set</th>\n",
       "    </tr>\n",
       "  </thead>\n",
       "  <tbody>\n",
       "    <tr>\n",
       "      <th>0</th>\n",
       "      <td>Accuracy</td>\n",
       "      <td>0.8929</td>\n",
       "      <td>0.8961</td>\n",
       "    </tr>\n",
       "    <tr>\n",
       "      <th>1</th>\n",
       "      <td>Precision</td>\n",
       "      <td>0.6746</td>\n",
       "      <td>0.7331</td>\n",
       "    </tr>\n",
       "    <tr>\n",
       "      <th>2</th>\n",
       "      <td>Recall</td>\n",
       "      <td>0.6661</td>\n",
       "      <td>0.6511</td>\n",
       "    </tr>\n",
       "    <tr>\n",
       "      <th>3</th>\n",
       "      <td>F1 score</td>\n",
       "      <td>0.6703</td>\n",
       "      <td>0.6897</td>\n",
       "    </tr>\n",
       "  </tbody>\n",
       "</table>\n",
       "</div>"
      ],
      "text/plain": [
       "      metric  test_set  validation_set\n",
       "0   Accuracy    0.8929          0.8961\n",
       "1  Precision    0.6746          0.7331\n",
       "2     Recall    0.6661          0.6511\n",
       "3   F1 score    0.6703          0.6897"
      ]
     },
     "execution_count": 19,
     "metadata": {},
     "output_type": "execute_result"
    }
   ],
   "source": [
    "model = LogisticRegression(C=best_c, solver=best_solver, penalty=best_penalty)\n",
    "bn_linear_model_final_scores_df = get_final_model_scores(model)\n",
    "bn_linear_model_final_scores_df"
   ]
  }
 ],
 "metadata": {
  "kernelspec": {
   "display_name": "Python 3 (ipykernel)",
   "language": "python",
   "name": "python3"
  },
  "language_info": {
   "codemirror_mode": {
    "name": "ipython",
    "version": 3
   },
   "file_extension": ".py",
   "mimetype": "text/x-python",
   "name": "python",
   "nbconvert_exporter": "python",
   "pygments_lexer": "ipython3",
   "version": "3.11.2"
  }
 },
 "nbformat": 4,
 "nbformat_minor": 4
}
